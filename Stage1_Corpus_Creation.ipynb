{
 "cells": [
  {
   "cell_type": "markdown",
   "id": "52485adc-b9f7-4482-bbe7-46c75319b4c8",
   "metadata": {},
   "source": [
    "# HITL-SCC_Workflow Stage 1 : Corpus Setup"
   ]
  },
  {
   "cell_type": "markdown",
   "id": "56b35202-102e-4e75-bc85-8a3200663ca9",
   "metadata": {},
   "source": [
    "This stage represents the first step of the Scientific Content Creation Workflow, which represents a user interactive pipeline to systematically extract knowledge from a corpus of scientific literature. \n",
    "\n",
    "This should help the user have better insights into key contents of the corpus.\n",
    "\n",
    "This notebook provides a step-by-step, instruction based approach from setting up the corpus to extracting and representing knowledge relevant to your research interest until creating a ready-to-import CSV file for the ORKG. \n",
    "\n",
    "The first stage is to support you in the process of retrieving a set of relevant literature.\n",
    "\n",
    "Based on your research interest, this workflow should support you in formalizing effective search queries. "
   ]
  },
  {
   "cell_type": "markdown",
   "id": "530d816e-f8f2-403f-b634-0221a6e378cb",
   "metadata": {},
   "source": [
    "<div class=\"alert alert-block alert-info\"> <b>Note:</b> By the end of the tasks starting, it will result in creating the scientific corpus.\n",
    "</div>"
   ]
  },
  {
   "cell_type": "markdown",
   "id": "d8a2cbe4-a2ac-43c7-87c3-8c6f5c4491ab",
   "metadata": {},
   "source": [
    "**Task 1: Formalize research interest**"
   ]
  },
  {
   "cell_type": "markdown",
   "id": "8a143a25-ac42-44cd-942c-84ec49ab5cd0",
   "metadata": {},
   "source": [
    "Begin by entering your research interest in the provided text area. This could be a concise statement summarizing your field of study or a specific problem you are investigating.\n",
    "\n",
    "For this, we would use an LLM to assist you in generating search keywords.\n",
    "\n",
    "Click the **'Generate Keywords'** button to let the integrated LLM analyze your input and produce a list of keywords relevant to your research interest."
   ]
  },
  {
   "cell_type": "markdown",
   "id": "d7f02e19-4293-493a-9574-df689bff4244",
   "metadata": {},
   "source": [
    "The generated keywords will help define your search queries needed for the next task."
   ]
  },
  {
   "cell_type": "code",
   "execution_count": 7,
   "id": "cf2c8aaa-e587-49e3-a120-46b618099950",
   "metadata": {
    "jupyter": {
     "source_hidden": true
    },
    "scrolled": true
   },
   "outputs": [
    {
     "data": {
      "application/vnd.jupyter.widget-view+json": {
       "model_id": "fdab4bcd079545d5a8d9117a32e2ee68",
       "version_major": 2,
       "version_minor": 0
      },
      "text/plain": [
       "Textarea(value='', description='Research Interest:', layout=Layout(height='80px', width='80%'), placeholder='E…"
      ]
     },
     "metadata": {},
     "output_type": "display_data"
    },
    {
     "data": {
      "application/vnd.jupyter.widget-view+json": {
       "model_id": "11b4e15953674644ba5fb6636253f129",
       "version_major": 2,
       "version_minor": 0
      },
      "text/plain": [
       "Button(button_style='success', description='Generate keywords', icon='search', style=ButtonStyle(), tooltip='C…"
      ]
     },
     "metadata": {},
     "output_type": "display_data"
    },
    {
     "data": {
      "application/vnd.jupyter.widget-view+json": {
       "model_id": "162611fe113d4eb088b5bc84e7d0d403",
       "version_major": 2,
       "version_minor": 0
      },
      "text/plain": [
       "Output()"
      ]
     },
     "metadata": {},
     "output_type": "display_data"
    }
   ],
   "source": [
    "import os\n",
    "import ipywidgets as widgets\n",
    "from IPython.display import display\n",
    "from mistralai import Mistral \n",
    "from dotenv import load_dotenv\n",
    "\n",
    "load_dotenv()\n",
    "\n",
    "research_interest_input = widgets.Textarea(\n",
    "    value='', \n",
    "    placeholder='Enter your formalized research interest here...',\n",
    "    description='Research Interest:',\n",
    "    layout=widgets.Layout(width='80%', height='80px')\n",
    ")\n",
    "\n",
    "generate_button = widgets.Button(\n",
    "    description='Generate keywords',\n",
    "    button_style='success',\n",
    "    tooltip='Click to generate keywords based on your research interest',\n",
    "    icon='search'\n",
    ")\n",
    "\n",
    "output_task1 = widgets.Output()\n",
    "\n",
    "s = Mistral(api_key=os.getenv('MISTRALAI'))\n",
    "\n",
    "def generate_queries(_):\n",
    "\n",
    "    with output_task1:\n",
    "        output_task1.clear_output()\n",
    "        loading_label = widgets.Label(value=\"⏳ Loading...\")\n",
    "        display(loading_label)\n",
    "        research_interest = research_interest_input.value.strip()\n",
    "        if not research_interest:\n",
    "            print(\"Please provide a valid research interest.\")\n",
    "            return\n",
    "        \n",
    "        prompt = (\n",
    "            f\"You are an expert researcher. Based on the following research interest, \"\n",
    "            f\"generate a list of 10 keywords that could help retrieve relevant academic papers. \"\n",
    "            f\"Your will respond ONLY in bullet points as keywords. \"\n",
    "            f\"Research Interest: {research_interest}\"\n",
    "        )\n",
    "        \n",
    "        try:\n",
    "            res = s.chat.complete(\n",
    "                model=\"mistral-large-latest\",\n",
    "                messages=[\n",
    "                    {\"content\": prompt, \"role\": \"user\"}\n",
    "                ]\n",
    "            )\n",
    "            \n",
    "            generated_queries = res.choices[0].message.content\n",
    "            clear_output()\n",
    "            if not generated_queries:\n",
    "                print(\"No keywords were generated. Please refine your research interest.\")\n",
    "            else:\n",
    "                \n",
    "                print(\"Generated keywords:\")\n",
    "                print(generated_queries)\n",
    "        \n",
    "        except Exception as e:\n",
    "            print(f\"An error occurred while generating keywords: {e}\")\n",
    "\n",
    "generate_button.on_click(generate_queries)\n",
    "\n",
    "display(research_interest_input, generate_button, output_task1)\n"
   ]
  },
  {
   "cell_type": "markdown",
   "id": "0c80ad11-5c09-4f0d-a475-c70cbe561817",
   "metadata": {},
   "source": [
    "**Task 2: Define search query**"
   ]
  },
  {
   "cell_type": "markdown",
   "id": "6a4aedba-0713-4853-8d83-4bd1263dd898",
   "metadata": {},
   "source": [
    "Using the keywords generated in the previous step, construct a search query and input it into the text field labeled **'Search Query'**.\n",
    "\n",
    "Feel free to modify or enhance the search query based on your specific needs or additional insights."
   ]
  },
  {
   "cell_type": "code",
   "execution_count": 10,
   "id": "de9e9135-045f-4bdf-aa31-fd53e4740a3d",
   "metadata": {
    "jupyter": {
     "source_hidden": true
    },
    "scrolled": true
   },
   "outputs": [
    {
     "data": {
      "application/vnd.jupyter.widget-view+json": {
       "model_id": "a0910d59f23441e2aa97488de098f1a7",
       "version_major": 2,
       "version_minor": 0
      },
      "text/plain": [
       "Text(value='', placeholder='Your search query here')"
      ]
     },
     "metadata": {},
     "output_type": "display_data"
    }
   ],
   "source": [
    "# To see the code click here\n",
    "import ipywidgets as widgets\n",
    "from IPython.display import display\n",
    "\n",
    "papers_search_query=''\n",
    "\n",
    "input_widget = widgets.Text(\n",
    "    value='',\n",
    "    placeholder='Your search query here',\n",
    "    disabled=False\n",
    ")\n",
    "def save_input(change):\n",
    "    global papers_search_query\n",
    "    papers_search_query = change['new']\n",
    "\n",
    "input_widget.observe(save_input, names='value')\n",
    "\n",
    "display(input_widget)"
   ]
  },
  {
   "cell_type": "markdown",
   "id": "d2de41b4-76ef-496f-8cec-74b414ce71cc",
   "metadata": {},
   "source": [
    "**Task 3: Define search limit size**\n",
    "\n",
    "The next task is to define the size of the publications to render. \n",
    "\n",
    "Adjust the search limit using the interactive slider. This allows you to control the number of results retrieved from each source.\n",
    "\n",
    "Move the slider to select a number that reflects the scope of your search. The default number is 20 elements per source."
   ]
  },
  {
   "cell_type": "code",
   "execution_count": 12,
   "id": "3efb4161-564b-4820-be92-6a3accb1304a",
   "metadata": {
    "jupyter": {
     "source_hidden": true
    }
   },
   "outputs": [
    {
     "data": {
      "application/vnd.jupyter.widget-view+json": {
       "model_id": "3ad27bb3197344e5a6378e84a9f93718",
       "version_major": 2,
       "version_minor": 0
      },
      "text/plain": [
       "IntSlider(value=20, description='Documents Limit:', layout=Layout(width='400px'), min=10, style=SliderStyle(de…"
      ]
     },
     "metadata": {},
     "output_type": "display_data"
    }
   ],
   "source": [
    "from corpus.widgets.widgets_util import DocumentLimitSlider\n",
    "slider_widget = DocumentLimitSlider()\n",
    "get_value_func = slider_widget.display_slider()\n"
   ]
  },
  {
   "cell_type": "markdown",
   "id": "04cb6e1b-b45e-42b8-8896-11b79bfdd433",
   "metadata": {},
   "source": [
    "**Task 4: Define sources**\n",
    "\n",
    "Select the sources you wish to query using the checkboxes provided below. Available sources may include databases like **ArXiv**, **Semantic Scholar**, or/and **Google Scholar**.\n"
   ]
  },
  {
   "cell_type": "code",
   "execution_count": 14,
   "id": "1b35d7e9-7775-48c3-b43e-a73f10fea50c",
   "metadata": {
    "jupyter": {
     "source_hidden": true
    }
   },
   "outputs": [
    {
     "data": {
      "application/vnd.jupyter.widget-view+json": {
       "model_id": "2283bb1890ad439c8bcfc66382f4cf8c",
       "version_major": 2,
       "version_minor": 0
      },
      "text/plain": [
       "Text(value='', placeholder='Enter a new option')"
      ]
     },
     "metadata": {},
     "output_type": "display_data"
    },
    {
     "data": {
      "application/vnd.jupyter.widget-view+json": {
       "model_id": "d5541a13783f45a79efd030d7f9e1b8e",
       "version_major": 2,
       "version_minor": 0
      },
      "text/plain": [
       "Button(description='Add Option', style=ButtonStyle())"
      ]
     },
     "metadata": {},
     "output_type": "display_data"
    },
    {
     "data": {
      "application/vnd.jupyter.widget-view+json": {
       "model_id": "bce4b0a69c394e3a8aa8ebb867c2f734",
       "version_major": 2,
       "version_minor": 0
      },
      "text/plain": [
       "Button(description='Delete Selected Options', style=ButtonStyle())"
      ]
     },
     "metadata": {},
     "output_type": "display_data"
    },
    {
     "data": {
      "application/vnd.jupyter.widget-view+json": {
       "model_id": "36828a08898a4e2ea1a4e40db2c61dd2",
       "version_major": 2,
       "version_minor": 0
      },
      "text/plain": [
       "VBox(children=(Checkbox(value=False, description='Arxiv'), Checkbox(value=False, description='Semantic Scholar…"
      ]
     },
     "metadata": {},
     "output_type": "display_data"
    }
   ],
   "source": [
    "from corpus.widgets.widgets_util import DynamicSourceList\n",
    "dynamic_checkbox_list = DynamicSourceList()\n",
    "dynamic_checkbox_list.display_interface()"
   ]
  },
  {
   "cell_type": "markdown",
   "id": "fc3cf089-27f2-47b0-add9-4ac5ee074cd1",
   "metadata": {},
   "source": [
    "**Task 5: Choose Whether to Display Only Results with Available PDFs or Include Abstract Results**\n",
    "\n",
    "Use the provided toggle buttons below to decide how comprehensive your results should be: select whether you want to view only elements with available PDFs or include those with abstracts only.\n",
    "\n",
    "If you prioritize full access to documents, choose the option to display only results with PDFs. This ensures that all retrieved items can be downloaded and read in full.\n",
    "\n",
    "Alternatively, if abstracts are sufficient for your initial exploration or if PDFs are unavailable, select the option to include results with abstracts only"
   ]
  },
  {
   "cell_type": "code",
   "execution_count": 16,
   "id": "23df09b8-0753-48ba-adc9-2a123cdc4163",
   "metadata": {
    "jupyter": {
     "source_hidden": true
    }
   },
   "outputs": [
    {
     "data": {
      "application/vnd.jupyter.widget-view+json": {
       "model_id": "017b3d907b424155ae66ff9e2b3fc74d",
       "version_major": 2,
       "version_minor": 0
      },
      "text/plain": [
       "ToggleButton(value=True, description='PDF only', tooltip='Include sources only if PDFs are available')"
      ]
     },
     "metadata": {},
     "output_type": "display_data"
    },
    {
     "data": {
      "application/vnd.jupyter.widget-view+json": {
       "model_id": "5fefff9b66a34a01bdc4416e3da45c57",
       "version_major": 2,
       "version_minor": 0
      },
      "text/plain": [
       "ToggleButton(value=False, description='Abtracts and PDF', tooltip='Include abstracts when no PDF is found')"
      ]
     },
     "metadata": {},
     "output_type": "display_data"
    }
   ],
   "source": [
    "import ipywidgets as widgets\n",
    "from IPython.display import display\n",
    "\n",
    "toggle_include_abstracts = widgets.ToggleButton(\n",
    "    value=False,\n",
    "    description=\"Abtracts and PDF\",\n",
    "    tooltip=\"Include abstracts when no PDF is found\"\n",
    ")\n",
    "\n",
    "toggle_only_pdfs = widgets.ToggleButton(\n",
    "    value=True, \n",
    "    description=\"PDF only\",\n",
    "    tooltip=\"Include sources only if PDFs are available\"\n",
    ")\n",
    "\n",
    "def on_toggle_change(change):\n",
    "    if change['owner'] == toggle_include_abstracts and change['new']:\n",
    "        toggle_only_pdfs.value = False\n",
    "    elif change['owner'] == toggle_only_pdfs and change['new']:\n",
    "        toggle_include_abstracts.value = False\n",
    "\n",
    "toggle_include_abstracts.observe(on_toggle_change, names='value')\n",
    "toggle_only_pdfs.observe(on_toggle_change, names='value')\n",
    "\n",
    "display(toggle_only_pdfs, toggle_include_abstracts)\n"
   ]
  },
  {
   "cell_type": "markdown",
   "id": "88a334f6-a281-45b3-a782-2cb9acb097f3",
   "metadata": {},
   "source": [
    "**Task 6: Display results**\n",
    "\n",
    "Once all inputs have been configured—research interest, search query, sources, search limits, and result type preferences—proceed with starting the search process by clicking on the \"Query and display results\" button.\n",
    "\n",
    "Carefully review the retrieved items and use the checkboxes to mark the ones most relevant to your research."
   ]
  },
  {
   "cell_type": "code",
   "execution_count": 18,
   "id": "a830d001-f354-4a3a-ace3-e4c02f0f71f3",
   "metadata": {
    "scrolled": true
   },
   "outputs": [
    {
     "data": {
      "application/vnd.jupyter.widget-view+json": {
       "model_id": "aaedf4e1162847c498338cbc2f08f04d",
       "version_major": 2,
       "version_minor": 0
      },
      "text/plain": [
       "Button(description='Query and display results', layout=Layout(width='200px'), style=ButtonStyle())"
      ]
     },
     "metadata": {},
     "output_type": "display_data"
    },
    {
     "data": {
      "application/vnd.jupyter.widget-view+json": {
       "model_id": "8201d60afa464921ae3db6a4246a01b1",
       "version_major": 2,
       "version_minor": 0
      },
      "text/plain": [
       "Output()"
      ]
     },
     "metadata": {},
     "output_type": "display_data"
    }
   ],
   "source": [
    "#Click to collapse code\n",
    "from semanticscholar import SemanticScholar\n",
    "from corpus.util.arxiv_api import Arxiv\n",
    "from serpapi import GoogleScholarSearch\n",
    "import ipywidgets as widgets\n",
    "from IPython.display import display, clear_output\n",
    "import os\n",
    "from dotenv import load_dotenv\n",
    "\n",
    "load_dotenv()\n",
    "\n",
    "\n",
    "def truncate_text(text, limit):\n",
    "    if len(text) > limit:\n",
    "        return text[:limit] + \"...\"\n",
    "    return text\n",
    "\n",
    "def process_and_display_sources(query, sources, max_results=slider_widget.get_current_value()):\n",
    "    global results \n",
    "    results = []\n",
    "    progress_bar = widgets.IntProgress(\n",
    "        value=0,\n",
    "        min=0,\n",
    "        max=len(sources),\n",
    "        description='Progress:',\n",
    "        bar_style='info',\n",
    "        orientation='horizontal'\n",
    "    )\n",
    "    display(progress_bar)\n",
    "\n",
    "    for idx, source in enumerate(sources):\n",
    "        if source == \"Arxiv\":\n",
    "            arxiv_instance = Arxiv()\n",
    "            results += arxiv_instance.query_arxiv(query, max_results, \"relevance\", True)\n",
    "        \n",
    "        elif source == \"Semantic Scholar\":\n",
    "            sch = SemanticScholar()\n",
    "            smscholar = sch.search_paper(query, limit=max_results)\n",
    "            for i in smscholar.items:\n",
    "                results.append([\n",
    "                    i.title, \n",
    "                    \", \".join(author['name'] for author in i.authors), \n",
    "                    i.abstract, \n",
    "                    i.publicationDate, \n",
    "                    None if i.openAccessPdf is None else i.openAccessPdf.get('url')\n",
    "                ])\n",
    "        \n",
    "        elif source == \"Google Scholar\":\n",
    "            params = {\n",
    "                \"api_key\": os.getenv('GOOGLESCHOLAR'),\n",
    "                \"engine\": \"google_scholar\",\n",
    "                \"hl\": \"en\",\n",
    "                \"q\": query,\n",
    "                \"num\":max_results\n",
    "            }\n",
    "            search = GoogleScholarSearch(params)\n",
    "            gsresult = search.get_dict()\n",
    "            for i in gsresult.get(\"organic_results\", []):\n",
    "                if i.get(\"resources\") and i[\"publication_info\"].get(\"authors\"):\n",
    "                    results.append([\n",
    "                        i[\"title\"], \n",
    "                        \"; \".join(author[\"name\"] for author in i[\"publication_info\"][\"authors\"]), \n",
    "                        i[\"snippet\"], \n",
    "                        None, \n",
    "                        i[\"resources\"][0][\"link\"]\n",
    "                    ])\n",
    "                elif i.get(\"resources\"):\n",
    "                    results.append([\n",
    "                        i[\"title\"], \n",
    "                        \"; \".join(i[\"publication_info\"][\"summary\"]), \n",
    "                        i[\"snippet\"], \n",
    "                        None, \n",
    "                        i[\"resources\"][0][\"link\"]\n",
    "                    ])\n",
    "                else:\n",
    "                    results.append([\n",
    "                        i[\"title\"], \n",
    "                        \"; \".join(i[\"publication_info\"][\"summary\"]), \n",
    "                        i[\"snippet\"], \n",
    "                        None, \n",
    "                        None\n",
    "                    ])\n",
    "        \n",
    "        else:\n",
    "            print(f\"Unknown source specified: {source}\")\n",
    "        \n",
    "        progress_bar.value = idx + 1\n",
    "    \n",
    "    clear_output(wait=True)\n",
    "\n",
    "    accordion = widgets.Accordion(\n",
    "        layout=widgets.Layout(width='900px', overflow='hidden', white_space='nowrap', text_overflow='ellipsis')\n",
    "    )\n",
    "    global checkboxes\n",
    "    checkboxes = []\n",
    "    accordion_children = []\n",
    "\n",
    "    filter_results = [item for item in results if item[4] is not None]\n",
    "\n",
    "    for i, result in enumerate(filter_results):\n",
    "        title, authors, abstract, date, link = result\n",
    "        \n",
    "        checkbox = widgets.Checkbox(value=False, layout=widgets.Layout(margin='7.4px 0px'))\n",
    "        checkboxes.append(checkbox)\n",
    "        \n",
    "        text_widget = widgets.HTMLMath(\n",
    "            value=f\"\"\"\n",
    "            <h4>{title}</h4>\n",
    "            <p><strong>Abstract:</strong> {abstract or 'No abstract available.'}</p>\n",
    "            <p><strong>Authors:</strong> {authors}</p>\n",
    "            <p><strong>Published:</strong> {date or 'Date not available'}</p>\n",
    "                    <p>\n",
    "            <a href=\"{link}\" target=\"_blank\" style=\"color: blue; text-decoration: underline;\">\n",
    "                Read more\n",
    "            </a>\n",
    "        </p>\n",
    "            \"\"\"\n",
    "        )\n",
    "        section_content = widgets.VBox([text_widget])\n",
    "        accordion_children.append(section_content)\n",
    "\n",
    "    accordion.children = tuple(accordion_children)\n",
    "\n",
    "\n",
    "    for i, result in enumerate(filter_results):\n",
    "        accordion.set_title(i, truncate_text(result[0],130))\n",
    "\n",
    "    checkbox_container = widgets.VBox(\n",
    "        checkboxes,\n",
    "        layout=widgets.Layout(align_items='flex-start', margin='0px')\n",
    "    )\n",
    "    \n",
    "    accordion.layout.margin = '0px 0px 0px -180px'\n",
    "    layout = widgets.HBox([checkbox_container, accordion], layout=widgets.Layout(spacing='0px'))\n",
    "\n",
    "    display(layout)\n",
    "\n",
    "\n",
    "button_query = widgets.Button(description=\"Query and display results\", layout=widgets.Layout(width=\"200px\"))\n",
    "output_query = widgets.Output()\n",
    "\n",
    "display(button_query, output_query)\n",
    "\n",
    "def button_click(b):\n",
    "    with output_query:\n",
    "        sources = dynamic_checkbox_list.get_selected_options()\n",
    "        query = papers_search_query\n",
    "        process_and_display_sources(query, sources)\n",
    "        \n",
    "\n",
    "\n",
    "button_query.on_click(button_click)\n"
   ]
  },
  {
   "cell_type": "markdown",
   "id": "dc90f7ba-1ae8-4fc9-882a-ddaaa360c085",
   "metadata": {},
   "source": [
    "**Task 6: Click the Button to Download Selected Papers**\n",
    "\n",
    "Once your selection is complete, click the 'Download Selected Papers' button provided below."
   ]
  },
  {
   "cell_type": "code",
   "execution_count": 20,
   "id": "1f135675-5851-4901-a5a7-6c8a709d0a4b",
   "metadata": {
    "jupyter": {
     "source_hidden": true
    }
   },
   "outputs": [
    {
     "data": {
      "application/vnd.jupyter.widget-view+json": {
       "model_id": "35c59252948140148f8806f606a420eb",
       "version_major": 2,
       "version_minor": 0
      },
      "text/plain": [
       "Button(description='Download Selected Papers', style=ButtonStyle())"
      ]
     },
     "metadata": {},
     "output_type": "display_data"
    },
    {
     "data": {
      "application/vnd.jupyter.widget-view+json": {
       "model_id": "a88667ca82624312894bc197d5536c56",
       "version_major": 2,
       "version_minor": 0
      },
      "text/plain": [
       "Output()"
      ]
     },
     "metadata": {},
     "output_type": "display_data"
    }
   ],
   "source": [
    "from IPython.display import display\n",
    "import requests\n",
    "import re\n",
    "\n",
    "save_folder = \"./corpus_result/\"\n",
    "\n",
    "\n",
    "def sanitize_filename(filename):\n",
    "    sanitized = re.sub(r'[^\\w\\-_\\.]', '_', filename)\n",
    "    return sanitized\n",
    "\n",
    "def download_pdf(name, url, save_path):\n",
    "    try:\n",
    "        response = requests.get(url)\n",
    "        if response.status_code == 200:\n",
    "            print(f\"'{name}'. Downloaded succesfully\")\n",
    "            with open(save_path, \"wb\") as f:\n",
    "                f.write(response.content)\n",
    "        else:\n",
    "            print(f\"Failed to download {name}. Status code: {response.status_code}\")\n",
    "    except: \n",
    "        print(f\"{name}: No PDF accessible to download\")\n",
    "\n",
    "\n",
    "\n",
    "button = widgets.Button(description=\"Download Selected Papers\")\n",
    "output_task6 = widgets.Output()\n",
    "\n",
    "display(button, output_task6)\n",
    "\n",
    "def on_button_clicked(b):\n",
    "    with output_task6:\n",
    "        output_task6.clear_output()\n",
    "        selected_indexes = [i for i, checkbox in enumerate(checkboxes) if checkbox.value]\n",
    "        for index in selected_indexes:\n",
    "            file_name = f\"{sanitize_filename(results[index][0])}.pdf\"\n",
    "            save_path = f\"{save_folder}{file_name}\"\n",
    "            download_pdf(results[index][0], results[index][4], save_path)\n",
    "        output_task6.clear_output()\n",
    "        download_label = widgets.Label(value=\"✅ task completed!\")\n",
    "        display(download_label)\n",
    "\n",
    "\n",
    "button.on_click(on_button_clicked)"
   ]
  },
  {
   "cell_type": "markdown",
   "id": "e26b503c-07f1-49ab-a4f4-82cc69f82769",
   "metadata": {},
   "source": [
    "<div class=\"alert alert-block alert-info\"> <b>Note:</b> After clicking the 'Download Selected Papers' button, the system actively downloaded the selected papers and added them to your scientific corpus in the folder \"corpus_result\". You can revisit the folder and go through the PDF files if you wish.</div>"
   ]
  },
  {
   "cell_type": "markdown",
   "id": "88774f6a-ab44-4833-a90f-2869c41cbaca",
   "metadata": {},
   "source": [
    "**(Optional) Task 7: Retry the Process for Additional Papers**\n",
    "\n",
    "If you want to expand or refine your corpus further, you can revisit the previous steps to adjust your search parameters. This includes updating the search query, changing the search limits, or selecting different sources. For this, you will need to rerun all cells from the start. By clicking on the \"Fast Forward\" button in the notebook tab bar."
   ]
  },
  {
   "cell_type": "markdown",
   "id": "96040604-b0de-48d8-a873-c760512a4042",
   "metadata": {},
   "source": [
    "**Task 8: Digital Object Identifier**\n",
    "\n",
    "This task automates the process of extracting the doi for each downloaded paper. The doi numbers are saved in a csv file \"doi_list\". \n",
    "\n",
    "This task is crucial to facilitate identifying the papers in later steps."
   ]
  },
  {
   "cell_type": "code",
   "execution_count": 24,
   "id": "d4b94ab1-5133-4713-8cfa-350857d469d3",
   "metadata": {
    "jupyter": {
     "source_hidden": true
    }
   },
   "outputs": [
    {
     "data": {
      "application/vnd.jupyter.widget-view+json": {
       "model_id": "c80b3bc7367e4ed6875929d17a8e18f6",
       "version_major": 2,
       "version_minor": 0
      },
      "text/plain": [
       "Button(description='Save DOIs', style=ButtonStyle())"
      ]
     },
     "metadata": {},
     "output_type": "display_data"
    },
    {
     "data": {
      "application/vnd.jupyter.widget-view+json": {
       "model_id": "98374430d90a45c7903e55f162f869c8",
       "version_major": 2,
       "version_minor": 0
      },
      "text/plain": [
       "Output()"
      ]
     },
     "metadata": {},
     "output_type": "display_data"
    }
   ],
   "source": [
    "\n",
    "import ipywidgets as widgets\n",
    "from IPython.display import display, HTML\n",
    "import pdf2doi\n",
    "import csv\n",
    "\n",
    "pdf2doi.config.set('verbose', False)\n",
    "\n",
    "def process_pdfs_and_save_doi(_):\n",
    "    output_task8.clear_output()\n",
    "    with output_task8:\n",
    "        try:\n",
    "            test = pdf2doi.pdf2doi('./corpus_result/')\n",
    "            doi_list = [entry[\"identifier\"] for entry in test]\n",
    "\n",
    "            output_file = \"doi_list.csv\"\n",
    "            with open(output_file, mode='w', newline='') as csv_file:\n",
    "                writer = csv.writer(csv_file)\n",
    "                writer.writerow([\"paper:doi\"])\n",
    "                writer.writerows([[doi] for doi in doi_list])\n",
    "\n",
    "            print(f\"DOIs saved to {output_file}\")\n",
    "            stage1_note = \"\"\"\n",
    "                <div style=\"border: 2px solid gold; border-radius: 10px; padding: 10px; background-color: #FFD700; color: black; font-weight: bold; text-align: center;\">\n",
    "                    This stage is over, Please proceed to the next stage.\n",
    "                    </div>\n",
    "            \"\"\"\n",
    "            display(HTML(stage1_note))\n",
    "        except Exception as e:\n",
    "            print(f\"An error occurred: {e}\")\n",
    "\n",
    "button = widgets.Button(description=\"Save DOIs\")\n",
    "output_task8 = widgets.Output()\n",
    "\n",
    "button.on_click(process_pdfs_and_save_doi)\n",
    "\n",
    "display(button, output_task8)\n"
   ]
  }
 ],
 "metadata": {
  "kernelspec": {
   "display_name": "Python 3 (ipykernel)",
   "language": "python",
   "name": "python3"
  },
  "language_info": {
   "codemirror_mode": {
    "name": "ipython",
    "version": 3
   },
   "file_extension": ".py",
   "mimetype": "text/x-python",
   "name": "python",
   "nbconvert_exporter": "python",
   "pygments_lexer": "ipython3",
   "version": "3.12.4"
  },
  "widgets": {
   "application/vnd.jupyter.widget-state+json": {
    "state": {
     "017b3d907b424155ae66ff9e2b3fc74d": {
      "model_module": "@jupyter-widgets/controls",
      "model_module_version": "2.0.0",
      "model_name": "ToggleButtonModel",
      "state": {
       "description": "PDF only",
       "layout": "IPY_MODEL_ddbf4e646450448e8786df3e71db6e3e",
       "style": "IPY_MODEL_64ba33e7d87146789b5e84fce8c88798",
       "tooltip": "Include sources only if PDFs are available",
       "value": true
      }
     },
     "0461a01ddd464c26818cc876433c99c6": {
      "model_module": "@jupyter-widgets/controls",
      "model_module_version": "2.0.0",
      "model_name": "HTMLMathStyleModel",
      "state": {
       "description_width": "",
       "font_size": null,
       "text_color": null
      }
     },
     "0509943af13c4e899aaac4a76214f615": {
      "model_module": "@jupyter-widgets/base",
      "model_module_version": "2.0.0",
      "model_name": "LayoutModel",
      "state": {
       "height": "80px",
       "width": "80%"
      }
     },
     "078395d16db641e4bfc82ff4432962ed": {
      "model_module": "@jupyter-widgets/base",
      "model_module_version": "2.0.0",
      "model_name": "LayoutModel",
      "state": {
       "margin": "7.4px 0px"
      }
     },
     "080902f820054b45846685c462d9144b": {
      "model_module": "@jupyter-widgets/base",
      "model_module_version": "2.0.0",
      "model_name": "LayoutModel",
      "state": {}
     },
     "0b6d6aedfb7948ce8bc668da06ad3bd0": {
      "model_module": "@jupyter-widgets/base",
      "model_module_version": "2.0.0",
      "model_name": "LayoutModel",
      "state": {
       "margin": "7.4px 0px"
      }
     },
     "0bb88ad3eec74d00a36f32e5564b155e": {
      "model_module": "@jupyter-widgets/base",
      "model_module_version": "2.0.0",
      "model_name": "LayoutModel",
      "state": {
       "margin": "7.4px 0px"
      }
     },
     "0c45aaa2c4d94e699694ebcf9dddf04b": {
      "model_module": "@jupyter-widgets/base",
      "model_module_version": "2.0.0",
      "model_name": "LayoutModel",
      "state": {
       "margin": "7.4px 0px"
      }
     },
     "0faad8e514d3498589bc7bbf738fa62e": {
      "model_module": "@jupyter-widgets/controls",
      "model_module_version": "2.0.0",
      "model_name": "SliderStyleModel",
      "state": {
       "description_width": "150px"
      }
     },
     "1040f5ccef304b1788ae559033f255ab": {
      "model_module": "@jupyter-widgets/base",
      "model_module_version": "2.0.0",
      "model_name": "LayoutModel",
      "state": {}
     },
     "11a7a1988d7e470292ee537581c0746c": {
      "model_module": "@jupyter-widgets/controls",
      "model_module_version": "2.0.0",
      "model_name": "HTMLMathModel",
      "state": {
       "layout": "IPY_MODEL_a0228b35609d4475bbdceb7aaed922b2",
       "style": "IPY_MODEL_b03b44e0389e430991c389195b81e61a",
       "value": "\n            <h4>Farspredict: A benchmark dataset for link prediction</h4>\n            <p><strong>Abstract:</strong> Link prediction with knowledge graph embedding (KGE) is a popular method for\nknowledge graph completion. Furthermore, training KGEs on non-English knowledge\ngraph promote knowledge extraction and knowledge graph reasoning in the context\nof these languages. However, many challenges in non-English KGEs pose to\nlearning a low-dimensional representation of a knowledge graph's entities and\nrelations. This paper proposes \"Farspredict\" a Persian knowledge graph based on\nFarsbase (the most comprehensive knowledge graph in Persian). It also explains\nhow the knowledge graph structure affects link prediction accuracy in KGE. To\nevaluate Farspredict, we implemented the popular models of KGE on it and\ncompared the results with Freebase. Given the analysis results, some\noptimizations on the knowledge graph are carried out to improve its\nfunctionality in the KGE. As a result, a new Persian knowledge graph is\nachieved. Implementation results in the KGE models on Farspredict outperforming\nFreebases in many cases. At last, we discuss what improvements could be\neffective in enhancing the quality of Farspredict and how much it improves.</p>\n            <p><strong>Authors:</strong> Najmeh Torabian; Behrouz Minaei-Bidgoli; Mohsen Jahanshahi</p>\n            <p><strong>Published:</strong> 2023-03-26 07:41:26+00:00</p>\n                    <p>\n            <a href=\"http://arxiv.org/pdf/2303.14647v1\" target=\"_blank\" style=\"color: blue; text-decoration: underline;\">\n                Read more\n            </a>\n        </p>\n            "
      }
     },
     "11b4e15953674644ba5fb6636253f129": {
      "model_module": "@jupyter-widgets/controls",
      "model_module_version": "2.0.0",
      "model_name": "ButtonModel",
      "state": {
       "button_style": "success",
       "description": "Generate keywords",
       "icon": "search",
       "layout": "IPY_MODEL_4e839d3b8c7f42e791bcb62fb066378b",
       "style": "IPY_MODEL_c7ca78cbd48c4e9fa6e306648b928c68",
       "tooltip": "Click to generate keywords based on your research interest"
      }
     },
     "11c613e7739f4c4e9b7e1d71f4469415": {
      "model_module": "@jupyter-widgets/controls",
      "model_module_version": "2.0.0",
      "model_name": "IntProgressModel",
      "state": {
       "bar_style": "info",
       "description": "Progress:",
       "layout": "IPY_MODEL_6441f6443959461980e45290c3f1b037",
       "max": 1,
       "style": "IPY_MODEL_4e7d2267a64841f4bb3e51de1c4611dc",
       "value": 1
      }
     },
     "1351e56a18404128889ecb1c758ef500": {
      "model_module": "@jupyter-widgets/base",
      "model_module_version": "2.0.0",
      "model_name": "LayoutModel",
      "state": {}
     },
     "13afc9c0aee94b9b813298598e2707ce": {
      "model_module": "@jupyter-widgets/controls",
      "model_module_version": "2.0.0",
      "model_name": "TextStyleModel",
      "state": {
       "description_width": "",
       "font_size": null,
       "text_color": null
      }
     },
     "14db1b59a3ce4c57b42479ffcb136bd1": {
      "model_module": "@jupyter-widgets/base",
      "model_module_version": "2.0.0",
      "model_name": "LayoutModel",
      "state": {
       "margin": "7.4px 0px"
      }
     },
     "14f1014bc8c544e7a6559f5d5ae965fc": {
      "model_module": "@jupyter-widgets/base",
      "model_module_version": "2.0.0",
      "model_name": "LayoutModel",
      "state": {
       "align_items": "flex-start",
       "margin": "0px"
      }
     },
     "15efec67eda845c6939f2e18a09e46d9": {
      "model_module": "@jupyter-widgets/base",
      "model_module_version": "2.0.0",
      "model_name": "LayoutModel",
      "state": {}
     },
     "1618b12f1f7443e298dbd8e2e83f8477": {
      "model_module": "@jupyter-widgets/controls",
      "model_module_version": "2.0.0",
      "model_name": "CheckboxStyleModel",
      "state": {
       "description_width": ""
      }
     },
     "162611fe113d4eb088b5bc84e7d0d403": {
      "model_module": "@jupyter-widgets/output",
      "model_module_version": "1.0.0",
      "model_name": "OutputModel",
      "state": {
       "layout": "IPY_MODEL_15efec67eda845c6939f2e18a09e46d9"
      }
     },
     "16c686e7f361442682491b56517f4959": {
      "model_module": "@jupyter-widgets/base",
      "model_module_version": "2.0.0",
      "model_name": "LayoutModel",
      "state": {}
     },
     "17666843f4c54ffcabf0cd3012b15a58": {
      "model_module": "@jupyter-widgets/base",
      "model_module_version": "2.0.0",
      "model_name": "LayoutModel",
      "state": {
       "margin": "7.4px 0px"
      }
     },
     "17b5bccb089b4190a0c65903b424c387": {
      "model_module": "@jupyter-widgets/controls",
      "model_module_version": "2.0.0",
      "model_name": "CheckboxModel",
      "state": {
       "description": "Semantic Scholar",
       "disabled": false,
       "layout": "IPY_MODEL_72d49f7e730f4108b58a5fcae6d4e82a",
       "style": "IPY_MODEL_8774248316174440a18de17616c86dee",
       "value": false
      }
     },
     "1a9dc008e8e748c89db962d0f3173391": {
      "model_module": "@jupyter-widgets/controls",
      "model_module_version": "2.0.0",
      "model_name": "HTMLMathStyleModel",
      "state": {
       "description_width": "",
       "font_size": null,
       "text_color": null
      }
     },
     "1cb8bc6aeaf047968cec09b1888a4053": {
      "model_module": "@jupyter-widgets/controls",
      "model_module_version": "2.0.0",
      "model_name": "CheckboxModel",
      "state": {
       "disabled": false,
       "layout": "IPY_MODEL_0bb88ad3eec74d00a36f32e5564b155e",
       "style": "IPY_MODEL_4099a60915ec465db6877bfef6475cae",
       "value": false
      }
     },
     "1ce9d7c295dc4c0ebea9efa3c60d4835": {
      "model_module": "@jupyter-widgets/base",
      "model_module_version": "2.0.0",
      "model_name": "LayoutModel",
      "state": {}
     },
     "1eff0811cc8a4226aeb23ec28e2a36eb": {
      "model_module": "@jupyter-widgets/base",
      "model_module_version": "2.0.0",
      "model_name": "LayoutModel",
      "state": {}
     },
     "200d05488cf846c5a972e795f9713abf": {
      "model_module": "@jupyter-widgets/controls",
      "model_module_version": "2.0.0",
      "model_name": "CheckboxStyleModel",
      "state": {
       "description_width": ""
      }
     },
     "215837141f7c478a8781911ad9b1647a": {
      "model_module": "@jupyter-widgets/base",
      "model_module_version": "2.0.0",
      "model_name": "LayoutModel",
      "state": {}
     },
     "21dab9d83e2342478f091b8f39db0dc1": {
      "model_module": "@jupyter-widgets/base",
      "model_module_version": "2.0.0",
      "model_name": "LayoutModel",
      "state": {}
     },
     "2283bb1890ad439c8bcfc66382f4cf8c": {
      "model_module": "@jupyter-widgets/controls",
      "model_module_version": "2.0.0",
      "model_name": "TextModel",
      "state": {
       "layout": "IPY_MODEL_dd8b2c5ce8ba4d80afbf76234774fe0e",
       "placeholder": "Enter a new option",
       "style": "IPY_MODEL_b4760d5d945b45c1a1ba74596e957590"
      }
     },
     "22a984a3fb8f405688d6d2a85d617194": {
      "model_module": "@jupyter-widgets/controls",
      "model_module_version": "2.0.0",
      "model_name": "CheckboxModel",
      "state": {
       "disabled": false,
       "layout": "IPY_MODEL_8ce873097dcf44849321c6cee101dd1d",
       "style": "IPY_MODEL_9c9d079cfb424a618689c869225e7975",
       "value": false
      }
     },
     "26bfdfa582d34aff9c216bd40d362eb2": {
      "model_module": "@jupyter-widgets/base",
      "model_module_version": "2.0.0",
      "model_name": "LayoutModel",
      "state": {
       "margin": "7.4px 0px"
      }
     },
     "27309be7aaf245c2827d582b05ea0e3a": {
      "model_module": "@jupyter-widgets/controls",
      "model_module_version": "2.0.0",
      "model_name": "VBoxModel",
      "state": {
       "children": [
        "IPY_MODEL_2dc9cceb75d544cfab39a2419feff098"
       ],
       "layout": "IPY_MODEL_d1d0f528348b4b3589685cc4c03546d7"
      }
     },
     "29f344f4465f4af594de2069e74c0fe2": {
      "model_module": "@jupyter-widgets/controls",
      "model_module_version": "2.0.0",
      "model_name": "HTMLMathStyleModel",
      "state": {
       "description_width": "",
       "font_size": null,
       "text_color": null
      }
     },
     "2a686774e91741dc9884f1827dec6439": {
      "model_module": "@jupyter-widgets/base",
      "model_module_version": "2.0.0",
      "model_name": "LayoutModel",
      "state": {}
     },
     "2ae5884a1ed74b09a28662ce19db71b7": {
      "model_module": "@jupyter-widgets/controls",
      "model_module_version": "2.0.0",
      "model_name": "VBoxModel",
      "state": {
       "children": [
        "IPY_MODEL_fd0ca05c12e949d8b3a627834132372f"
       ],
       "layout": "IPY_MODEL_354a9e6b4c5b49c3a4dbf298eae49cd7"
      }
     },
     "2d42d59de27e404abbe558c7ede5eaea": {
      "model_module": "@jupyter-widgets/base",
      "model_module_version": "2.0.0",
      "model_name": "LayoutModel",
      "state": {}
     },
     "2dc9cceb75d544cfab39a2419feff098": {
      "model_module": "@jupyter-widgets/controls",
      "model_module_version": "2.0.0",
      "model_name": "HTMLMathModel",
      "state": {
       "layout": "IPY_MODEL_39522effa46f4390b5b36705fe250d2d",
       "style": "IPY_MODEL_d57eee18d2de4b5dbe22a7614a98b70e",
       "value": "\n            <h4>Joint Embedding Learning of Educational Knowledge Graphs</h4>\n            <p><strong>Abstract:</strong> As an efficient model for knowledge organization, the knowledge graph has\nbeen widely adopted in several fields, e.g., biomedicine, sociology, and\neducation. And there is a steady trend of learning embedding representations of\nknowledge graphs to facilitate knowledge graph construction and downstream\ntasks. In general, knowledge graph embedding techniques aim to learn vectorized\nrepresentations which preserve the structural information of the graph. And\nconventional embedding learning models rely on structural relationships among\nentities and relations. However, in educational knowledge graphs, structural\nrelationships are not the focus. Instead, rich literals of the graphs are more\nvaluable. In this paper, we focus on this problem and propose a novel model for\nembedding learning of educational knowledge graphs. Our model considers both\nstructural and literal information and jointly learns embedding\nrepresentations. Three experimental graphs were constructed based on an\neducational knowledge graph which has been applied in real-world teaching. We\nconducted two experiments on the three graphs and other common benchmark\ngraphs. The experimental results proved the effectiveness of our model and its\nsuperiority over other baselines when processing educational knowledge graphs.</p>\n            <p><strong>Authors:</strong> Siyu Yao; Ruijie Wang; Shen Sun; Derui Bu; Jun Liu</p>\n            <p><strong>Published:</strong> 2019-11-20 09:05:11+00:00</p>\n                    <p>\n            <a href=\"http://arxiv.org/pdf/1911.08776v2\" target=\"_blank\" style=\"color: blue; text-decoration: underline;\">\n                Read more\n            </a>\n        </p>\n            "
      }
     },
     "2f1060cb678c426fada2c33582bf6fdb": {
      "model_module": "@jupyter-widgets/base",
      "model_module_version": "2.0.0",
      "model_name": "LayoutModel",
      "state": {}
     },
     "301c0af7e7ed4d2b9dc2d5326a1be511": {
      "model_module": "@jupyter-widgets/base",
      "model_module_version": "2.0.0",
      "model_name": "LayoutModel",
      "state": {}
     },
     "34061cf1e4a3422383958de7ed223113": {
      "model_module": "@jupyter-widgets/base",
      "model_module_version": "2.0.0",
      "model_name": "LayoutModel",
      "state": {}
     },
     "3520a9331e7e482e838dffb005d1a30a": {
      "model_module": "@jupyter-widgets/base",
      "model_module_version": "2.0.0",
      "model_name": "LayoutModel",
      "state": {}
     },
     "354a9e6b4c5b49c3a4dbf298eae49cd7": {
      "model_module": "@jupyter-widgets/base",
      "model_module_version": "2.0.0",
      "model_name": "LayoutModel",
      "state": {}
     },
     "35c59252948140148f8806f606a420eb": {
      "model_module": "@jupyter-widgets/controls",
      "model_module_version": "2.0.0",
      "model_name": "ButtonModel",
      "state": {
       "description": "Download Selected Papers",
       "layout": "IPY_MODEL_4993bec4b1664d2991e20297f42588d5",
       "style": "IPY_MODEL_f7b684428e8042f081fd56256e4373d0",
       "tooltip": null
      }
     },
     "3626a24563dc41899a630f0c38f25b24": {
      "model_module": "@jupyter-widgets/controls",
      "model_module_version": "2.0.0",
      "model_name": "CheckboxStyleModel",
      "state": {
       "description_width": ""
      }
     },
     "36828a08898a4e2ea1a4e40db2c61dd2": {
      "model_module": "@jupyter-widgets/controls",
      "model_module_version": "2.0.0",
      "model_name": "VBoxModel",
      "state": {
       "children": [
        "IPY_MODEL_661bbc327985419d8760c94d04682253",
        "IPY_MODEL_17b5bccb089b4190a0c65903b424c387",
        "IPY_MODEL_aa0ca8506b5b4b8c99879f2be4bb6809"
       ],
       "layout": "IPY_MODEL_e18eb7786d014ad2b3c86a3eb3db7804"
      }
     },
     "36f1d489dd6c437cbf9c2e5131a1151a": {
      "model_module": "@jupyter-widgets/base",
      "model_module_version": "2.0.0",
      "model_name": "LayoutModel",
      "state": {}
     },
     "392284fed06d4d79a365f9ed69b15711": {
      "model_module": "@jupyter-widgets/controls",
      "model_module_version": "2.0.0",
      "model_name": "HTMLMathModel",
      "state": {
       "layout": "IPY_MODEL_080902f820054b45846685c462d9144b",
       "style": "IPY_MODEL_d0050eea155b4c0791ba3850843d964d",
       "value": "\n            <h4>Graph Pattern Entity Ranking Model for Knowledge Graph Completion</h4>\n            <p><strong>Abstract:</strong> Knowledge graphs have evolved rapidly in recent years and their usefulness\nhas been demonstrated in many artificial intelligence tasks. However, knowledge\ngraphs often have lots of missing facts. To solve this problem, many knowledge\ngraph embedding models have been developed to populate knowledge graphs and\nthese have shown outstanding performance. However, knowledge graph embedding\nmodels are so-called black boxes, and the user does not know how the\ninformation in a knowledge graph is processed and the models can be difficult\nto interpret. In this paper, we utilize graph patterns in a knowledge graph to\novercome such problems. Our proposed model, the {\\it graph pattern entity\nranking model} (GRank), constructs an entity ranking system for each graph\npattern and evaluates them using a ranking measure. By doing so, we can find\ngraph patterns which are useful for predicting facts. Then, we perform link\nprediction tasks on standard datasets to evaluate our GRank method. We show\nthat our approach outperforms other state-of-the-art approaches such as ComplEx\nand TorusE for standard metrics such as HITS@{\\it n} and MRR. Moreover, our\nmodel is easily interpretable because the output facts are described by graph\npatterns.</p>\n            <p><strong>Authors:</strong> Takuma Ebisu; Ryutaro Ichise</p>\n            <p><strong>Published:</strong> 2019-04-05 03:17:00+00:00</p>\n                    <p>\n            <a href=\"http://arxiv.org/pdf/1904.02856v1\" target=\"_blank\" style=\"color: blue; text-decoration: underline;\">\n                Read more\n            </a>\n        </p>\n            "
      }
     },
     "39522effa46f4390b5b36705fe250d2d": {
      "model_module": "@jupyter-widgets/base",
      "model_module_version": "2.0.0",
      "model_name": "LayoutModel",
      "state": {}
     },
     "39a15c76e7f9436c8da89f1a84013c76": {
      "model_module": "@jupyter-widgets/base",
      "model_module_version": "2.0.0",
      "model_name": "LayoutModel",
      "state": {}
     },
     "3ad27bb3197344e5a6378e84a9f93718": {
      "model_module": "@jupyter-widgets/controls",
      "model_module_version": "2.0.0",
      "model_name": "IntSliderModel",
      "state": {
       "behavior": "drag-tap",
       "description": "Documents Limit:",
       "layout": "IPY_MODEL_e83b76f86ddc407c804e86c5544a3864",
       "min": 10,
       "style": "IPY_MODEL_0faad8e514d3498589bc7bbf738fa62e",
       "value": 10
      }
     },
     "3d9eb88eb745439788d22d791f5b5c35": {
      "model_module": "@jupyter-widgets/controls",
      "model_module_version": "2.0.0",
      "model_name": "VBoxModel",
      "state": {
       "children": [
        "IPY_MODEL_94a11687f78b47eb86da54aa6cdf0a16"
       ],
       "layout": "IPY_MODEL_eb48a94458d747cd8a2d4f09b0d2b000"
      }
     },
     "3e31fa3a23e04f93af4b59fbcb59e408": {
      "model_module": "@jupyter-widgets/controls",
      "model_module_version": "2.0.0",
      "model_name": "VBoxModel",
      "state": {
       "children": [
        "IPY_MODEL_4cc590c57c1e492aa966a7b4ce08b37b"
       ],
       "layout": "IPY_MODEL_1eff0811cc8a4226aeb23ec28e2a36eb"
      }
     },
     "3e91aa3d9dec47bfbb51cf501731a41f": {
      "model_module": "@jupyter-widgets/controls",
      "model_module_version": "2.0.0",
      "model_name": "CheckboxStyleModel",
      "state": {
       "description_width": ""
      }
     },
     "3ee743efe4324177ae1bef5deb3be6ee": {
      "model_module": "@jupyter-widgets/controls",
      "model_module_version": "2.0.0",
      "model_name": "CheckboxStyleModel",
      "state": {
       "description_width": ""
      }
     },
     "40306b7deba64244be1f452597ae96e3": {
      "model_module": "@jupyter-widgets/base",
      "model_module_version": "2.0.0",
      "model_name": "LayoutModel",
      "state": {
       "margin": "7.4px 0px"
      }
     },
     "4099a60915ec465db6877bfef6475cae": {
      "model_module": "@jupyter-widgets/controls",
      "model_module_version": "2.0.0",
      "model_name": "CheckboxStyleModel",
      "state": {
       "description_width": ""
      }
     },
     "45d15c059b694a369bab46524e1bf79f": {
      "model_module": "@jupyter-widgets/base",
      "model_module_version": "2.0.0",
      "model_name": "LayoutModel",
      "state": {}
     },
     "463d94f9423e4f3f899812cde819b20f": {
      "model_module": "@jupyter-widgets/controls",
      "model_module_version": "2.0.0",
      "model_name": "HTMLMathStyleModel",
      "state": {
       "description_width": "",
       "font_size": null,
       "text_color": null
      }
     },
     "47a48c01399744f392679742eb56ac82": {
      "model_module": "@jupyter-widgets/base",
      "model_module_version": "2.0.0",
      "model_name": "LayoutModel",
      "state": {
       "margin": "7.4px 0px"
      }
     },
     "4803941c1bcc45b3b474ba70ab4c6cb5": {
      "model_module": "@jupyter-widgets/base",
      "model_module_version": "2.0.0",
      "model_name": "LayoutModel",
      "state": {}
     },
     "4819bf63a7d0413aa9196a3c00fd1232": {
      "model_module": "@jupyter-widgets/base",
      "model_module_version": "2.0.0",
      "model_name": "LayoutModel",
      "state": {}
     },
     "4993bec4b1664d2991e20297f42588d5": {
      "model_module": "@jupyter-widgets/base",
      "model_module_version": "2.0.0",
      "model_name": "LayoutModel",
      "state": {}
     },
     "4a49b36728c94814b839457a59bdb49b": {
      "model_module": "@jupyter-widgets/controls",
      "model_module_version": "2.0.0",
      "model_name": "HTMLMathModel",
      "state": {
       "layout": "IPY_MODEL_ff0a1c1abae64336ba95d51ba1f18dbe",
       "style": "IPY_MODEL_463d94f9423e4f3f899812cde819b20f",
       "value": "\n            <h4>A Dual-Store Structure for Knowledge Graphs</h4>\n            <p><strong>Abstract:</strong> To effectively manage increasing knowledge graphs in various domains, a hot\nresearch topic, knowledge graph storage management, has emerged. Existing\nmethods are classified to relational stores and native graph stores. Relational\nstores are able to store large-scale knowledge graphs and convenient in\nupdating knowledge, but the query performance weakens obviously when the\nselectivity of a knowledge graph query is large. Native graph stores are\nefficient in processing complex knowledge graph queries due to its index-free\nadjacent property, but they are inapplicable to manage a large-scale knowledge\ngraph due to limited storage budgets or inflexible updating process. Motivated\nby this, we propose a dual-store structure which leverages a graph store to\naccelerate the complex query process in the relational store. However, it is\nchallenging to determine what data to transfer from relational store to graph\nstore at what time. To address this problem, we formulate it as a Markov\nDecision Process and derive a physical design tuner DOTIL based on\nreinforcement learning. With DOTIL, the dual-store structure is adaptive to\ndynamic changing workloads. Experimental results on real knowledge graphs\ndemonstrate that our proposed dual-store structure improves query performance\nup to average 43.72% compared with the most commonly used relational stores.</p>\n            <p><strong>Authors:</strong> Zhixin Qi; Hongzhi Wang; Haoran Zhang</p>\n            <p><strong>Published:</strong> 2020-12-13 05:33:19+00:00</p>\n                    <p>\n            <a href=\"http://arxiv.org/pdf/2012.06966v1\" target=\"_blank\" style=\"color: blue; text-decoration: underline;\">\n                Read more\n            </a>\n        </p>\n            "
      }
     },
     "4b662b9780e048ba9f5a6c158b115b2a": {
      "model_module": "@jupyter-widgets/base",
      "model_module_version": "2.0.0",
      "model_name": "LayoutModel",
      "state": {}
     },
     "4cc590c57c1e492aa966a7b4ce08b37b": {
      "model_module": "@jupyter-widgets/controls",
      "model_module_version": "2.0.0",
      "model_name": "HTMLMathModel",
      "state": {
       "layout": "IPY_MODEL_4803941c1bcc45b3b474ba70ab4c6cb5",
       "style": "IPY_MODEL_d87b995a9e654ddcbb50c53895881df7",
       "value": "\n            <h4>Counterfactual Reasoning with Knowledge Graph Embeddings</h4>\n            <p><strong>Abstract:</strong> Knowledge graph embeddings (KGEs) were originally developed to infer true but\nmissing facts in incomplete knowledge repositories. In this paper, we link\nknowledge graph completion and counterfactual reasoning via our new task CFKGR.\nWe model the original world state as a knowledge graph, hypothetical scenarios\nas edges added to the graph, and plausible changes to the graph as inferences\nfrom logical rules. We create corresponding benchmark datasets, which contain\ndiverse hypothetical scenarios with plausible changes to the original knowledge\ngraph and facts that should be retained. We develop COULDD, a general method\nfor adapting existing knowledge graph embeddings given a hypothetical premise,\nand evaluate it on our benchmark. Our results indicate that KGEs learn patterns\nin the graph without explicit training. We further observe that KGEs adapted\nwith COULDD solidly detect plausible counterfactual changes to the graph that\nfollow these patterns. An evaluation on human-annotated data reveals that KGEs\nadapted with COULDD are mostly unable to recognize changes to the graph that do\nnot follow learned inference rules. In contrast, ChatGPT mostly outperforms\nKGEs in detecting plausible changes to the graph but has poor knowledge\nretention. In summary, CFKGR connects two previously distinct areas, namely KG\ncompletion and counterfactual reasoning.</p>\n            <p><strong>Authors:</strong> Lena Zellinger; Andreas Stephan; Benjamin Roth</p>\n            <p><strong>Published:</strong> 2024-03-11 17:21:39+00:00</p>\n                    <p>\n            <a href=\"http://arxiv.org/pdf/2403.06936v1\" target=\"_blank\" style=\"color: blue; text-decoration: underline;\">\n                Read more\n            </a>\n        </p>\n            "
      }
     },
     "4d686142dab64d4d892aa926d1d7402c": {
      "model_module": "@jupyter-widgets/controls",
      "model_module_version": "2.0.0",
      "model_name": "CheckboxModel",
      "state": {
       "disabled": false,
       "layout": "IPY_MODEL_40306b7deba64244be1f452597ae96e3",
       "style": "IPY_MODEL_85f0a85c75e14f39a5ae5f99b1dc6da3",
       "value": false
      }
     },
     "4e7d2267a64841f4bb3e51de1c4611dc": {
      "model_module": "@jupyter-widgets/controls",
      "model_module_version": "2.0.0",
      "model_name": "ProgressStyleModel",
      "state": {
       "description_width": ""
      }
     },
     "4e839d3b8c7f42e791bcb62fb066378b": {
      "model_module": "@jupyter-widgets/base",
      "model_module_version": "2.0.0",
      "model_name": "LayoutModel",
      "state": {}
     },
     "505b496e8e06402692cec3a0d9ddb743": {
      "model_module": "@jupyter-widgets/base",
      "model_module_version": "2.0.0",
      "model_name": "LayoutModel",
      "state": {}
     },
     "5062d830f862464e95828d9c9632117b": {
      "model_module": "@jupyter-widgets/base",
      "model_module_version": "2.0.0",
      "model_name": "LayoutModel",
      "state": {}
     },
     "50e8e842e1fd49609c94900d34ae1503": {
      "model_module": "@jupyter-widgets/controls",
      "model_module_version": "2.0.0",
      "model_name": "VBoxModel",
      "state": {
       "children": [
        "IPY_MODEL_4a49b36728c94814b839457a59bdb49b"
       ],
       "layout": "IPY_MODEL_5062d830f862464e95828d9c9632117b"
      }
     },
     "51793d68eec44d7baca7aaef8e227836": {
      "model_module": "@jupyter-widgets/controls",
      "model_module_version": "2.0.0",
      "model_name": "VBoxModel",
      "state": {
       "children": [
        "IPY_MODEL_611c91e042b04d6dab8844a337269d3b"
       ],
       "layout": "IPY_MODEL_21dab9d83e2342478f091b8f39db0dc1"
      }
     },
     "533701bf08de49c3b8c6016c97ea62c5": {
      "model_module": "@jupyter-widgets/controls",
      "model_module_version": "2.0.0",
      "model_name": "HTMLMathModel",
      "state": {
       "layout": "IPY_MODEL_b7a7d59b4c8a419482ee33a32e1c7b6f",
       "style": "IPY_MODEL_d2a6f09cfb8a402fa8c3e4f95f300e9c",
       "value": "\n            <h4>Triple2Vec: Learning Triple Embeddings from Knowledge Graphs</h4>\n            <p><strong>Abstract:</strong> Graph embedding techniques allow to learn high-quality feature vectors from\ngraph structures and are useful in a variety of tasks, from node classification\nto clustering. Existing approaches have only focused on learning feature\nvectors for the nodes in a (knowledge) graph. To the best of our knowledge,\nnone of them has tackled the problem of embedding of graph edges, that is,\nknowledge graph triples. The approaches that are closer to this task have\nfocused on homogeneous graphs involving only one type of edge and obtain edge\nembeddings by applying some operation (e.g., average) on the embeddings of the\nendpoint nodes. The goal of this paper is to introduce Triple2Vec, a new\ntechnique to directly embed edges in (knowledge) graphs. Trple2Vec builds upon\nthree main ingredients. The first is the notion of line graph. The line graph\nof a graph is another graph representing the adjacency between edges of the\noriginal graph. In particular, the nodes of the line graph are the edges of the\noriginal graph. We show that directly applying existing embedding techniques on\nthe nodes of the line graph to learn edge embeddings is not enough in the\ncontext of knowledge graphs. Thus, we introduce the notion of triple line\ngraph. The second is an edge weighting mechanism both for line graphs derived\nfrom knowledge graphs and homogeneous graphs. The third is a strategy based on\ngraph walks on the weighted triple line graph that can preserve proximity\nbetween nodes. Embeddings are finally generated by adopting the SkipGram model,\nwhere sentences are replaced with graph walks. We evaluate our approach on\ndifferent real world (knowledge) graphs and compared it with related work.</p>\n            <p><strong>Authors:</strong> Valeria Fionda; Giuseppe Pirró</p>\n            <p><strong>Published:</strong> 2019-05-28 09:11:12+00:00</p>\n                    <p>\n            <a href=\"http://arxiv.org/pdf/1905.11691v1\" target=\"_blank\" style=\"color: blue; text-decoration: underline;\">\n                Read more\n            </a>\n        </p>\n            "
      }
     },
     "53aae59bcbaf4be6addc08ca9cc8f0ee": {
      "model_module": "@jupyter-widgets/controls",
      "model_module_version": "2.0.0",
      "model_name": "AccordionModel",
      "state": {
       "children": [
        "IPY_MODEL_a0bb31a21a9e4d14b7523de38cad5bcf",
        "IPY_MODEL_8f97d097d0894e89af025881ab17d769",
        "IPY_MODEL_6d1aa967e3a74ac1a7ea4f23c3f59609",
        "IPY_MODEL_eaa1caded7ed41139e58d3910bd86bd4",
        "IPY_MODEL_b79e36c4f23246cf914f52eebd54dfe4",
        "IPY_MODEL_27309be7aaf245c2827d582b05ea0e3a",
        "IPY_MODEL_a38f86bab1054789bddfa71d081d1328",
        "IPY_MODEL_e00f0307babe4398af2b3ae09a32b549",
        "IPY_MODEL_e75976297f84407cb8b5be6e510d7ca6",
        "IPY_MODEL_3d9eb88eb745439788d22d791f5b5c35",
        "IPY_MODEL_54c74ee625334410bdc676b3135af314",
        "IPY_MODEL_6361f0006c9c4c9e8c011ae12f2e2b3b",
        "IPY_MODEL_2ae5884a1ed74b09a28662ce19db71b7",
        "IPY_MODEL_50e8e842e1fd49609c94900d34ae1503",
        "IPY_MODEL_9ad0d105c70345578af9391ada9f105f",
        "IPY_MODEL_8330aadfbd204e35aca62a72f6d886b8",
        "IPY_MODEL_3e31fa3a23e04f93af4b59fbcb59e408",
        "IPY_MODEL_6ae1d1b7da8d4d4bbfd3f009d8a61dcd",
        "IPY_MODEL_51793d68eec44d7baca7aaef8e227836",
        "IPY_MODEL_70f439b9f96241fdac96437a2228e6df"
       ],
       "layout": "IPY_MODEL_959ff1d211504598bdd2ce69bba8aa8a",
       "titles": [
        "Knowledge Graphs: Opportunities and Challenges",
        "Assisted Knowledge Graph Authoring: Human-Supervised Knowledge Graph Construction from Natural Language",
        "Construction and Application of Teaching System Based on Crowdsourcing Knowledge Graph",
        "Fast Knowledge Graph Completion using Graphics Processing Units",
        "KaLM: Knowledge-aligned Autoregressive Language Modeling via Dual-view Knowledge Graph Contrastive Learning",
        "Joint Embedding Learning of Educational Knowledge Graphs",
        "Towards Loosely-Coupling Knowledge Graph Embeddings and Ontology-based Reasoning",
        "Triple2Vec: Learning Triple Embeddings from Knowledge Graphs",
        "Predicting the Co-Evolution of Event and Knowledge Graphs",
        "Billion-scale Pre-trained E-commerce Product Knowledge Graph Model",
        "Graph Pattern Entity Ranking Model for Knowledge Graph Completion",
        "Farspredict: A benchmark dataset for link prediction",
        "A Comprehensive Survey on Automatic Knowledge Graph Construction",
        "A Dual-Store Structure for Knowledge Graphs",
        "Knowledge-graph based Proactive Dialogue Generation with Improved Meta-Learning",
        "Knowledge Graph Extension by Entity Type Recognition",
        "Counterfactual Reasoning with Knowledge Graph Embeddings",
        "A Survey on Temporal Knowledge Graph: Representation Learning and Applications",
        "Finding Motifs in Knowledge Graphs using Compression",
        "Graph-based Knowledge Distillation: A survey and experimental evaluation"
       ]
      }
     },
     "54c74ee625334410bdc676b3135af314": {
      "model_module": "@jupyter-widgets/controls",
      "model_module_version": "2.0.0",
      "model_name": "VBoxModel",
      "state": {
       "children": [
        "IPY_MODEL_392284fed06d4d79a365f9ed69b15711"
       ],
       "layout": "IPY_MODEL_1351e56a18404128889ecb1c758ef500"
      }
     },
     "55fd536d239b4a3bba71b619fbebb159": {
      "model_module": "@jupyter-widgets/controls",
      "model_module_version": "2.0.0",
      "model_name": "CheckboxModel",
      "state": {
       "disabled": false,
       "layout": "IPY_MODEL_0b6d6aedfb7948ce8bc668da06ad3bd0",
       "style": "IPY_MODEL_d02e4aee7b034c85a4db970a09c65af5",
       "value": false
      }
     },
     "57a27dc6ef4e43d78edb3e18a1e76fe6": {
      "model_module": "@jupyter-widgets/controls",
      "model_module_version": "2.0.0",
      "model_name": "HBoxModel",
      "state": {
       "children": [
        "IPY_MODEL_9dbb059cba0b48b59676f58158b76651",
        "IPY_MODEL_53aae59bcbaf4be6addc08ca9cc8f0ee"
       ],
       "layout": "IPY_MODEL_4819bf63a7d0413aa9196a3c00fd1232"
      }
     },
     "58cfea09e1c845cea2805b8679f7ae45": {
      "model_module": "@jupyter-widgets/controls",
      "model_module_version": "2.0.0",
      "model_name": "CheckboxModel",
      "state": {
       "disabled": false,
       "layout": "IPY_MODEL_078395d16db641e4bfc82ff4432962ed",
       "style": "IPY_MODEL_3626a24563dc41899a630f0c38f25b24",
       "value": false
      }
     },
     "5999ab77af4742138803b7166cc8a7b0": {
      "model_module": "@jupyter-widgets/controls",
      "model_module_version": "2.0.0",
      "model_name": "HTMLMathModel",
      "state": {
       "layout": "IPY_MODEL_ab53622c11bf4b5d94141c71756a15ce",
       "style": "IPY_MODEL_a00d3bb315e64633be13869e84527938",
       "value": "\n            <h4>KaLM: Knowledge-aligned Autoregressive Language Modeling via Dual-view Knowledge Graph Contrastive Learning</h4>\n            <p><strong>Abstract:</strong> Autoregressive large language models (LLMs) pre-trained by next token\nprediction are inherently proficient in generative tasks. However, their\nperformance on knowledge-driven tasks such as factual knowledge querying\nremains unsatisfactory. Knowledge graphs (KGs), as high-quality structured\nknowledge bases, can provide reliable knowledge for LLMs, potentially\ncompensating for their knowledge deficiencies. Aligning LLMs with explicit,\nstructured knowledge from KGs has been a challenge; previous attempts either\nfailed to effectively align knowledge representations or compromised the\ngenerative capabilities of LLMs, leading to less-than-optimal outcomes. This\npaper proposes \\textbf{KaLM}, a \\textit{Knowledge-aligned Language Modeling}\napproach, which fine-tunes autoregressive LLMs to align with KG knowledge via\nthe joint objective of explicit knowledge alignment and implicit knowledge\nalignment. The explicit knowledge alignment objective aims to directly optimize\nthe knowledge representation of LLMs through dual-view knowledge graph\ncontrastive learning. The implicit knowledge alignment objective focuses on\nincorporating textual patterns of knowledge into LLMs through triple completion\nlanguage modeling. Notably, our method achieves a significant performance boost\nin evaluations of knowledge-driven tasks, specifically embedding-based\nknowledge graph completion and generation-based knowledge graph question\nanswering.</p>\n            <p><strong>Authors:</strong> Peng Yu; Cheng Deng; Beiya Dai; Xinbing Wang; Ying Wen</p>\n            <p><strong>Published:</strong> 2024-12-06 11:08:24+00:00</p>\n                    <p>\n            <a href=\"http://arxiv.org/pdf/2412.04948v1\" target=\"_blank\" style=\"color: blue; text-decoration: underline;\">\n                Read more\n            </a>\n        </p>\n            "
      }
     },
     "5a265fa5ed3745198fa1b2846e0232cd": {
      "model_module": "@jupyter-widgets/controls",
      "model_module_version": "2.0.0",
      "model_name": "HTMLMathModel",
      "state": {
       "layout": "IPY_MODEL_c3075ec832f94119b57636592fddfb3a",
       "style": "IPY_MODEL_dd8fee37274741f7a16a86938300e8fd",
       "value": "\n            <h4>Towards Loosely-Coupling Knowledge Graph Embeddings and Ontology-based Reasoning</h4>\n            <p><strong>Abstract:</strong> Knowledge graph completion (a.k.a.~link prediction), i.e.,~the task of\ninferring missing information from knowledge graphs, is a widely used task in\nmany applications, such as product recommendation and question answering. The\nstate-of-the-art approaches of knowledge graph embeddings and/or rule mining\nand reasoning are data-driven and, thus, solely based on the information the\ninput knowledge graph contains. This leads to unsatisfactory prediction results\nwhich make such solutions inapplicable to crucial domains such as healthcare.\nTo further enhance the accuracy of knowledge graph completion we propose to\nloosely-couple the data-driven power of knowledge graph embeddings with\ndomain-specific reasoning stemming from experts or entailment regimes (e.g.,\nOWL2). In this way, we not only enhance the prediction accuracy with domain\nknowledge that may not be included in the input knowledge graph but also allow\nusers to plugin their own knowledge graph embedding and reasoning method. Our\ninitial results show that we enhance the MRR accuracy of vanilla knowledge\ngraph embeddings by up to 3x and outperform hybrid solutions that combine\nknowledge graph embeddings with rule mining and reasoning up to 3.5x MRR.</p>\n            <p><strong>Authors:</strong> Zoi Kaoudi; Abelardo Carlos Martinez Lorenzo; Volker Markl</p>\n            <p><strong>Published:</strong> 2022-02-07 14:01:49+00:00</p>\n                    <p>\n            <a href=\"http://arxiv.org/pdf/2202.03173v2\" target=\"_blank\" style=\"color: blue; text-decoration: underline;\">\n                Read more\n            </a>\n        </p>\n            "
      }
     },
     "5a89ddc97594429e8faee3d06e86b704": {
      "model_module": "@jupyter-widgets/base",
      "model_module_version": "2.0.0",
      "model_name": "LayoutModel",
      "state": {}
     },
     "5d0c175fa04f4932aba97e719b736f13": {
      "model_module": "@jupyter-widgets/base",
      "model_module_version": "2.0.0",
      "model_name": "LayoutModel",
      "state": {
       "margin": "7.4px 0px"
      }
     },
     "5da1f0d034b9472a8f7877b63fc9aa86": {
      "model_module": "@jupyter-widgets/controls",
      "model_module_version": "2.0.0",
      "model_name": "HTMLMathModel",
      "state": {
       "layout": "IPY_MODEL_215837141f7c478a8781911ad9b1647a",
       "style": "IPY_MODEL_ea7bb133381648369f4ed4ff7415cb94",
       "value": "\n            <h4>Knowledge Graphs: Opportunities and Challenges</h4>\n            <p><strong>Abstract:</strong> With the explosive growth of artificial intelligence (AI) and big data, it\nhas become vitally important to organize and represent the enormous volume of\nknowledge appropriately. As graph data, knowledge graphs accumulate and convey\nknowledge of the real world. It has been well-recognized that knowledge graphs\neffectively represent complex information; hence, they rapidly gain the\nattention of academia and industry in recent years. Thus to develop a deeper\nunderstanding of knowledge graphs, this paper presents a systematic overview of\nthis field. Specifically, we focus on the opportunities and challenges of\nknowledge graphs. We first review the opportunities of knowledge graphs in\nterms of two aspects: (1) AI systems built upon knowledge graphs; (2) potential\napplication fields of knowledge graphs. Then, we thoroughly discuss severe\ntechnical challenges in this field, such as knowledge graph embeddings,\nknowledge acquisition, knowledge graph completion, knowledge fusion, and\nknowledge reasoning. We expect that this survey will shed new light on future\nresearch and the development of knowledge graphs.</p>\n            <p><strong>Authors:</strong> Ciyuan Peng; Feng Xia; Mehdi Naseriparsa; Francesco Osborne</p>\n            <p><strong>Published:</strong> 2023-03-24 12:10:42+00:00</p>\n                    <p>\n            <a href=\"http://arxiv.org/pdf/2303.13948v1\" target=\"_blank\" style=\"color: blue; text-decoration: underline;\">\n                Read more\n            </a>\n        </p>\n            "
      }
     },
     "5e5b68503bb44b4dbb43d2ca9ca7e9a8": {
      "model_module": "@jupyter-widgets/controls",
      "model_module_version": "2.0.0",
      "model_name": "HTMLMathStyleModel",
      "state": {
       "description_width": "",
       "font_size": null,
       "text_color": null
      }
     },
     "5fefff9b66a34a01bdc4416e3da45c57": {
      "model_module": "@jupyter-widgets/controls",
      "model_module_version": "2.0.0",
      "model_name": "ToggleButtonModel",
      "state": {
       "description": "Abtracts and PDF",
       "layout": "IPY_MODEL_34061cf1e4a3422383958de7ed223113",
       "style": "IPY_MODEL_feb3f1b109444c108a3275d2cf0ea7e9",
       "tooltip": "Include abstracts when no PDF is found"
      }
     },
     "611c91e042b04d6dab8844a337269d3b": {
      "model_module": "@jupyter-widgets/controls",
      "model_module_version": "2.0.0",
      "model_name": "HTMLMathModel",
      "state": {
       "layout": "IPY_MODEL_6a308b810e224333a2508ec395308546",
       "style": "IPY_MODEL_0461a01ddd464c26818cc876433c99c6",
       "value": "\n            <h4>Finding Motifs in Knowledge Graphs using Compression</h4>\n            <p><strong>Abstract:</strong> We introduce a method to find network motifs in knowledge graphs. Network\nmotifs are useful patterns or meaningful subunits of the graph that recur\nfrequently. We extend the common definition of a network motif to coincide with\na basic graph pattern. We introduce an approach, inspired by recent work for\nsimple graphs, to induce these from a given knowledge graph, and show that the\nmotifs found reflect the basic structure of the graph. Specifically, we show\nthat in random graphs, no motifs are found, and that when we insert a motif\nartificially, it can be detected. Finally, we show the results of motif\ninduction on three real-world knowledge graphs.</p>\n            <p><strong>Authors:</strong> Peter Bloem</p>\n            <p><strong>Published:</strong> 2021-04-16 15:20:44+00:00</p>\n                    <p>\n            <a href=\"http://arxiv.org/pdf/2104.08163v1\" target=\"_blank\" style=\"color: blue; text-decoration: underline;\">\n                Read more\n            </a>\n        </p>\n            "
      }
     },
     "6196d7fe0c584c369dc7b0c95bd620c8": {
      "model_module": "@jupyter-widgets/base",
      "model_module_version": "2.0.0",
      "model_name": "LayoutModel",
      "state": {}
     },
     "62405bb09fc143c9b7c0e4ed4d8a2f1e": {
      "model_module": "@jupyter-widgets/base",
      "model_module_version": "2.0.0",
      "model_name": "LayoutModel",
      "state": {}
     },
     "6361f0006c9c4c9e8c011ae12f2e2b3b": {
      "model_module": "@jupyter-widgets/controls",
      "model_module_version": "2.0.0",
      "model_name": "VBoxModel",
      "state": {
       "children": [
        "IPY_MODEL_11a7a1988d7e470292ee537581c0746c"
       ],
       "layout": "IPY_MODEL_79d7fee940724d64b1f8d4da9b49f5c5"
      }
     },
     "6441f6443959461980e45290c3f1b037": {
      "model_module": "@jupyter-widgets/base",
      "model_module_version": "2.0.0",
      "model_name": "LayoutModel",
      "state": {}
     },
     "64604b3e07074667bbbf722f96e7261d": {
      "model_module": "@jupyter-widgets/controls",
      "model_module_version": "2.0.0",
      "model_name": "CheckboxStyleModel",
      "state": {
       "description_width": ""
      }
     },
     "64ba33e7d87146789b5e84fce8c88798": {
      "model_module": "@jupyter-widgets/controls",
      "model_module_version": "2.0.0",
      "model_name": "ToggleButtonStyleModel",
      "state": {
       "description_width": "",
       "font_family": null,
       "font_size": null,
       "font_style": null,
       "font_variant": null,
       "font_weight": null,
       "text_color": null,
       "text_decoration": null
      }
     },
     "6590ba3dfe5243c0865ce8feeba0f3e0": {
      "model_module": "@jupyter-widgets/base",
      "model_module_version": "2.0.0",
      "model_name": "LayoutModel",
      "state": {}
     },
     "661bbc327985419d8760c94d04682253": {
      "model_module": "@jupyter-widgets/controls",
      "model_module_version": "2.0.0",
      "model_name": "CheckboxModel",
      "state": {
       "description": "Arxiv",
       "disabled": false,
       "layout": "IPY_MODEL_f62f75ab3b2142cbab153707ed97655a",
       "style": "IPY_MODEL_64604b3e07074667bbbf722f96e7261d",
       "value": true
      }
     },
     "667b6425df664ea5b6f0a3ad07d51ecb": {
      "model_module": "@jupyter-widgets/controls",
      "model_module_version": "2.0.0",
      "model_name": "HTMLMathStyleModel",
      "state": {
       "description_width": "",
       "font_size": null,
       "text_color": null
      }
     },
     "6697f4a677f042038efa856b6814da31": {
      "model_module": "@jupyter-widgets/controls",
      "model_module_version": "2.0.0",
      "model_name": "CheckboxModel",
      "state": {
       "disabled": false,
       "layout": "IPY_MODEL_a855001ddad14ab2a0fb7f8280f00f24",
       "style": "IPY_MODEL_abff6f4d7d1f4c65aca5ab797a896273",
       "value": false
      }
     },
     "66d47179f0874294b82a5fdebc61bd9a": {
      "model_module": "@jupyter-widgets/base",
      "model_module_version": "2.0.0",
      "model_name": "LayoutModel",
      "state": {
       "margin": "7.4px 0px"
      }
     },
     "66f3da28ebe846e29d36cff791eea5ab": {
      "model_module": "@jupyter-widgets/controls",
      "model_module_version": "2.0.0",
      "model_name": "CheckboxStyleModel",
      "state": {
       "description_width": ""
      }
     },
     "67a25118fedd432a81dc30dda656f8e5": {
      "model_module": "@jupyter-widgets/controls",
      "model_module_version": "2.0.0",
      "model_name": "CheckboxStyleModel",
      "state": {
       "description_width": ""
      }
     },
     "6907687484cc467c9015bf86231d0f37": {
      "model_module": "@jupyter-widgets/controls",
      "model_module_version": "2.0.0",
      "model_name": "ButtonStyleModel",
      "state": {
       "font_family": null,
       "font_size": null,
       "font_style": null,
       "font_variant": null,
       "font_weight": null,
       "text_color": null,
       "text_decoration": null
      }
     },
     "69f9698d5dc842c4880ed7a875d88cf2": {
      "model_module": "@jupyter-widgets/controls",
      "model_module_version": "2.0.0",
      "model_name": "CheckboxModel",
      "state": {
       "disabled": false,
       "layout": "IPY_MODEL_cd5c2c7aa01a40fba7e2c3ea43c97454",
       "style": "IPY_MODEL_94a3b8376c92485d96cf1f223f6ea98f",
       "value": false
      }
     },
     "6a308b810e224333a2508ec395308546": {
      "model_module": "@jupyter-widgets/base",
      "model_module_version": "2.0.0",
      "model_name": "LayoutModel",
      "state": {}
     },
     "6ae1d1b7da8d4d4bbfd3f009d8a61dcd": {
      "model_module": "@jupyter-widgets/controls",
      "model_module_version": "2.0.0",
      "model_name": "VBoxModel",
      "state": {
       "children": [
        "IPY_MODEL_c3c078f6c61842f38f331b1f2ac9abc7"
       ],
       "layout": "IPY_MODEL_9a247c9f7bca4408949f08f4396ea1c9"
      }
     },
     "6d1aa967e3a74ac1a7ea4f23c3f59609": {
      "model_module": "@jupyter-widgets/controls",
      "model_module_version": "2.0.0",
      "model_name": "VBoxModel",
      "state": {
       "children": [
        "IPY_MODEL_6f36f84ce4b24badb76fb15cff14c728"
       ],
       "layout": "IPY_MODEL_505b496e8e06402692cec3a0d9ddb743"
      }
     },
     "6da3e29e72144c5c9afea1059adca1ff": {
      "model_module": "@jupyter-widgets/controls",
      "model_module_version": "2.0.0",
      "model_name": "HTMLMathModel",
      "state": {
       "layout": "IPY_MODEL_92bfd2197a1447628922ecb442f4935d",
       "style": "IPY_MODEL_667b6425df664ea5b6f0a3ad07d51ecb",
       "value": "\n            <h4>Graph-based Knowledge Distillation: A survey and experimental evaluation</h4>\n            <p><strong>Abstract:</strong> Graph, such as citation networks, social networks, and transportation\nnetworks, are prevalent in the real world. Graph Neural Networks (GNNs) have\ngained widespread attention for their robust expressiveness and exceptional\nperformance in various graph applications. However, the efficacy of GNNs is\nheavily reliant on sufficient data labels and complex network models, with the\nformer obtaining hardly and the latter computing costly. To address the labeled\ndata scarcity and high complexity of GNNs, Knowledge Distillation (KD) has been\nintroduced to enhance existing GNNs. This technique involves transferring the\nsoft-label supervision of the large teacher model to the small student model\nwhile maintaining prediction performance. This survey offers a comprehensive\noverview of Graph-based Knowledge Distillation methods, systematically\ncategorizing and summarizing them while discussing their limitations and future\ndirections. This paper first introduces the background of graph and KD. It then\nprovides a comprehensive summary of three types of Graph-based Knowledge\nDistillation methods, namely Graph-based Knowledge Distillation for deep neural\nnetworks (DKD), Graph-based Knowledge Distillation for GNNs (GKD), and\nSelf-Knowledge Distillation based Graph-based Knowledge Distillation (SKD).\nEach type is further divided into knowledge distillation methods based on the\noutput layer, middle layer, and constructed graph. Subsequently, various\nalgorithms' ideas are analyzed and compared, concluding with the advantages and\ndisadvantages of each algorithm supported by experimental results. In addition,\nthe applications of graph-based knowledge distillation in CV, NLP, RS, and\nother fields are listed. Finally, the graph-based knowledge distillation is\nsummarized and prospectively discussed. We have also released related resources\nat https://github.com/liujing1023/Graph-based-Knowledge-Distillation.</p>\n            <p><strong>Authors:</strong> Jing Liu; Tongya Zheng; Guanzheng Zhang; Qinfen Hao</p>\n            <p><strong>Published:</strong> 2023-02-27 11:39:23+00:00</p>\n                    <p>\n            <a href=\"http://arxiv.org/pdf/2302.14643v1\" target=\"_blank\" style=\"color: blue; text-decoration: underline;\">\n                Read more\n            </a>\n        </p>\n            "
      }
     },
     "6f36f84ce4b24badb76fb15cff14c728": {
      "model_module": "@jupyter-widgets/controls",
      "model_module_version": "2.0.0",
      "model_name": "HTMLMathModel",
      "state": {
       "layout": "IPY_MODEL_84e81c6cdf124979a5363ae546e709aa",
       "style": "IPY_MODEL_ae3824c590e2445e8e6422ba92c531f8",
       "value": "\n            <h4>Construction and Application of Teaching System Based on Crowdsourcing Knowledge Graph</h4>\n            <p><strong>Abstract:</strong> Through the combination of crowdsourcing knowledge graph and teaching system,\nresearch methods to generate knowledge graph and its applications. Using two\ncrowdsourcing approaches, crowdsourcing task distribution and reverse captcha\ngeneration, to construct knowledge graph in the field of teaching system.\nGenerating a complete hierarchical knowledge graph of the teaching domain by\nnodes of school, student, teacher, course, knowledge point and exercise type.\nThe knowledge graph constructed in a crowdsourcing manner requires many users\nto participate collaboratively with fully consideration of teachers' guidance\nand users' mobilization issues. Based on the three subgraphs of knowledge\ngraph, prominent teacher, student learning situation and suitable learning\nroute could be visualized. Personalized exercises recommendation model is used\nto formulate the personalized exercise by algorithm based on the knowledge\ngraph. Collaborative creation model is developed to realize the crowdsourcing\nconstruction mechanism. Though unfamiliarity with the learning mode of\nknowledge graph and learners' less attention to the knowledge structure, system\nbased on Crowdsourcing Knowledge Graph can still get high acceptance around\nstudents and teachers</p>\n            <p><strong>Authors:</strong> Jinta Weng; Ying Gao; Jing Qiu; Guozhu Ding; Huanqin Zheng</p>\n            <p><strong>Published:</strong> 2020-10-18 14:26:10+00:00</p>\n                    <p>\n            <a href=\"http://arxiv.org/pdf/2010.08995v1\" target=\"_blank\" style=\"color: blue; text-decoration: underline;\">\n                Read more\n            </a>\n        </p>\n            "
      }
     },
     "70f439b9f96241fdac96437a2228e6df": {
      "model_module": "@jupyter-widgets/controls",
      "model_module_version": "2.0.0",
      "model_name": "VBoxModel",
      "state": {
       "children": [
        "IPY_MODEL_6da3e29e72144c5c9afea1059adca1ff"
       ],
       "layout": "IPY_MODEL_3520a9331e7e482e838dffb005d1a30a"
      }
     },
     "71bad0c7f42d4b84b6a2d59f43794541": {
      "model_module": "@jupyter-widgets/controls",
      "model_module_version": "2.0.0",
      "model_name": "CheckboxStyleModel",
      "state": {
       "description_width": ""
      }
     },
     "72d49f7e730f4108b58a5fcae6d4e82a": {
      "model_module": "@jupyter-widgets/base",
      "model_module_version": "2.0.0",
      "model_name": "LayoutModel",
      "state": {}
     },
     "74871001178148deb19039678caf6854": {
      "model_module": "@jupyter-widgets/base",
      "model_module_version": "2.0.0",
      "model_name": "LayoutModel",
      "state": {
       "margin": "7.4px 0px"
      }
     },
     "78a49b45082b4b3b8285a3d197b28d4c": {
      "model_module": "@jupyter-widgets/controls",
      "model_module_version": "2.0.0",
      "model_name": "CheckboxModel",
      "state": {
       "disabled": false,
       "layout": "IPY_MODEL_d2971f6706e34ee9b34347cf41fee598",
       "style": "IPY_MODEL_db3e0155c7dc4f54b753b5e1721d9460",
       "value": false
      }
     },
     "79d7fee940724d64b1f8d4da9b49f5c5": {
      "model_module": "@jupyter-widgets/base",
      "model_module_version": "2.0.0",
      "model_name": "LayoutModel",
      "state": {}
     },
     "7a8c6f409c514b93a5baee218a2cd7d6": {
      "model_module": "@jupyter-widgets/base",
      "model_module_version": "2.0.0",
      "model_name": "LayoutModel",
      "state": {}
     },
     "7c9d4655061846b0ba7667bee79f99b6": {
      "model_module": "@jupyter-widgets/controls",
      "model_module_version": "2.0.0",
      "model_name": "CheckboxModel",
      "state": {
       "disabled": false,
       "layout": "IPY_MODEL_8a70582efc124ab5b6176774fc4d90a8",
       "style": "IPY_MODEL_71bad0c7f42d4b84b6a2d59f43794541",
       "value": false
      }
     },
     "80120ddceef0494a8449ece0a2abfca2": {
      "model_module": "@jupyter-widgets/controls",
      "model_module_version": "2.0.0",
      "model_name": "CheckboxModel",
      "state": {
       "disabled": false,
       "layout": "IPY_MODEL_14db1b59a3ce4c57b42479ffcb136bd1",
       "style": "IPY_MODEL_3e91aa3d9dec47bfbb51cf501731a41f",
       "value": false
      }
     },
     "8201d60afa464921ae3db6a4246a01b1": {
      "model_module": "@jupyter-widgets/output",
      "model_module_version": "1.0.0",
      "model_name": "OutputModel",
      "state": {
       "layout": "IPY_MODEL_e79ef4a11cbb444c999dc81c13cff813",
       "outputs": [
        {
         "data": {
          "application/vnd.jupyter.widget-view+json": {
           "model_id": "57a27dc6ef4e43d78edb3e18a1e76fe6",
           "version_major": 2,
           "version_minor": 0
          },
          "text/plain": "HBox(children=(VBox(children=(Checkbox(value=False, layout=Layout(margin='7.4px 0px')), Checkbox(value=False, …"
         },
         "metadata": {},
         "output_type": "display_data"
        }
       ]
      }
     },
     "82a3d2ebf0c949b88d19e73c394aaa7e": {
      "model_module": "@jupyter-widgets/base",
      "model_module_version": "2.0.0",
      "model_name": "LayoutModel",
      "state": {}
     },
     "8330aadfbd204e35aca62a72f6d886b8": {
      "model_module": "@jupyter-widgets/controls",
      "model_module_version": "2.0.0",
      "model_name": "VBoxModel",
      "state": {
       "children": [
        "IPY_MODEL_fbc8820babd94fe4b8364033d819a4d3"
       ],
       "layout": "IPY_MODEL_45d15c059b694a369bab46524e1bf79f"
      }
     },
     "839542f4595f4baa9771967111448df2": {
      "model_module": "@jupyter-widgets/controls",
      "model_module_version": "2.0.0",
      "model_name": "CheckboxStyleModel",
      "state": {
       "description_width": ""
      }
     },
     "84e81c6cdf124979a5363ae546e709aa": {
      "model_module": "@jupyter-widgets/base",
      "model_module_version": "2.0.0",
      "model_name": "LayoutModel",
      "state": {}
     },
     "85f0a85c75e14f39a5ae5f99b1dc6da3": {
      "model_module": "@jupyter-widgets/controls",
      "model_module_version": "2.0.0",
      "model_name": "CheckboxStyleModel",
      "state": {
       "description_width": ""
      }
     },
     "8774248316174440a18de17616c86dee": {
      "model_module": "@jupyter-widgets/controls",
      "model_module_version": "2.0.0",
      "model_name": "CheckboxStyleModel",
      "state": {
       "description_width": ""
      }
     },
     "878311ce367c4a0781e7d0f5bd0e543a": {
      "model_module": "@jupyter-widgets/base",
      "model_module_version": "2.0.0",
      "model_name": "LayoutModel",
      "state": {}
     },
     "8a70582efc124ab5b6176774fc4d90a8": {
      "model_module": "@jupyter-widgets/base",
      "model_module_version": "2.0.0",
      "model_name": "LayoutModel",
      "state": {
       "margin": "7.4px 0px"
      }
     },
     "8bd3686f0f5444588292f12fd8887aa5": {
      "model_module": "@jupyter-widgets/controls",
      "model_module_version": "2.0.0",
      "model_name": "HTMLMathModel",
      "state": {
       "layout": "IPY_MODEL_cdbfbc928c8d496f8b471cd145fcc28b",
       "style": "IPY_MODEL_fc0a0bc470924fb0b9afa3939439475d",
       "value": "\n            <h4>Predicting the Co-Evolution of Event and Knowledge Graphs</h4>\n            <p><strong>Abstract:</strong> Embedding learning, a.k.a. representation learning, has been shown to be able\nto model large-scale semantic knowledge graphs. A key concept is a mapping of\nthe knowledge graph to a tensor representation whose entries are predicted by\nmodels using latent representations of generalized entities. Knowledge graphs\nare typically treated as static: A knowledge graph grows more links when more\nfacts become available but the ground truth values associated with links is\nconsidered time invariant. In this paper we address the issue of knowledge\ngraphs where triple states depend on time. We assume that changes in the\nknowledge graph always arrive in form of events, in the sense that the events\nare the gateway to the knowledge graph. We train an event prediction model\nwhich uses both knowledge graph background information and information on\nrecent events. By predicting future events, we also predict likely changes in\nthe knowledge graph and thus obtain a model for the evolution of the knowledge\ngraph as well. Our experiments demonstrate that our approach performs well in a\nclinical application, a recommendation engine and a sensor network application.</p>\n            <p><strong>Authors:</strong> Cristóbal Esteban; Volker Tresp; Yinchong Yang; Stephan Baier; Denis Krompaß</p>\n            <p><strong>Published:</strong> 2015-12-21 22:49:43+00:00</p>\n                    <p>\n            <a href=\"http://arxiv.org/pdf/1512.06900v1\" target=\"_blank\" style=\"color: blue; text-decoration: underline;\">\n                Read more\n            </a>\n        </p>\n            "
      }
     },
     "8ce873097dcf44849321c6cee101dd1d": {
      "model_module": "@jupyter-widgets/base",
      "model_module_version": "2.0.0",
      "model_name": "LayoutModel",
      "state": {
       "margin": "7.4px 0px"
      }
     },
     "8ec57c263c614cef86d804abcd144e6d": {
      "model_module": "@jupyter-widgets/controls",
      "model_module_version": "2.0.0",
      "model_name": "HTMLMathModel",
      "state": {
       "layout": "IPY_MODEL_878311ce367c4a0781e7d0f5bd0e543a",
       "style": "IPY_MODEL_ff6527f33a15406aab977885c4f44372",
       "value": "\n            <h4>Knowledge-graph based Proactive Dialogue Generation with Improved Meta-Learning</h4>\n            <p><strong>Abstract:</strong> Knowledge graph-based dialogue systems can narrow down knowledge candidates\nfor generating informative and diverse responses with the use of prior\ninformation, e.g., triple attributes or graph paths. However, most current\nknowledge graph (KG) cover incomplete domain-specific knowledge. To overcome\nthis drawback, we propose a knowledge graph based proactive dialogue generation\nmodel (KgDg) with three components, improved model-agnostic meta-learning\nalgorithm (MAML), knowledge selection in knowledge triplets embedding, and\nknowledge aware proactive response generator. For knowledge triplets embedding\nand selection, we formulate it as a problem of sentence embedding to better\ncapture semantic information. Our improved MAML algorithm is capable of\nlearning general features from a limited number of knowledge graphs, which can\nalso quickly adapt to dialogue generation with unseen knowledge triplets.\nExtensive experiments are conducted on a knowledge aware dialogue dataset\n(DuConv). The results show that KgDg adapts both fast and well to knowledge\ngraph-based dialogue generation and outperforms state-of-the-art baseline.</p>\n            <p><strong>Authors:</strong> Hongcai Xu; Junpeng Bao; Junqing Wang</p>\n            <p><strong>Published:</strong> 2020-04-19 08:41:12+00:00</p>\n                    <p>\n            <a href=\"http://arxiv.org/pdf/2004.08798v1\" target=\"_blank\" style=\"color: blue; text-decoration: underline;\">\n                Read more\n            </a>\n        </p>\n            "
      }
     },
     "8f97d097d0894e89af025881ab17d769": {
      "model_module": "@jupyter-widgets/controls",
      "model_module_version": "2.0.0",
      "model_name": "VBoxModel",
      "state": {
       "children": [
        "IPY_MODEL_c93718c950b84621b03aa3e6056d0256"
       ],
       "layout": "IPY_MODEL_bce75af4e0df4f6ca70506b151ef4378"
      }
     },
     "92bfd2197a1447628922ecb442f4935d": {
      "model_module": "@jupyter-widgets/base",
      "model_module_version": "2.0.0",
      "model_name": "LayoutModel",
      "state": {}
     },
     "94a11687f78b47eb86da54aa6cdf0a16": {
      "model_module": "@jupyter-widgets/controls",
      "model_module_version": "2.0.0",
      "model_name": "HTMLMathModel",
      "state": {
       "layout": "IPY_MODEL_2d42d59de27e404abbe558c7ede5eaea",
       "style": "IPY_MODEL_dc1ff83ccdea48629b36ab44f1ee212e",
       "value": "\n            <h4>Billion-scale Pre-trained E-commerce Product Knowledge Graph Model</h4>\n            <p><strong>Abstract:</strong> In recent years, knowledge graphs have been widely applied to organize data\nin a uniform way and enhance many tasks that require knowledge, for example,\nonline shopping which has greatly facilitated people's life. As a backbone for\nonline shopping platforms, we built a billion-scale e-commerce product\nknowledge graph for various item knowledge services such as item\nrecommendation. However, such knowledge services usually include tedious data\nselection and model design for knowledge infusion, which might bring\ninappropriate results. Thus, to avoid this problem, we propose a Pre-trained\nKnowledge Graph Model (PKGM) for our billion-scale e-commerce product knowledge\ngraph, providing item knowledge services in a uniform way for embedding-based\nmodels without accessing triple data in the knowledge graph. Notably, PKGM\ncould also complete knowledge graphs during servicing, thereby overcoming the\ncommon incompleteness issue in knowledge graphs. We test PKGM in three\nknowledge-related tasks including item classification, same item\nidentification, and recommendation. Experimental results show PKGM successfully\nimproves the performance of each task.</p>\n            <p><strong>Authors:</strong> Wen Zhang; Chi-Man Wong; Ganqiang Ye; Bo Wen; Wei Zhang; Huajun Chen</p>\n            <p><strong>Published:</strong> 2021-05-02 04:28:22+00:00</p>\n                    <p>\n            <a href=\"http://arxiv.org/pdf/2105.00388v1\" target=\"_blank\" style=\"color: blue; text-decoration: underline;\">\n                Read more\n            </a>\n        </p>\n            "
      }
     },
     "94a3b8376c92485d96cf1f223f6ea98f": {
      "model_module": "@jupyter-widgets/controls",
      "model_module_version": "2.0.0",
      "model_name": "CheckboxStyleModel",
      "state": {
       "description_width": ""
      }
     },
     "959ff1d211504598bdd2ce69bba8aa8a": {
      "model_module": "@jupyter-widgets/base",
      "model_module_version": "2.0.0",
      "model_name": "LayoutModel",
      "state": {
       "margin": "0px 0px 0px -180px",
       "overflow": "hidden",
       "width": "900px"
      }
     },
     "966cb1c1ab4244eea1c93b6ccd26b46b": {
      "model_module": "@jupyter-widgets/base",
      "model_module_version": "2.0.0",
      "model_name": "LayoutModel",
      "state": {
       "margin": "7.4px 0px"
      }
     },
     "98374430d90a45c7903e55f162f869c8": {
      "model_module": "@jupyter-widgets/output",
      "model_module_version": "1.0.0",
      "model_name": "OutputModel",
      "state": {
       "layout": "IPY_MODEL_b584475bb6d44359881f7909253dcf95"
      }
     },
     "995fef3897e746e4ac585cc73aba80f1": {
      "model_module": "@jupyter-widgets/controls",
      "model_module_version": "2.0.0",
      "model_name": "ButtonStyleModel",
      "state": {
       "font_family": null,
       "font_size": null,
       "font_style": null,
       "font_variant": null,
       "font_weight": null,
       "text_color": null,
       "text_decoration": null
      }
     },
     "9a247c9f7bca4408949f08f4396ea1c9": {
      "model_module": "@jupyter-widgets/base",
      "model_module_version": "2.0.0",
      "model_name": "LayoutModel",
      "state": {}
     },
     "9ad0d105c70345578af9391ada9f105f": {
      "model_module": "@jupyter-widgets/controls",
      "model_module_version": "2.0.0",
      "model_name": "VBoxModel",
      "state": {
       "children": [
        "IPY_MODEL_8ec57c263c614cef86d804abcd144e6d"
       ],
       "layout": "IPY_MODEL_eb5416e4c5f44adf9b75a8b5db48a0d8"
      }
     },
     "9b3e0dcedb4c4cd685f4802bc394d845": {
      "model_module": "@jupyter-widgets/controls",
      "model_module_version": "2.0.0",
      "model_name": "CheckboxStyleModel",
      "state": {
       "description_width": ""
      }
     },
     "9c9d079cfb424a618689c869225e7975": {
      "model_module": "@jupyter-widgets/controls",
      "model_module_version": "2.0.0",
      "model_name": "CheckboxStyleModel",
      "state": {
       "description_width": ""
      }
     },
     "9cb00ca1ea994959b033ee59f7c2455e": {
      "model_module": "@jupyter-widgets/controls",
      "model_module_version": "2.0.0",
      "model_name": "CheckboxModel",
      "state": {
       "disabled": false,
       "layout": "IPY_MODEL_966cb1c1ab4244eea1c93b6ccd26b46b",
       "style": "IPY_MODEL_839542f4595f4baa9771967111448df2",
       "value": false
      }
     },
     "9dbb059cba0b48b59676f58158b76651": {
      "model_module": "@jupyter-widgets/controls",
      "model_module_version": "2.0.0",
      "model_name": "VBoxModel",
      "state": {
       "children": [
        "IPY_MODEL_1cb8bc6aeaf047968cec09b1888a4053",
        "IPY_MODEL_bd102fdcfa324ae4876f39b0bd3bba21",
        "IPY_MODEL_58cfea09e1c845cea2805b8679f7ae45",
        "IPY_MODEL_55fd536d239b4a3bba71b619fbebb159",
        "IPY_MODEL_69f9698d5dc842c4880ed7a875d88cf2",
        "IPY_MODEL_9dbfa75f8a4844eca144b8d11de4d923",
        "IPY_MODEL_efd43fc2a98e45ff9812ce211b93e5a2",
        "IPY_MODEL_ebe3a95545f44278b2488746b8ec6c45",
        "IPY_MODEL_7c9d4655061846b0ba7667bee79f99b6",
        "IPY_MODEL_22a984a3fb8f405688d6d2a85d617194",
        "IPY_MODEL_9cb00ca1ea994959b033ee59f7c2455e",
        "IPY_MODEL_9e474e454c09457db404d3c93a3f73ef",
        "IPY_MODEL_fc5f85a502a64463ab3c35ab694b9ae2",
        "IPY_MODEL_c572e172d1aa4ee2b63d74919cd2f241",
        "IPY_MODEL_78a49b45082b4b3b8285a3d197b28d4c",
        "IPY_MODEL_6697f4a677f042038efa856b6814da31",
        "IPY_MODEL_a884ab2d25654a36a73f683f7276d2cd",
        "IPY_MODEL_4d686142dab64d4d892aa926d1d7402c",
        "IPY_MODEL_ffce6854218f439cae601b909ab1e5eb",
        "IPY_MODEL_80120ddceef0494a8449ece0a2abfca2"
       ],
       "layout": "IPY_MODEL_14f1014bc8c544e7a6559f5d5ae965fc"
      }
     },
     "9dbfa75f8a4844eca144b8d11de4d923": {
      "model_module": "@jupyter-widgets/controls",
      "model_module_version": "2.0.0",
      "model_name": "CheckboxModel",
      "state": {
       "disabled": false,
       "layout": "IPY_MODEL_c80c8ebc55ac4e86a71c60efceabafc3",
       "style": "IPY_MODEL_200d05488cf846c5a972e795f9713abf",
       "value": false
      }
     },
     "9e474e454c09457db404d3c93a3f73ef": {
      "model_module": "@jupyter-widgets/controls",
      "model_module_version": "2.0.0",
      "model_name": "CheckboxModel",
      "state": {
       "disabled": false,
       "layout": "IPY_MODEL_0c45aaa2c4d94e699694ebcf9dddf04b",
       "style": "IPY_MODEL_d6207a313913429d883be7d3163c5202",
       "value": false
      }
     },
     "a00d3bb315e64633be13869e84527938": {
      "model_module": "@jupyter-widgets/controls",
      "model_module_version": "2.0.0",
      "model_name": "HTMLMathStyleModel",
      "state": {
       "description_width": "",
       "font_size": null,
       "text_color": null
      }
     },
     "a0228b35609d4475bbdceb7aaed922b2": {
      "model_module": "@jupyter-widgets/base",
      "model_module_version": "2.0.0",
      "model_name": "LayoutModel",
      "state": {}
     },
     "a0910d59f23441e2aa97488de098f1a7": {
      "model_module": "@jupyter-widgets/controls",
      "model_module_version": "2.0.0",
      "model_name": "TextModel",
      "state": {
       "layout": "IPY_MODEL_6196d7fe0c584c369dc7b0c95bd620c8",
       "placeholder": "Your search query here",
       "style": "IPY_MODEL_13afc9c0aee94b9b813298598e2707ce",
       "value": "Knowledge graphs"
      }
     },
     "a0bb31a21a9e4d14b7523de38cad5bcf": {
      "model_module": "@jupyter-widgets/controls",
      "model_module_version": "2.0.0",
      "model_name": "VBoxModel",
      "state": {
       "children": [
        "IPY_MODEL_5da1f0d034b9472a8f7877b63fc9aa86"
       ],
       "layout": "IPY_MODEL_d828e0c898e64601afc8913050ea9f8c"
      }
     },
     "a38f86bab1054789bddfa71d081d1328": {
      "model_module": "@jupyter-widgets/controls",
      "model_module_version": "2.0.0",
      "model_name": "VBoxModel",
      "state": {
       "children": [
        "IPY_MODEL_5a265fa5ed3745198fa1b2846e0232cd"
       ],
       "layout": "IPY_MODEL_2f1060cb678c426fada2c33582bf6fdb"
      }
     },
     "a855001ddad14ab2a0fb7f8280f00f24": {
      "model_module": "@jupyter-widgets/base",
      "model_module_version": "2.0.0",
      "model_name": "LayoutModel",
      "state": {
       "margin": "7.4px 0px"
      }
     },
     "a884ab2d25654a36a73f683f7276d2cd": {
      "model_module": "@jupyter-widgets/controls",
      "model_module_version": "2.0.0",
      "model_name": "CheckboxModel",
      "state": {
       "disabled": false,
       "layout": "IPY_MODEL_47a48c01399744f392679742eb56ac82",
       "style": "IPY_MODEL_66f3da28ebe846e29d36cff791eea5ab",
       "value": false
      }
     },
     "a88667ca82624312894bc197d5536c56": {
      "model_module": "@jupyter-widgets/output",
      "model_module_version": "1.0.0",
      "model_name": "OutputModel",
      "state": {
       "layout": "IPY_MODEL_1040f5ccef304b1788ae559033f255ab"
      }
     },
     "a9955dd24978489cba011ad8725f1cd9": {
      "model_module": "@jupyter-widgets/controls",
      "model_module_version": "2.0.0",
      "model_name": "CheckboxStyleModel",
      "state": {
       "description_width": ""
      }
     },
     "aa0ca8506b5b4b8c99879f2be4bb6809": {
      "model_module": "@jupyter-widgets/controls",
      "model_module_version": "2.0.0",
      "model_name": "CheckboxModel",
      "state": {
       "description": "Google Scholar",
       "disabled": false,
       "layout": "IPY_MODEL_4b662b9780e048ba9f5a6c158b115b2a",
       "style": "IPY_MODEL_c556c0fb78f545819e3dcfa386159c0a",
       "value": false
      }
     },
     "aac9ce7adceb48258380636a75abc5ae": {
      "model_module": "@jupyter-widgets/base",
      "model_module_version": "2.0.0",
      "model_name": "LayoutModel",
      "state": {
       "margin": "7.4px 0px"
      }
     },
     "aaedf4e1162847c498338cbc2f08f04d": {
      "model_module": "@jupyter-widgets/controls",
      "model_module_version": "2.0.0",
      "model_name": "ButtonModel",
      "state": {
       "description": "Query and display results",
       "layout": "IPY_MODEL_d42a4574ecc740398512f5c1772c862c",
       "style": "IPY_MODEL_6907687484cc467c9015bf86231d0f37",
       "tooltip": null
      }
     },
     "ab53622c11bf4b5d94141c71756a15ce": {
      "model_module": "@jupyter-widgets/base",
      "model_module_version": "2.0.0",
      "model_name": "LayoutModel",
      "state": {}
     },
     "abcd126ae0b54f10abec0c248635e808": {
      "model_module": "@jupyter-widgets/controls",
      "model_module_version": "2.0.0",
      "model_name": "ButtonStyleModel",
      "state": {
       "font_family": null,
       "font_size": null,
       "font_style": null,
       "font_variant": null,
       "font_weight": null,
       "text_color": null,
       "text_decoration": null
      }
     },
     "abff6f4d7d1f4c65aca5ab797a896273": {
      "model_module": "@jupyter-widgets/controls",
      "model_module_version": "2.0.0",
      "model_name": "CheckboxStyleModel",
      "state": {
       "description_width": ""
      }
     },
     "ae3824c590e2445e8e6422ba92c531f8": {
      "model_module": "@jupyter-widgets/controls",
      "model_module_version": "2.0.0",
      "model_name": "HTMLMathStyleModel",
      "state": {
       "description_width": "",
       "font_size": null,
       "text_color": null
      }
     },
     "b03b44e0389e430991c389195b81e61a": {
      "model_module": "@jupyter-widgets/controls",
      "model_module_version": "2.0.0",
      "model_name": "HTMLMathStyleModel",
      "state": {
       "description_width": "",
       "font_size": null,
       "text_color": null
      }
     },
     "b4760d5d945b45c1a1ba74596e957590": {
      "model_module": "@jupyter-widgets/controls",
      "model_module_version": "2.0.0",
      "model_name": "TextStyleModel",
      "state": {
       "description_width": "",
       "font_size": null,
       "text_color": null
      }
     },
     "b584475bb6d44359881f7909253dcf95": {
      "model_module": "@jupyter-widgets/base",
      "model_module_version": "2.0.0",
      "model_name": "LayoutModel",
      "state": {}
     },
     "b79e36c4f23246cf914f52eebd54dfe4": {
      "model_module": "@jupyter-widgets/controls",
      "model_module_version": "2.0.0",
      "model_name": "VBoxModel",
      "state": {
       "children": [
        "IPY_MODEL_5999ab77af4742138803b7166cc8a7b0"
       ],
       "layout": "IPY_MODEL_7a8c6f409c514b93a5baee218a2cd7d6"
      }
     },
     "b7a7d59b4c8a419482ee33a32e1c7b6f": {
      "model_module": "@jupyter-widgets/base",
      "model_module_version": "2.0.0",
      "model_name": "LayoutModel",
      "state": {}
     },
     "ba787ff769e244c9a78a26fc3dfde84e": {
      "model_module": "@jupyter-widgets/controls",
      "model_module_version": "2.0.0",
      "model_name": "TextStyleModel",
      "state": {
       "description_width": "",
       "font_size": null,
       "text_color": null
      }
     },
     "bce4b0a69c394e3a8aa8ebb867c2f734": {
      "model_module": "@jupyter-widgets/controls",
      "model_module_version": "2.0.0",
      "model_name": "ButtonModel",
      "state": {
       "description": "Delete Selected Options",
       "layout": "IPY_MODEL_e5f0b03acd31462dbe672d87f923c9c4",
       "style": "IPY_MODEL_d11ab1f107a848b396c74986d8873191",
       "tooltip": null
      }
     },
     "bce75af4e0df4f6ca70506b151ef4378": {
      "model_module": "@jupyter-widgets/base",
      "model_module_version": "2.0.0",
      "model_name": "LayoutModel",
      "state": {}
     },
     "bd102fdcfa324ae4876f39b0bd3bba21": {
      "model_module": "@jupyter-widgets/controls",
      "model_module_version": "2.0.0",
      "model_name": "CheckboxModel",
      "state": {
       "disabled": false,
       "layout": "IPY_MODEL_17666843f4c54ffcabf0cd3012b15a58",
       "style": "IPY_MODEL_3ee743efe4324177ae1bef5deb3be6ee",
       "value": false
      }
     },
     "c3075ec832f94119b57636592fddfb3a": {
      "model_module": "@jupyter-widgets/base",
      "model_module_version": "2.0.0",
      "model_name": "LayoutModel",
      "state": {}
     },
     "c3c078f6c61842f38f331b1f2ac9abc7": {
      "model_module": "@jupyter-widgets/controls",
      "model_module_version": "2.0.0",
      "model_name": "HTMLMathModel",
      "state": {
       "layout": "IPY_MODEL_1ce9d7c295dc4c0ebea9efa3c60d4835",
       "style": "IPY_MODEL_29f344f4465f4af594de2069e74c0fe2",
       "value": "\n            <h4>A Survey on Temporal Knowledge Graph: Representation Learning and Applications</h4>\n            <p><strong>Abstract:</strong> Knowledge graphs have garnered significant research attention and are widely\nused to enhance downstream applications. However, most current studies mainly\nfocus on static knowledge graphs, whose facts do not change with time, and\ndisregard their dynamic evolution over time. As a result, temporal knowledge\ngraphs have attracted more attention because a large amount of structured\nknowledge exists only within a specific period. Knowledge graph representation\nlearning aims to learn low-dimensional vector embeddings for entities and\nrelations in a knowledge graph. The representation learning of temporal\nknowledge graphs incorporates time information into the standard knowledge\ngraph framework and can model the dynamics of entities and relations over time.\nIn this paper, we conduct a comprehensive survey of temporal knowledge graph\nrepresentation learning and its applications. We begin with an introduction to\nthe definitions, datasets, and evaluation metrics for temporal knowledge graph\nrepresentation learning. Next, we propose a taxonomy based on the core\ntechnologies of temporal knowledge graph representation learning methods, and\nprovide an in-depth analysis of different methods in each category. Finally, we\npresent various downstream applications related to the temporal knowledge\ngraphs. In the end, we conclude the paper and have an outlook on the future\nresearch directions in this area.</p>\n            <p><strong>Authors:</strong> Li Cai; Xin Mao; Yuhao Zhou; Zhaoguang Long; Changxu Wu; Man Lan</p>\n            <p><strong>Published:</strong> 2024-03-02 16:21:45+00:00</p>\n                    <p>\n            <a href=\"http://arxiv.org/pdf/2403.04782v1\" target=\"_blank\" style=\"color: blue; text-decoration: underline;\">\n                Read more\n            </a>\n        </p>\n            "
      }
     },
     "c556c0fb78f545819e3dcfa386159c0a": {
      "model_module": "@jupyter-widgets/controls",
      "model_module_version": "2.0.0",
      "model_name": "CheckboxStyleModel",
      "state": {
       "description_width": ""
      }
     },
     "c572e172d1aa4ee2b63d74919cd2f241": {
      "model_module": "@jupyter-widgets/controls",
      "model_module_version": "2.0.0",
      "model_name": "CheckboxModel",
      "state": {
       "disabled": false,
       "layout": "IPY_MODEL_aac9ce7adceb48258380636a75abc5ae",
       "style": "IPY_MODEL_d6f3ec4a2f0d43b598073b2121b836f3",
       "value": false
      }
     },
     "c73fbef8c2944e548e35e6aea8224d6b": {
      "model_module": "@jupyter-widgets/controls",
      "model_module_version": "2.0.0",
      "model_name": "HTMLMathStyleModel",
      "state": {
       "description_width": "",
       "font_size": null,
       "text_color": null
      }
     },
     "c7ca78cbd48c4e9fa6e306648b928c68": {
      "model_module": "@jupyter-widgets/controls",
      "model_module_version": "2.0.0",
      "model_name": "ButtonStyleModel",
      "state": {
       "font_family": null,
       "font_size": null,
       "font_style": null,
       "font_variant": null,
       "font_weight": null,
       "text_color": null,
       "text_decoration": null
      }
     },
     "c80b3bc7367e4ed6875929d17a8e18f6": {
      "model_module": "@jupyter-widgets/controls",
      "model_module_version": "2.0.0",
      "model_name": "ButtonModel",
      "state": {
       "description": "Save DOIs",
       "layout": "IPY_MODEL_6590ba3dfe5243c0865ce8feeba0f3e0",
       "style": "IPY_MODEL_995fef3897e746e4ac585cc73aba80f1",
       "tooltip": null
      }
     },
     "c80c8ebc55ac4e86a71c60efceabafc3": {
      "model_module": "@jupyter-widgets/base",
      "model_module_version": "2.0.0",
      "model_name": "LayoutModel",
      "state": {
       "margin": "7.4px 0px"
      }
     },
     "c93718c950b84621b03aa3e6056d0256": {
      "model_module": "@jupyter-widgets/controls",
      "model_module_version": "2.0.0",
      "model_name": "HTMLMathModel",
      "state": {
       "layout": "IPY_MODEL_301c0af7e7ed4d2b9dc2d5326a1be511",
       "style": "IPY_MODEL_c73fbef8c2944e548e35e6aea8224d6b",
       "value": "\n            <h4>Assisted Knowledge Graph Authoring: Human-Supervised Knowledge Graph Construction from Natural Language</h4>\n            <p><strong>Abstract:</strong> Encyclopedic knowledge graphs, such as Wikidata, host an extensive repository\nof millions of knowledge statements. However, domain-specific knowledge from\nfields such as history, physics, or medicine is significantly underrepresented\nin those graphs. Although few domain-specific knowledge graphs exist (e.g.,\nPubmed for medicine), developing specialized retrieval applications for many\ndomains still requires constructing knowledge graphs from scratch. To\nfacilitate knowledge graph construction, we introduce WAKA: a Web application\nthat allows domain experts to create knowledge graphs through the medium with\nwhich they are most familiar: natural language.</p>\n            <p><strong>Authors:</strong> Marcel Gohsen; Benno Stein</p>\n            <p><strong>Published:</strong> 2024-01-15 13:51:00+00:00</p>\n                    <p>\n            <a href=\"http://arxiv.org/pdf/2401.07683v1\" target=\"_blank\" style=\"color: blue; text-decoration: underline;\">\n                Read more\n            </a>\n        </p>\n            "
      }
     },
     "cd5c2c7aa01a40fba7e2c3ea43c97454": {
      "model_module": "@jupyter-widgets/base",
      "model_module_version": "2.0.0",
      "model_name": "LayoutModel",
      "state": {
       "margin": "7.4px 0px"
      }
     },
     "cdbfbc928c8d496f8b471cd145fcc28b": {
      "model_module": "@jupyter-widgets/base",
      "model_module_version": "2.0.0",
      "model_name": "LayoutModel",
      "state": {}
     },
     "d0050eea155b4c0791ba3850843d964d": {
      "model_module": "@jupyter-widgets/controls",
      "model_module_version": "2.0.0",
      "model_name": "HTMLMathStyleModel",
      "state": {
       "description_width": "",
       "font_size": null,
       "text_color": null
      }
     },
     "d02e4aee7b034c85a4db970a09c65af5": {
      "model_module": "@jupyter-widgets/controls",
      "model_module_version": "2.0.0",
      "model_name": "CheckboxStyleModel",
      "state": {
       "description_width": ""
      }
     },
     "d11ab1f107a848b396c74986d8873191": {
      "model_module": "@jupyter-widgets/controls",
      "model_module_version": "2.0.0",
      "model_name": "ButtonStyleModel",
      "state": {
       "font_family": null,
       "font_size": null,
       "font_style": null,
       "font_variant": null,
       "font_weight": null,
       "text_color": null,
       "text_decoration": null
      }
     },
     "d1d0f528348b4b3589685cc4c03546d7": {
      "model_module": "@jupyter-widgets/base",
      "model_module_version": "2.0.0",
      "model_name": "LayoutModel",
      "state": {}
     },
     "d2971f6706e34ee9b34347cf41fee598": {
      "model_module": "@jupyter-widgets/base",
      "model_module_version": "2.0.0",
      "model_name": "LayoutModel",
      "state": {
       "margin": "7.4px 0px"
      }
     },
     "d2a6f09cfb8a402fa8c3e4f95f300e9c": {
      "model_module": "@jupyter-widgets/controls",
      "model_module_version": "2.0.0",
      "model_name": "HTMLMathStyleModel",
      "state": {
       "description_width": "",
       "font_size": null,
       "text_color": null
      }
     },
     "d42a4574ecc740398512f5c1772c862c": {
      "model_module": "@jupyter-widgets/base",
      "model_module_version": "2.0.0",
      "model_name": "LayoutModel",
      "state": {
       "width": "200px"
      }
     },
     "d5541a13783f45a79efd030d7f9e1b8e": {
      "model_module": "@jupyter-widgets/controls",
      "model_module_version": "2.0.0",
      "model_name": "ButtonModel",
      "state": {
       "description": "Add Option",
       "layout": "IPY_MODEL_62405bb09fc143c9b7c0e4ed4d8a2f1e",
       "style": "IPY_MODEL_abcd126ae0b54f10abec0c248635e808",
       "tooltip": null
      }
     },
     "d57eee18d2de4b5dbe22a7614a98b70e": {
      "model_module": "@jupyter-widgets/controls",
      "model_module_version": "2.0.0",
      "model_name": "HTMLMathStyleModel",
      "state": {
       "description_width": "",
       "font_size": null,
       "text_color": null
      }
     },
     "d6207a313913429d883be7d3163c5202": {
      "model_module": "@jupyter-widgets/controls",
      "model_module_version": "2.0.0",
      "model_name": "CheckboxStyleModel",
      "state": {
       "description_width": ""
      }
     },
     "d6f3ec4a2f0d43b598073b2121b836f3": {
      "model_module": "@jupyter-widgets/controls",
      "model_module_version": "2.0.0",
      "model_name": "CheckboxStyleModel",
      "state": {
       "description_width": ""
      }
     },
     "d828e0c898e64601afc8913050ea9f8c": {
      "model_module": "@jupyter-widgets/base",
      "model_module_version": "2.0.0",
      "model_name": "LayoutModel",
      "state": {}
     },
     "d87b995a9e654ddcbb50c53895881df7": {
      "model_module": "@jupyter-widgets/controls",
      "model_module_version": "2.0.0",
      "model_name": "HTMLMathStyleModel",
      "state": {
       "description_width": "",
       "font_size": null,
       "text_color": null
      }
     },
     "d9a59706ebf543df96f12d2bdf9e919c": {
      "model_module": "@jupyter-widgets/controls",
      "model_module_version": "2.0.0",
      "model_name": "HTMLMathStyleModel",
      "state": {
       "description_width": "",
       "font_size": null,
       "text_color": null
      }
     },
     "db3e0155c7dc4f54b753b5e1721d9460": {
      "model_module": "@jupyter-widgets/controls",
      "model_module_version": "2.0.0",
      "model_name": "CheckboxStyleModel",
      "state": {
       "description_width": ""
      }
     },
     "dc1ff83ccdea48629b36ab44f1ee212e": {
      "model_module": "@jupyter-widgets/controls",
      "model_module_version": "2.0.0",
      "model_name": "HTMLMathStyleModel",
      "state": {
       "description_width": "",
       "font_size": null,
       "text_color": null
      }
     },
     "dd8b2c5ce8ba4d80afbf76234774fe0e": {
      "model_module": "@jupyter-widgets/base",
      "model_module_version": "2.0.0",
      "model_name": "LayoutModel",
      "state": {}
     },
     "dd8fee37274741f7a16a86938300e8fd": {
      "model_module": "@jupyter-widgets/controls",
      "model_module_version": "2.0.0",
      "model_name": "HTMLMathStyleModel",
      "state": {
       "description_width": "",
       "font_size": null,
       "text_color": null
      }
     },
     "ddbf4e646450448e8786df3e71db6e3e": {
      "model_module": "@jupyter-widgets/base",
      "model_module_version": "2.0.0",
      "model_name": "LayoutModel",
      "state": {}
     },
     "e00f0307babe4398af2b3ae09a32b549": {
      "model_module": "@jupyter-widgets/controls",
      "model_module_version": "2.0.0",
      "model_name": "VBoxModel",
      "state": {
       "children": [
        "IPY_MODEL_533701bf08de49c3b8c6016c97ea62c5"
       ],
       "layout": "IPY_MODEL_36f1d489dd6c437cbf9c2e5131a1151a"
      }
     },
     "e18eb7786d014ad2b3c86a3eb3db7804": {
      "model_module": "@jupyter-widgets/base",
      "model_module_version": "2.0.0",
      "model_name": "LayoutModel",
      "state": {}
     },
     "e5f0b03acd31462dbe672d87f923c9c4": {
      "model_module": "@jupyter-widgets/base",
      "model_module_version": "2.0.0",
      "model_name": "LayoutModel",
      "state": {}
     },
     "e75976297f84407cb8b5be6e510d7ca6": {
      "model_module": "@jupyter-widgets/controls",
      "model_module_version": "2.0.0",
      "model_name": "VBoxModel",
      "state": {
       "children": [
        "IPY_MODEL_8bd3686f0f5444588292f12fd8887aa5"
       ],
       "layout": "IPY_MODEL_5a89ddc97594429e8faee3d06e86b704"
      }
     },
     "e79ef4a11cbb444c999dc81c13cff813": {
      "model_module": "@jupyter-widgets/base",
      "model_module_version": "2.0.0",
      "model_name": "LayoutModel",
      "state": {}
     },
     "e83b76f86ddc407c804e86c5544a3864": {
      "model_module": "@jupyter-widgets/base",
      "model_module_version": "2.0.0",
      "model_name": "LayoutModel",
      "state": {
       "width": "400px"
      }
     },
     "ea7bb133381648369f4ed4ff7415cb94": {
      "model_module": "@jupyter-widgets/controls",
      "model_module_version": "2.0.0",
      "model_name": "HTMLMathStyleModel",
      "state": {
       "description_width": "",
       "font_size": null,
       "text_color": null
      }
     },
     "eaa1caded7ed41139e58d3910bd86bd4": {
      "model_module": "@jupyter-widgets/controls",
      "model_module_version": "2.0.0",
      "model_name": "VBoxModel",
      "state": {
       "children": [
        "IPY_MODEL_f38667ebb8db4f918d59fd99598310b8"
       ],
       "layout": "IPY_MODEL_82a3d2ebf0c949b88d19e73c394aaa7e"
      }
     },
     "eb48a94458d747cd8a2d4f09b0d2b000": {
      "model_module": "@jupyter-widgets/base",
      "model_module_version": "2.0.0",
      "model_name": "LayoutModel",
      "state": {}
     },
     "eb5416e4c5f44adf9b75a8b5db48a0d8": {
      "model_module": "@jupyter-widgets/base",
      "model_module_version": "2.0.0",
      "model_name": "LayoutModel",
      "state": {}
     },
     "ebe3a95545f44278b2488746b8ec6c45": {
      "model_module": "@jupyter-widgets/controls",
      "model_module_version": "2.0.0",
      "model_name": "CheckboxModel",
      "state": {
       "disabled": false,
       "layout": "IPY_MODEL_26bfdfa582d34aff9c216bd40d362eb2",
       "style": "IPY_MODEL_a9955dd24978489cba011ad8725f1cd9",
       "value": false
      }
     },
     "efd43fc2a98e45ff9812ce211b93e5a2": {
      "model_module": "@jupyter-widgets/controls",
      "model_module_version": "2.0.0",
      "model_name": "CheckboxModel",
      "state": {
       "disabled": false,
       "layout": "IPY_MODEL_66d47179f0874294b82a5fdebc61bd9a",
       "style": "IPY_MODEL_1618b12f1f7443e298dbd8e2e83f8477",
       "value": false
      }
     },
     "f38667ebb8db4f918d59fd99598310b8": {
      "model_module": "@jupyter-widgets/controls",
      "model_module_version": "2.0.0",
      "model_name": "HTMLMathModel",
      "state": {
       "layout": "IPY_MODEL_39a15c76e7f9436c8da89f1a84013c76",
       "style": "IPY_MODEL_d9a59706ebf543df96f12d2bdf9e919c",
       "value": "\n            <h4>Fast Knowledge Graph Completion using Graphics Processing Units</h4>\n            <p><strong>Abstract:</strong> Knowledge graphs can be used in many areas related to data semantics such as\nquestion-answering systems, knowledge based systems. However, the currently\nconstructed knowledge graphs need to be complemented for better knowledge in\nterms of relations. It is called knowledge graph completion. To add new\nrelations to the existing knowledge graph by using knowledge graph embedding\nmodels, we have to evaluate $N\\times N \\times R$ vector operations, where $N$\nis the number of entities and $R$ is the number of relation types. It is very\ncostly.\n  In this paper, we provide an efficient knowledge graph completion framework\non GPUs to get new relations using knowledge graph embedding vectors. In the\nproposed framework, we first define \"transformable to a metric space\" and then\nprovide a method to transform the knowledge graph completion problem into the\nsimilarity join problem for a model which is \"transformable to a metric space\".\nAfter that, to efficiently process the similarity join problem, we derive\nformulas using the properties of a metric space. Based on the formulas, we\ndevelop a fast knowledge graph completion algorithm. Finally, we experimentally\nshow that our framework can efficiently process the knowledge graph completion\nproblem.</p>\n            <p><strong>Authors:</strong> Chun-Hee Lee; Dong-oh Kang; Hwa Jeon Song</p>\n            <p><strong>Published:</strong> 2023-07-22 12:00:54+00:00</p>\n                    <p>\n            <a href=\"http://arxiv.org/pdf/2307.12059v1\" target=\"_blank\" style=\"color: blue; text-decoration: underline;\">\n                Read more\n            </a>\n        </p>\n            "
      }
     },
     "f62f75ab3b2142cbab153707ed97655a": {
      "model_module": "@jupyter-widgets/base",
      "model_module_version": "2.0.0",
      "model_name": "LayoutModel",
      "state": {}
     },
     "f7b684428e8042f081fd56256e4373d0": {
      "model_module": "@jupyter-widgets/controls",
      "model_module_version": "2.0.0",
      "model_name": "ButtonStyleModel",
      "state": {
       "font_family": null,
       "font_size": null,
       "font_style": null,
       "font_variant": null,
       "font_weight": null,
       "text_color": null,
       "text_decoration": null
      }
     },
     "fbc8820babd94fe4b8364033d819a4d3": {
      "model_module": "@jupyter-widgets/controls",
      "model_module_version": "2.0.0",
      "model_name": "HTMLMathModel",
      "state": {
       "layout": "IPY_MODEL_16c686e7f361442682491b56517f4959",
       "style": "IPY_MODEL_1a9dc008e8e748c89db962d0f3173391",
       "value": "\n            <h4>Knowledge Graph Extension by Entity Type Recognition</h4>\n            <p><strong>Abstract:</strong> Knowledge graphs have emerged as a sophisticated advancement and refinement\nof semantic networks, and their deployment is one of the critical methodologies\nin contemporary artificial intelligence. The construction of knowledge graphs\nis a multifaceted process involving various techniques, where researchers aim\nto extract the knowledge from existing resources for the construction since\nbuilding from scratch entails significant labor and time costs. However, due to\nthe pervasive issue of heterogeneity, the description diversity across\ndifferent knowledge graphs can lead to mismatches between concepts, thereby\nimpacting the efficacy of knowledge extraction. This Ph.D. study focuses on\nautomatic knowledge graph extension, i.e., properly extending the reference\nknowledge graph by extracting and integrating concepts from one or more\ncandidate knowledge graphs. We propose a novel knowledge graph extension\nframework based on entity type recognition. The framework aims to achieve\nhigh-quality knowledge extraction by aligning the schemas and entities across\ndifferent knowledge graphs, thereby enhancing the performance of the extension.\nThis paper elucidates three major contributions: (i) we propose an entity type\nrecognition method exploiting machine learning and property-based similarities\nto enhance knowledge extraction; (ii) we introduce a set of assessment metrics\nto validate the quality of the extended knowledge graphs; (iii) we develop a\nplatform for knowledge graph acquisition, management, and extension to benefit\nknowledge engineers practically. Our evaluation comprehensively demonstrated\nthe feasibility and effectiveness of the proposed extension framework and its\nfunctionalities through quantitative experiments and case studies.</p>\n            <p><strong>Authors:</strong> Daqian Shi</p>\n            <p><strong>Published:</strong> 2024-05-03 19:55:03+00:00</p>\n                    <p>\n            <a href=\"http://arxiv.org/pdf/2405.02463v1\" target=\"_blank\" style=\"color: blue; text-decoration: underline;\">\n                Read more\n            </a>\n        </p>\n            "
      }
     },
     "fc0a0bc470924fb0b9afa3939439475d": {
      "model_module": "@jupyter-widgets/controls",
      "model_module_version": "2.0.0",
      "model_name": "HTMLMathStyleModel",
      "state": {
       "description_width": "",
       "font_size": null,
       "text_color": null
      }
     },
     "fc5f85a502a64463ab3c35ab694b9ae2": {
      "model_module": "@jupyter-widgets/controls",
      "model_module_version": "2.0.0",
      "model_name": "CheckboxModel",
      "state": {
       "disabled": false,
       "layout": "IPY_MODEL_74871001178148deb19039678caf6854",
       "style": "IPY_MODEL_67a25118fedd432a81dc30dda656f8e5",
       "value": false
      }
     },
     "fd0ca05c12e949d8b3a627834132372f": {
      "model_module": "@jupyter-widgets/controls",
      "model_module_version": "2.0.0",
      "model_name": "HTMLMathModel",
      "state": {
       "layout": "IPY_MODEL_2a686774e91741dc9884f1827dec6439",
       "style": "IPY_MODEL_5e5b68503bb44b4dbb43d2ca9ca7e9a8",
       "value": "\n            <h4>A Comprehensive Survey on Automatic Knowledge Graph Construction</h4>\n            <p><strong>Abstract:</strong> Automatic knowledge graph construction aims to manufacture structured human\nknowledge. To this end, much effort has historically been spent extracting\ninformative fact patterns from different data sources. However, more recently,\nresearch interest has shifted to acquiring conceptualized structured knowledge\nbeyond informative data. In addition, researchers have also been exploring new\nways of handling sophisticated construction tasks in diversified scenarios.\nThus, there is a demand for a systematic review of paradigms to organize\nknowledge structures beyond data-level mentions. To meet this demand, we\ncomprehensively survey more than 300 methods to summarize the latest\ndevelopments in knowledge graph construction. A knowledge graph is built in\nthree steps: knowledge acquisition, knowledge refinement, and knowledge\nevolution. The processes of knowledge acquisition are reviewed in detail,\nincluding obtaining entities with fine-grained types and their conceptual\nlinkages to knowledge graphs; resolving coreferences; and extracting entity\nrelationships in complex scenarios. The survey covers models for knowledge\nrefinement, including knowledge graph completion, and knowledge fusion. Methods\nto handle knowledge evolution are also systematically presented, including\ncondition knowledge acquisition, condition knowledge graph completion, and\nknowledge dynamic. We present the paradigms to compare the distinction among\nthese methods along the axis of the data environment, motivation, and\narchitecture. Additionally, we also provide briefs on accessible resources that\ncan help readers to develop practical knowledge graph systems. The survey\nconcludes with discussions on the challenges and possible directions for future\nexploration.</p>\n            <p><strong>Authors:</strong> Lingfeng Zhong; Jia Wu; Qian Li; Hao Peng; Xindong Wu</p>\n            <p><strong>Published:</strong> 2023-02-10 02:29:21+00:00</p>\n                    <p>\n            <a href=\"http://arxiv.org/pdf/2302.05019v1\" target=\"_blank\" style=\"color: blue; text-decoration: underline;\">\n                Read more\n            </a>\n        </p>\n            "
      }
     },
     "fdab4bcd079545d5a8d9117a32e2ee68": {
      "model_module": "@jupyter-widgets/controls",
      "model_module_version": "2.0.0",
      "model_name": "TextareaModel",
      "state": {
       "description": "Research Interest:",
       "layout": "IPY_MODEL_0509943af13c4e899aaac4a76214f615",
       "placeholder": "Enter your formalized research interest here...",
       "style": "IPY_MODEL_ba787ff769e244c9a78a26fc3dfde84e"
      }
     },
     "feb3f1b109444c108a3275d2cf0ea7e9": {
      "model_module": "@jupyter-widgets/controls",
      "model_module_version": "2.0.0",
      "model_name": "ToggleButtonStyleModel",
      "state": {
       "description_width": "",
       "font_family": null,
       "font_size": null,
       "font_style": null,
       "font_variant": null,
       "font_weight": null,
       "text_color": null,
       "text_decoration": null
      }
     },
     "ff0a1c1abae64336ba95d51ba1f18dbe": {
      "model_module": "@jupyter-widgets/base",
      "model_module_version": "2.0.0",
      "model_name": "LayoutModel",
      "state": {}
     },
     "ff6527f33a15406aab977885c4f44372": {
      "model_module": "@jupyter-widgets/controls",
      "model_module_version": "2.0.0",
      "model_name": "HTMLMathStyleModel",
      "state": {
       "description_width": "",
       "font_size": null,
       "text_color": null
      }
     },
     "ffce6854218f439cae601b909ab1e5eb": {
      "model_module": "@jupyter-widgets/controls",
      "model_module_version": "2.0.0",
      "model_name": "CheckboxModel",
      "state": {
       "disabled": false,
       "layout": "IPY_MODEL_5d0c175fa04f4932aba97e719b736f13",
       "style": "IPY_MODEL_9b3e0dcedb4c4cd685f4802bc394d845",
       "value": false
      }
     }
    },
    "version_major": 2,
    "version_minor": 0
   }
  }
 },
 "nbformat": 4,
 "nbformat_minor": 5
}
