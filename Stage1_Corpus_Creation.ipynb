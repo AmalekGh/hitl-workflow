{
 "cells": [
  {
   "cell_type": "markdown",
   "metadata": {},
   "source": [
    "# HITL-SCC_Workflow Stage I : Corpus Setup"
   ]
  },
  {
   "cell_type": "markdown",
   "metadata": {},
   "source": [
    "This stage represents the first step of the Scientific Content Creation Workflow, whiche represents a user interactive pipeline to systematically extract knowledge from a corpus of scientific literature. \n",
    "\n",
    "This should help the user have better insights into key contents of the corpus.\n",
    "\n",
    "This notebook provides a step-by-step, instruction based approach from setting up the corpus to extracting and representing knowledge relevant to your research interest until creating a ready-to-import CSV file for the ORKG. \n",
    "\n",
    "The first stage is to support you in the process of retrieving a set of relevant literatur.\n",
    "\n",
    "Based on your research interest, this workflow should support you in formalizing effective search queries. "
   ]
  },
  {
   "cell_type": "markdown",
   "metadata": {},
   "source": [
    "<div class=\"alert alert-block alert-info\"> <b>Note:</b> If you already have a curated corpus in Zotero, you can skip the keyword generation and search process entirely. Just skip by scrolling down to:<br><br>\n",
    "<b>&nbsp;&nbsp;&nbsp;&nbsp;&nbsp;&nbsp;&nbsp;&nbsp;&nbsp;&nbsp;&nbsp;&nbsp;&nbsp;&nbsp;Alternative Step: Import an Existing Corpus from Zotero</b>\n",
    "<br>\n",
    "<br>\n",
    "By importing from Zotero, you can bypass the earlier steps and proceed straight to managing or analyzing your corpus within this system.\n",
    "</div>"
   ]
  },
  {
   "cell_type": "markdown",
   "metadata": {},
   "source": [
    "**Task 1: Formalize search query**"
   ]
  },
  {
   "cell_type": "markdown",
   "metadata": {},
   "source": [
    "Begin by entering your research interest in the provided text area. This could be a concise statement summarizing your field of study or a specific problem you are investigating.\n",
    "\n",
    "For this, we would use an LLM to assist you in generating keywords-based search keywords.\n",
    "\n",
    "Click the **'Generate Keywords'** button to let the integrated LLM analyze your input and produce a list of keywords relevant to your research interest."
   ]
  },
  {
   "cell_type": "markdown",
   "metadata": {},
   "source": [
    "The generated keywords will help define your search queries needed for the next task."
   ]
  },
  {
   "cell_type": "code",
   "execution_count": 151,
   "metadata": {
    "jupyter": {
     "source_hidden": true
    },
    "scrolled": true
   },
   "outputs": [
    {
     "data": {
      "application/vnd.jupyter.widget-view+json": {
       "model_id": "e6b39afc3fb04975807df2001175d092",
       "version_major": 2,
       "version_minor": 0
      },
      "text/plain": [
       "Textarea(value='', description='Research Interest:', layout=Layout(height='80px', width='80%'), placeholder='E…"
      ]
     },
     "metadata": {},
     "output_type": "display_data"
    },
    {
     "data": {
      "application/vnd.jupyter.widget-view+json": {
       "model_id": "7fc51620e00543ccb27f9ab069b44ff8",
       "version_major": 2,
       "version_minor": 0
      },
      "text/plain": [
       "Button(button_style='success', description='Generate keywords', icon='search', style=ButtonStyle(), tooltip='C…"
      ]
     },
     "metadata": {},
     "output_type": "display_data"
    },
    {
     "data": {
      "application/vnd.jupyter.widget-view+json": {
       "model_id": "bcb616969dd448c3be13557dfc18f510",
       "version_major": 2,
       "version_minor": 0
      },
      "text/plain": [
       "Output()"
      ]
     },
     "metadata": {},
     "output_type": "display_data"
    }
   ],
   "source": [
    "import os\n",
    "import ipywidgets as widgets\n",
    "from IPython.display import display\n",
    "from mistralai import Mistral \n",
    "from dotenv import load_dotenv\n",
    "\n",
    "load_dotenv()\n",
    "\n",
    "research_interest_input = widgets.Textarea(\n",
    "    value='', \n",
    "    placeholder='Enter your formalized research interest here...',\n",
    "    description='Research Interest:',\n",
    "    layout=widgets.Layout(width='80%', height='80px')\n",
    ")\n",
    "\n",
    "generate_button = widgets.Button(\n",
    "    description='Generate keywords',\n",
    "    button_style='success',\n",
    "    tooltip='Click to generate keywords based on your research interest',\n",
    "    icon='search'\n",
    ")\n",
    "\n",
    "output_task1 = widgets.Output()\n",
    "\n",
    "s = Mistral(api_key=os.getenv('MISTRALAI'))\n",
    "\n",
    "def generate_queries(_):\n",
    "    with output_task1:\n",
    "        output.clear_output()\n",
    "        research_interest = research_interest_input.value.strip()\n",
    "        if not research_interest:\n",
    "            print(\"Please provide a valid research interest.\")\n",
    "            return\n",
    "        \n",
    "        prompt = (\n",
    "            f\"You are an expert researcher. Based on the following research interest, \"\n",
    "            f\"generate a list of keywords that could help retrieve relevant academic papers. \"\n",
    "            f\"Your will respond ONLY in bullet points as keywords. \"\n",
    "            f\"Research Interest: {research_interest}\"\n",
    "        )\n",
    "        \n",
    "        try:\n",
    "            res = s.chat.complete(\n",
    "                model=\"mistral-large-latest\",\n",
    "                temperature=0,\n",
    "                messages=[\n",
    "                    {\"content\": prompt, \"role\": \"user\"}\n",
    "                ]\n",
    "            )\n",
    "            \n",
    "            generated_queries = res.choices[0].message.content\n",
    "            if not generated_queries:\n",
    "                print(\"No keywords were generated. Please refine your research interest.\")\n",
    "            else:\n",
    "                print(\"Generated keywords:\")\n",
    "                print(generated_queries)\n",
    "        \n",
    "        except Exception as e:\n",
    "            print(f\"An error occurred while generating keywords: {e}\")\n",
    "\n",
    "generate_button.on_click(generate_queries)\n",
    "\n",
    "display(research_interest_input, generate_button, output_task1)\n"
   ]
  },
  {
   "cell_type": "markdown",
   "metadata": {},
   "source": [
    "**Task 2: Define search query**"
   ]
  },
  {
   "cell_type": "markdown",
   "metadata": {},
   "source": [
    "Using the keywords generated in the previous step, construct a search query and input it into the text field labeled **'Search Query'**.\n",
    "\n",
    "Feel free to modify or enhance the search query based on your specific needs or additional insights."
   ]
  },
  {
   "cell_type": "code",
   "execution_count": 15,
   "metadata": {
    "jupyter": {
     "source_hidden": true
    }
   },
   "outputs": [
    {
     "data": {
      "application/vnd.jupyter.widget-view+json": {
       "model_id": "da7ee7a7e6984806800e89e06e2c3631",
       "version_major": 2,
       "version_minor": 0
      },
      "text/plain": [
       "Text(value='', placeholder='Your search query here')"
      ]
     },
     "metadata": {},
     "output_type": "display_data"
    }
   ],
   "source": [
    "# To see the code click here\n",
    "import ipywidgets as widgets\n",
    "from IPython.display import display\n",
    "\n",
    "input_widget = widgets.Text(\n",
    "    value='',\n",
    "    placeholder='Your search query here',\n",
    "    disabled=False\n",
    ")\n",
    "def save_input(change):\n",
    "    global papers_search_query\n",
    "    papers_search_query = change['new']\n",
    "\n",
    "input_widget.observe(save_input, names='value')\n",
    "\n",
    "display(input_widget)"
   ]
  },
  {
   "cell_type": "markdown",
   "metadata": {},
   "source": [
    "**Task 3: Define search limit size**\n",
    "\n",
    "The next task is to define the size of the publications to render. \n",
    "\n",
    "Adjust the search limit using the interactive slider. This allows you to control the number of results retrieved from each source.\n",
    "\n",
    "Move the slider to select a number that reflects the scope of your search. The default number is 10 elements per source."
   ]
  },
  {
   "cell_type": "code",
   "execution_count": 18,
   "metadata": {
    "jupyter": {
     "source_hidden": true
    }
   },
   "outputs": [
    {
     "data": {
      "application/vnd.jupyter.widget-view+json": {
       "model_id": "7c237aad047745a7ac7513fa43fc7294",
       "version_major": 2,
       "version_minor": 0
      },
      "text/plain": [
       "IntSlider(value=10, description='Documents Limit:', layout=Layout(width='400px'), min=1, style=SliderStyle(des…"
      ]
     },
     "metadata": {},
     "output_type": "display_data"
    }
   ],
   "source": [
    "from corpus.widgets.widgets_util import DocumentLimitSlider\n",
    "slider_widget = DocumentLimitSlider()\n",
    "get_value_func = slider_widget.display_slider()\n"
   ]
  },
  {
   "cell_type": "markdown",
   "metadata": {},
   "source": [
    "**Task 4: Define sources**\n",
    "\n",
    "Select the sources you wish to query using the checkboxes provided below. Available sources may include databases like **ArXiv**, **Semantic Scholar**, or/and **Google Scholar**.\n"
   ]
  },
  {
   "cell_type": "code",
   "execution_count": 21,
   "metadata": {
    "jupyter": {
     "source_hidden": true
    }
   },
   "outputs": [
    {
     "data": {
      "application/vnd.jupyter.widget-view+json": {
       "model_id": "f546b550e618469a99560302060c282a",
       "version_major": 2,
       "version_minor": 0
      },
      "text/plain": [
       "Text(value='', placeholder='Enter a new option')"
      ]
     },
     "metadata": {},
     "output_type": "display_data"
    },
    {
     "data": {
      "application/vnd.jupyter.widget-view+json": {
       "model_id": "2acca23c30f143849c37b47d958bf1b8",
       "version_major": 2,
       "version_minor": 0
      },
      "text/plain": [
       "Button(description='Add Option', style=ButtonStyle())"
      ]
     },
     "metadata": {},
     "output_type": "display_data"
    },
    {
     "data": {
      "application/vnd.jupyter.widget-view+json": {
       "model_id": "bbefb9773a0946c9aef5d2ab820d748b",
       "version_major": 2,
       "version_minor": 0
      },
      "text/plain": [
       "Button(description='Delete Selected Options', style=ButtonStyle())"
      ]
     },
     "metadata": {},
     "output_type": "display_data"
    },
    {
     "data": {
      "application/vnd.jupyter.widget-view+json": {
       "model_id": "11903d4e0c7a42d5b4e70bb31fdcb187",
       "version_major": 2,
       "version_minor": 0
      },
      "text/plain": [
       "VBox(children=(Checkbox(value=False, description='Arxiv'), Checkbox(value=False, description='Semantic Scholar…"
      ]
     },
     "metadata": {},
     "output_type": "display_data"
    }
   ],
   "source": [
    "from corpus.widgets.widgets_util import DynamicSourceList\n",
    "dynamic_checkbox_list = DynamicSourceList()\n",
    "dynamic_checkbox_list.display_interface()"
   ]
  },
  {
   "cell_type": "markdown",
   "metadata": {},
   "source": [
    "**Task 5: Choose Whether to Display Only Results with Available PDFs or Include Abstract Results**\n",
    "\n",
    "Use the provided toggle buttons below to decide how comprehensive your results should be: select whether you want to view only elements with available PDFs or include those with abstracts only.\n",
    "\n",
    "If you prioritize full access to documents, choose the option to display only results with PDFs. This ensures that all retrieved items can be downloaded and read in full.\n",
    "\n",
    "Alternatively, if abstracts are sufficient for your initial exploration or if PDFs are unavailable, select the option to include results with abstracts only"
   ]
  },
  {
   "cell_type": "code",
   "execution_count": 24,
   "metadata": {
    "jupyter": {
     "source_hidden": true
    }
   },
   "outputs": [
    {
     "data": {
      "application/vnd.jupyter.widget-view+json": {
       "model_id": "d464d00c38f14cdf9294062fd4ee8f57",
       "version_major": 2,
       "version_minor": 0
      },
      "text/plain": [
       "ToggleButton(value=True, description='PDF only', tooltip='Include sources only if PDFs are available')"
      ]
     },
     "metadata": {},
     "output_type": "display_data"
    },
    {
     "data": {
      "application/vnd.jupyter.widget-view+json": {
       "model_id": "5a1b361588294621b1eb5e7adb39b5db",
       "version_major": 2,
       "version_minor": 0
      },
      "text/plain": [
       "ToggleButton(value=False, description='Abtracts and PDF', tooltip='Include abstracts when no PDF is found')"
      ]
     },
     "metadata": {},
     "output_type": "display_data"
    }
   ],
   "source": [
    "import ipywidgets as widgets\n",
    "from IPython.display import display\n",
    "\n",
    "toggle_include_abstracts = widgets.ToggleButton(\n",
    "    value=False,\n",
    "    description=\"Abtracts and PDF\",\n",
    "    tooltip=\"Include abstracts when no PDF is found\"\n",
    ")\n",
    "\n",
    "toggle_only_pdfs = widgets.ToggleButton(\n",
    "    value=True, \n",
    "    description=\"PDF only\",\n",
    "    tooltip=\"Include sources only if PDFs are available\"\n",
    ")\n",
    "\n",
    "def on_toggle_change(change):\n",
    "    if change['owner'] == toggle_include_abstracts and change['new']:\n",
    "        toggle_only_pdfs.value = False\n",
    "    elif change['owner'] == toggle_only_pdfs and change['new']:\n",
    "        toggle_include_abstracts.value = False\n",
    "\n",
    "toggle_include_abstracts.observe(on_toggle_change, names='value')\n",
    "toggle_only_pdfs.observe(on_toggle_change, names='value')\n",
    "\n",
    "display(toggle_only_pdfs, toggle_include_abstracts)\n"
   ]
  },
  {
   "cell_type": "markdown",
   "metadata": {},
   "source": [
    "**Task 6: Display results**\n",
    "\n",
    "Once all inputs have been configured—research interest, search query, sources, search limits, and result type preferences—proceed by running the code cell below.\n",
    "\n",
    "Carefully review the retrieved items and use the checkboxes to mark the ones most relevant to your research."
   ]
  },
  {
   "cell_type": "code",
   "execution_count": 160,
   "metadata": {
    "jupyter": {
     "source_hidden": true
    },
    "scrolled": true
   },
   "outputs": [
    {
     "data": {
      "application/vnd.jupyter.widget-view+json": {
       "model_id": "45190e0b101d45ba8a8a8e91d31d5c6f",
       "version_major": 2,
       "version_minor": 0
      },
      "text/plain": [
       "Button(description='Query and display results', layout=Layout(width='200px'), style=ButtonStyle())"
      ]
     },
     "metadata": {},
     "output_type": "display_data"
    },
    {
     "data": {
      "application/vnd.jupyter.widget-view+json": {
       "model_id": "b9acfff619a3419184982d738c2ed740",
       "version_major": 2,
       "version_minor": 0
      },
      "text/plain": [
       "Output()"
      ]
     },
     "metadata": {},
     "output_type": "display_data"
    }
   ],
   "source": [
    "from semanticscholar import SemanticScholar\n",
    "from corpus.util.arxiv_api import Arxiv\n",
    "from serpapi import GoogleScholarSearch\n",
    "import ipywidgets as widgets\n",
    "from IPython.display import display, clear_output\n",
    "import os\n",
    "from dotenv import load_dotenv\n",
    "\n",
    "load_dotenv()\n",
    "\n",
    "\n",
    "def truncate_text(text, limit):\n",
    "    if len(text) > limit:\n",
    "        return text[:limit] + \"...\"\n",
    "    return text\n",
    "\n",
    "def process_and_display_sources(query, sources, max_results=slider_widget.get_current_value()):\n",
    "    global results \n",
    "    results = []\n",
    "    progress_bar = widgets.IntProgress(\n",
    "        value=0,\n",
    "        min=0,\n",
    "        max=len(sources),\n",
    "        description='Progress:',\n",
    "        bar_style='info',\n",
    "        orientation='horizontal'\n",
    "    )\n",
    "    display(progress_bar)\n",
    "\n",
    "    for idx, source in enumerate(sources):\n",
    "        if source == \"Arxiv\":\n",
    "            arxiv_instance = Arxiv()\n",
    "            results += arxiv_instance.query_arxiv(query, max_results, \"relevance\", True)\n",
    "        \n",
    "        elif source == \"Semantic Scholar\":\n",
    "            sch = SemanticScholar()\n",
    "            smscholar = sch.search_paper(query, limit=max_results)\n",
    "            for i in smscholar.items:\n",
    "                results.append([\n",
    "                    i.title, \n",
    "                    \", \".join(author['name'] for author in i.authors), \n",
    "                    i.abstract, \n",
    "                    i.publicationDate, \n",
    "                    None if i.openAccessPdf is None else i.openAccessPdf.get('url')\n",
    "                ])\n",
    "        \n",
    "        elif source == \"Google Scholar\":\n",
    "            params = {\n",
    "                \"api_key\": os.getenv('GOOGLESCHOLAR'),\n",
    "                \"engine\": \"google_scholar\",\n",
    "                \"hl\": \"en\",\n",
    "                \"q\": query,\n",
    "                \"num\":max_results\n",
    "            }\n",
    "            search = GoogleScholarSearch(params)\n",
    "            gsresult = search.get_dict()\n",
    "            for i in gsresult.get(\"organic_results\", []):\n",
    "                if i.get(\"resources\") and i[\"publication_info\"].get(\"authors\"):\n",
    "                    results.append([\n",
    "                        i[\"title\"], \n",
    "                        \"; \".join(author[\"name\"] for author in i[\"publication_info\"][\"authors\"]), \n",
    "                        i[\"snippet\"], \n",
    "                        None, \n",
    "                        i[\"resources\"][0][\"link\"]\n",
    "                    ])\n",
    "                elif i.get(\"resources\"):\n",
    "                    results.append([\n",
    "                        i[\"title\"], \n",
    "                        \"; \".join(i[\"publication_info\"][\"summary\"]), \n",
    "                        i[\"snippet\"], \n",
    "                        None, \n",
    "                        i[\"resources\"][0][\"link\"]\n",
    "                    ])\n",
    "                else:\n",
    "                    results.append([\n",
    "                        i[\"title\"], \n",
    "                        \"; \".join(i[\"publication_info\"][\"summary\"]), \n",
    "                        i[\"snippet\"], \n",
    "                        None, \n",
    "                        None\n",
    "                    ])\n",
    "        \n",
    "        else:\n",
    "            print(f\"Unknown source specified: {source}\")\n",
    "        \n",
    "        progress_bar.value = idx + 1\n",
    "    \n",
    "    clear_output(wait=True)\n",
    "\n",
    "    accordion = widgets.Accordion(\n",
    "        layout=widgets.Layout(width='900px', overflow='hidden', white_space='nowrap', text_overflow='ellipsis')\n",
    "    )\n",
    "    global checkboxes\n",
    "    checkboxes = []\n",
    "    accordion_children = []\n",
    "\n",
    "    filter_results = [item for item in results if item[4] is not None]\n",
    "\n",
    "    for i, result in enumerate(filter_results):\n",
    "        title, authors, abstract, date, link = result\n",
    "        \n",
    "        checkbox = widgets.Checkbox(value=False, layout=widgets.Layout(margin='7.4px 0px'))\n",
    "        checkboxes.append(checkbox)\n",
    "        \n",
    "        text_widget = widgets.HTMLMath(\n",
    "            value=f\"\"\"\n",
    "            <h4>{title}</h4>\n",
    "            <p><strong>Abstract:</strong> {abstract or 'No abstract available.'}</p>\n",
    "            <p><strong>Authors:</strong> {authors}</p>\n",
    "            <p><strong>Published:</strong> {date or 'Date not available'}</p>\n",
    "                    <p>\n",
    "            <a href=\"{link}\" target=\"_blank\" style=\"color: blue; text-decoration: underline;\">\n",
    "                Read more\n",
    "            </a>\n",
    "        </p>\n",
    "            \"\"\"\n",
    "        )\n",
    "        section_content = widgets.VBox([text_widget])\n",
    "        accordion_children.append(section_content)\n",
    "\n",
    "    accordion.children = tuple(accordion_children)\n",
    "\n",
    "\n",
    "    for i, result in enumerate(filter_results):\n",
    "        accordion.set_title(i, truncate_text(result[0],130))\n",
    "\n",
    "    checkbox_container = widgets.VBox(\n",
    "        checkboxes,\n",
    "        layout=widgets.Layout(align_items='flex-start', margin='0px')\n",
    "    )\n",
    "    \n",
    "    accordion.layout.margin = '0px 0px 0px -180px'\n",
    "    layout = widgets.HBox([checkbox_container, accordion], layout=widgets.Layout(spacing='0px'))\n",
    "\n",
    "    display(layout)\n",
    "\n",
    "sources = dynamic_checkbox_list.get_selected_options()\n",
    "query = papers_search_query\n",
    "\n",
    "button_query = widgets.Button(description=\"Query and display results\", layout=widgets.Layout(width=\"200px\"))\n",
    "output_query = widgets.Output()\n",
    "\n",
    "display(button_query, output_query)\n",
    "\n",
    "def button_click(b):\n",
    "    with output_query:\n",
    "        process_and_display_sources(query, sources)\n",
    "        \n",
    "\n",
    "\n",
    "button_query.on_click(button_click)\n"
   ]
  },
  {
   "cell_type": "markdown",
   "metadata": {},
   "source": [
    "**Task 6: Click the Button to Download Selected Papers**\n",
    "\n",
    "Once your selection is complete, click the 'Download Selected Papers' button provided below."
   ]
  },
  {
   "cell_type": "code",
   "execution_count": 153,
   "metadata": {
    "jupyter": {
     "source_hidden": true
    }
   },
   "outputs": [
    {
     "data": {
      "application/vnd.jupyter.widget-view+json": {
       "model_id": "67fbb876dfde4608abc80a8b74057dd1",
       "version_major": 2,
       "version_minor": 0
      },
      "text/plain": [
       "Button(description='Download Selected Papers', style=ButtonStyle())"
      ]
     },
     "metadata": {},
     "output_type": "display_data"
    },
    {
     "data": {
      "application/vnd.jupyter.widget-view+json": {
       "model_id": "9f0f87fa120846aa86b57f2041657865",
       "version_major": 2,
       "version_minor": 0
      },
      "text/plain": [
       "Output()"
      ]
     },
     "metadata": {},
     "output_type": "display_data"
    }
   ],
   "source": [
    "from IPython.display import display\n",
    "import requests\n",
    "import re\n",
    "\n",
    "save_folder = \"./corpus_result/\"\n",
    "\n",
    "\n",
    "def sanitize_filename(filename):\n",
    "    sanitized = re.sub(r'[^\\w\\-_\\.]', '_', filename)\n",
    "    return sanitized\n",
    "\n",
    "def download_pdf(name, url, save_path):\n",
    "    try:\n",
    "        response = requests.get(url)\n",
    "        if response.status_code == 200:\n",
    "            print(f\"'{name}'. Downloaded succesfully\")\n",
    "            with open(save_path, \"wb\") as f:\n",
    "                f.write(response.content)\n",
    "        else:\n",
    "            print(f\"Failed to download {name}. Status code: {response.status_code}\")\n",
    "    except: \n",
    "        print(f\"{name}: No PDF accessible to download\")\n",
    "\n",
    "\n",
    "\n",
    "button = widgets.Button(description=\"Download Selected Papers\")\n",
    "output_task6 = widgets.Output()\n",
    "\n",
    "display(button, output_task6)\n",
    "\n",
    "def on_button_clicked(b):\n",
    "    with output_task6:\n",
    "        output.clear_output()\n",
    "        selected_indexes = [i for i, checkbox in enumerate(checkboxes) if checkbox.value]\n",
    "        for index in selected_indexes:\n",
    "            file_name = f\"{sanitize_filename(results[index][0])}.pdf\"\n",
    "            save_path = f\"{save_folder}{file_name}\"\n",
    "            download_pdf(results[index][0], results[index][4], save_path)\n",
    "\n",
    "\n",
    "button.on_click(on_button_clicked)"
   ]
  },
  {
   "cell_type": "markdown",
   "metadata": {},
   "source": [
    "<div class=\"alert alert-block alert-info\"> <b>Note:</b> After clicking the 'Download Selected Papers' button, the system actively downloaded the selected papers and added them to your scientific corpus in the folder \"Scientific_Corpus\". You can revisit the folder and go through the PDF files if you wish.</div>"
   ]
  },
  {
   "cell_type": "markdown",
   "metadata": {},
   "source": [
    "**(Optional) Task 7: Retry the Process for Additional Papers**\n",
    "\n",
    "If you want to expand or refine your corpus further, you can revisit the previous steps to adjust your search parameters. This includes updating the search query, changing the search limits, or selecting different sources."
   ]
  },
  {
   "cell_type": "markdown",
   "metadata": {},
   "source": [
    "**Task 8: Dois**\n",
    "\n",
    "This task automates the process of extracting the doi for each downloaded paper. The doi numbers are saved in a csv file \"doi_list\". \n",
    "\n",
    "This task is crucial to facilitate identifying the papers in later steps."
   ]
  },
  {
   "cell_type": "code",
   "execution_count": 155,
   "metadata": {
    "jupyter": {
     "source_hidden": true
    }
   },
   "outputs": [
    {
     "data": {
      "application/vnd.jupyter.widget-view+json": {
       "model_id": "225f7c718cb64992a621d566bdf911a3",
       "version_major": 2,
       "version_minor": 0
      },
      "text/plain": [
       "Button(description='Save DOIs', style=ButtonStyle())"
      ]
     },
     "metadata": {},
     "output_type": "display_data"
    },
    {
     "data": {
      "application/vnd.jupyter.widget-view+json": {
       "model_id": "5dfb0c8684ed463086f8c17378326f7a",
       "version_major": 2,
       "version_minor": 0
      },
      "text/plain": [
       "Output()"
      ]
     },
     "metadata": {},
     "output_type": "display_data"
    }
   ],
   "source": [
    "import ipywidgets as widgets\n",
    "from IPython.display import display\n",
    "import pdf2doi\n",
    "import csv\n",
    "\n",
    "pdf2doi.config.set('verbose', False)\n",
    "\n",
    "def process_pdfs_and_save_doi(_):\n",
    "    output_task8.clear_output()\n",
    "    with output_task8:\n",
    "        try:\n",
    "            test = pdf2doi.pdf2doi('./corpus_result/')\n",
    "            doi_list = [entry[\"identifier\"] for entry in test]\n",
    "\n",
    "            output_file = \"doi_list.csv\"\n",
    "            with open(output_file, mode='w', newline='') as csv_file:\n",
    "                writer = csv.writer(csv_file)\n",
    "                writer.writerow([\"paper:doi\"])\n",
    "                writer.writerows([[doi] for doi in doi_list])\n",
    "\n",
    "            print(f\"DOIs saved to {output_file}\")\n",
    "        except Exception as e:\n",
    "            print(f\"An error occurred: {e}\")\n",
    "\n",
    "button = widgets.Button(description=\"Save DOIs\")\n",
    "output_task8 = widgets.Output()\n",
    "\n",
    "button.on_click(process_pdfs_and_save_doi)\n",
    "\n",
    "display(button, output_task8)\n"
   ]
  },
  {
   "cell_type": "markdown",
   "metadata": {},
   "source": [
    "**Alternative Step: Import an Existing Corpus from Zotero**\n",
    "\n",
    "If you already have a curated corpus in Zotero, you can skip the keyword generation and search process entirely.\n"
   ]
  },
  {
   "cell_type": "code",
   "execution_count": null,
   "metadata": {
    "jupyter": {
     "source_hidden": true
    }
   },
   "outputs": [],
   "source": [
    "from pyzotero import zotero\n",
    "import os\n",
    "from util.zotero_util import ZoteroUtil\n",
    "import os\n",
    "from dotenv import load_dotenv\n",
    "\n",
    "load_dotenv()\n",
    "\n",
    "API_KEY = os.getenv('ZOTERO_API_KEY')\n",
    "LIBRARY_ID = os.getenv('LIBRARY_ID')\n",
    "LIBRARY_TYPE = os.getenv('LIBRARY_TYPE')\n",
    "COLLECTIONS = os.getenv('COLLECTION')\n",
    "\n",
    "\n",
    "zot = zotero.Zotero(LIBRARY_ID, LIBRARY_TYPE, API_KEY)\n",
    "\n",
    "download_directory = 'zotero_pdfs'\n",
    "os.makedirs(download_directory, exist_ok=True)\n",
    "\n",
    "items = zot.collection_items(COLLECTIONS)\n",
    "for item in items:\n",
    "    if 'url' in item['data']:\n",
    "        ZoteroUtil.download_pdf(item['data']['url'], item['data']['key'])\n",
    "        \n",
    "        \n",
    "print(\"Download completed. Found documents were downloaded\")\n",
    "            \n"
   ]
  }
 ],
 "metadata": {
  "kernelspec": {
   "display_name": "Python 3",
   "language": "python",
   "name": "python3"
  },
  "language_info": {
   "codemirror_mode": {
    "name": "ipython",
    "version": 3
   },
   "file_extension": ".py",
   "mimetype": "text/x-python",
   "name": "python",
   "nbconvert_exporter": "python",
   "pygments_lexer": "ipython3",
   "version": "3.8.5"
  }
 },
 "nbformat": 4,
 "nbformat_minor": 5
}
