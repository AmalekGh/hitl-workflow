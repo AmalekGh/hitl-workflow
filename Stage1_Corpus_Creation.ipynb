{
 "cells": [
  {
   "cell_type": "markdown",
   "id": "52485adc-b9f7-4482-bbe7-46c75319b4c8",
   "metadata": {},
   "source": [
    "# HITL-SCC_Workflow Stage 1 : Corpus Setup"
   ]
  },
  {
   "cell_type": "markdown",
   "id": "56b35202-102e-4e75-bc85-8a3200663ca9",
   "metadata": {},
   "source": [
    "This stage represents the first step of the Scientific Content Creation Workflow, which represents a user interactive pipeline to systematically extract knowledge from a corpus of scientific literature. \n",
    "\n",
    "This should help the user have better insights into key contents of the corpus.\n",
    "\n",
    "This notebook provides a step-by-step, instruction based approach from setting up the corpus to extracting and representing knowledge relevant to your research interest until creating a ready-to-import CSV file for the ORKG. \n",
    "\n",
    "The first stage is to support you in the process of retrieving a set of relevant literature.\n",
    "\n",
    "Based on your research interest, this workflow should support you in formalizing effective search queries. "
   ]
  },
  {
   "cell_type": "markdown",
   "id": "530d816e-f8f2-403f-b634-0221a6e378cb",
   "metadata": {},
   "source": [
    "<div class=\"alert alert-block alert-info\"> <b>Note:</b> By the end of the tasks starting, it will result in creating the scientific corpus.\n",
    "</div>"
   ]
  },
  {
   "cell_type": "markdown",
   "id": "d8a2cbe4-a2ac-43c7-87c3-8c6f5c4491ab",
   "metadata": {},
   "source": [
    "**Task 1: Formalize research interest**"
   ]
  },
  {
   "cell_type": "markdown",
   "id": "8a143a25-ac42-44cd-942c-84ec49ab5cd0",
   "metadata": {},
   "source": [
    "Begin by entering your research interest in the provided text area. This could be a concise statement summarizing your field of study or a specific problem you are investigating.\n",
    "\n",
    "For this, we would use an LLM to assist you in generating search keywords.\n",
    "\n",
    "Click the **'Generate Keywords'** button to let the integrated LLM analyze your input and produce a list of keywords relevant to your research interest."
   ]
  },
  {
   "cell_type": "markdown",
   "id": "d7f02e19-4293-493a-9574-df689bff4244",
   "metadata": {},
   "source": [
    "The generated keywords will help define your search queries needed for the next task."
   ]
  },
  {
   "cell_type": "code",
   "execution_count": 7,
   "id": "cf2c8aaa-e587-49e3-a120-46b618099950",
   "metadata": {
    "scrolled": true
   },
   "outputs": [
    {
     "data": {
      "application/vnd.jupyter.widget-view+json": {
       "model_id": "60d08242e3d14b7085f1855592d2b80d",
       "version_major": 2,
       "version_minor": 0
      },
      "text/plain": [
       "Textarea(value='', description='Research Interest:', layout=Layout(height='80px', width='80%'), placeholder='E…"
      ]
     },
     "metadata": {},
     "output_type": "display_data"
    },
    {
     "data": {
      "application/vnd.jupyter.widget-view+json": {
       "model_id": "4116b1d604e148d780dc0146868a8338",
       "version_major": 2,
       "version_minor": 0
      },
      "text/plain": [
       "Button(button_style='success', description='Generate keywords', icon='search', style=ButtonStyle(), tooltip='C…"
      ]
     },
     "metadata": {},
     "output_type": "display_data"
    },
    {
     "data": {
      "application/vnd.jupyter.widget-view+json": {
       "model_id": "72e7550a3ae44ead80d8732435880af1",
       "version_major": 2,
       "version_minor": 0
      },
      "text/plain": [
       "Output()"
      ]
     },
     "metadata": {},
     "output_type": "display_data"
    }
   ],
   "source": [
    "import os\n",
    "import ipywidgets as widgets\n",
    "from IPython.display import display\n",
    "from mistralai import Mistral \n",
    "from dotenv import load_dotenv\n",
    "\n",
    "load_dotenv()\n",
    "\n",
    "research_interest_input = widgets.Textarea(\n",
    "    value='', \n",
    "    placeholder='Enter your formalized research interest here...',\n",
    "    description='Research Interest:',\n",
    "    layout=widgets.Layout(width='80%', height='80px')\n",
    ")\n",
    "\n",
    "generate_button = widgets.Button(\n",
    "    description='Generate keywords',\n",
    "    button_style='success',\n",
    "    tooltip='Click to generate keywords based on your research interest',\n",
    "    icon='search'\n",
    ")\n",
    "\n",
    "output_task1 = widgets.Output()\n",
    "\n",
    "s = Mistral(api_key=os.getenv('MISTRALAI'))\n",
    "\n",
    "def generate_queries(_):\n",
    "\n",
    "    with output_task1:\n",
    "        output_task1.clear_output()\n",
    "        loading_label = widgets.Label(value=\"⏳ Loading...\")\n",
    "        display(loading_label)\n",
    "        research_interest = research_interest_input.value.strip()\n",
    "        if not research_interest:\n",
    "            print(\"Please provide a valid research interest.\")\n",
    "            return\n",
    "        \n",
    "        prompt = (\n",
    "            f\"You are an expert researcher. Based on the following research interest, \"\n",
    "            f\"generate a list of keywords that could help retrieve relevant academic papers. \"\n",
    "            f\"Your will respond ONLY in bullet points as keywords. \"\n",
    "            f\"Research Interest: {research_interest}\"\n",
    "        )\n",
    "        \n",
    "        try:\n",
    "            res = s.chat.complete(\n",
    "                model=\"mistral-large-latest\",\n",
    "                messages=[\n",
    "                    {\"content\": prompt, \"role\": \"user\"}\n",
    "                ]\n",
    "            )\n",
    "            \n",
    "            generated_queries = res.choices[0].message.content\n",
    "            clear_output()\n",
    "            if not generated_queries:\n",
    "                print(\"No keywords were generated. Please refine your research interest.\")\n",
    "            else:\n",
    "                \n",
    "                print(\"Generated keywords:\")\n",
    "                print(generated_queries)\n",
    "        \n",
    "        except Exception as e:\n",
    "            print(f\"An error occurred while generating keywords: {e}\")\n",
    "\n",
    "generate_button.on_click(generate_queries)\n",
    "\n",
    "display(research_interest_input, generate_button, output_task1)\n"
   ]
  },
  {
   "cell_type": "markdown",
   "id": "0c80ad11-5c09-4f0d-a475-c70cbe561817",
   "metadata": {},
   "source": [
    "**Task 2: Define search query**"
   ]
  },
  {
   "cell_type": "markdown",
   "id": "6a4aedba-0713-4853-8d83-4bd1263dd898",
   "metadata": {},
   "source": [
    "Using the keywords generated in the previous step, construct a search query and input it into the text field labeled **'Search Query'**.\n",
    "\n",
    "Feel free to modify or enhance the search query based on your specific needs or additional insights."
   ]
  },
  {
   "cell_type": "code",
   "execution_count": 10,
   "id": "de9e9135-045f-4bdf-aa31-fd53e4740a3d",
   "metadata": {},
   "outputs": [
    {
     "data": {
      "application/vnd.jupyter.widget-view+json": {
       "model_id": "1c57331ad2bf40e69448d529065b9c45",
       "version_major": 2,
       "version_minor": 0
      },
      "text/plain": [
       "Text(value='', placeholder='Your search query here')"
      ]
     },
     "metadata": {},
     "output_type": "display_data"
    }
   ],
   "source": [
    "# To see the code click here\n",
    "import ipywidgets as widgets\n",
    "from IPython.display import display\n",
    "\n",
    "papers_search_query=''\n",
    "\n",
    "input_widget = widgets.Text(\n",
    "    value='',\n",
    "    placeholder='Your search query here',\n",
    "    disabled=False\n",
    ")\n",
    "def save_input(change):\n",
    "    global papers_search_query\n",
    "    papers_search_query = change['new']\n",
    "\n",
    "input_widget.observe(save_input, names='value')\n",
    "\n",
    "display(input_widget)"
   ]
  },
  {
   "cell_type": "markdown",
   "id": "d2de41b4-76ef-496f-8cec-74b414ce71cc",
   "metadata": {},
   "source": [
    "**Task 3: Define search limit size**\n",
    "\n",
    "The next task is to define the size of the publications to render. \n",
    "\n",
    "Adjust the search limit using the interactive slider. This allows you to control the number of results retrieved from each source.\n",
    "\n",
    "Move the slider to select a number that reflects the scope of your search. The default number is 20 elements per source."
   ]
  },
  {
   "cell_type": "code",
   "execution_count": 12,
   "id": "3efb4161-564b-4820-be92-6a3accb1304a",
   "metadata": {},
   "outputs": [
    {
     "data": {
      "application/vnd.jupyter.widget-view+json": {
       "model_id": "3d3ed891055548179fb2107eb005f36c",
       "version_major": 2,
       "version_minor": 0
      },
      "text/plain": [
       "IntSlider(value=20, description='Documents Limit:', layout=Layout(width='400px'), min=10, style=SliderStyle(de…"
      ]
     },
     "metadata": {},
     "output_type": "display_data"
    }
   ],
   "source": [
    "from corpus.widgets.widgets_util import DocumentLimitSlider\n",
    "slider_widget = DocumentLimitSlider()\n",
    "get_value_func = slider_widget.display_slider()\n"
   ]
  },
  {
   "cell_type": "markdown",
   "id": "04cb6e1b-b45e-42b8-8896-11b79bfdd433",
   "metadata": {},
   "source": [
    "**Task 4: Define sources**\n",
    "\n",
    "Select the sources you wish to query using the checkboxes provided below. Available sources may include databases like **ArXiv**, **Semantic Scholar**, or/and **Google Scholar**.\n"
   ]
  },
  {
   "cell_type": "code",
   "execution_count": 14,
   "id": "1b35d7e9-7775-48c3-b43e-a73f10fea50c",
   "metadata": {},
   "outputs": [
    {
     "data": {
      "application/vnd.jupyter.widget-view+json": {
       "model_id": "3fca9930eb6641b89e44bc68da99d0ba",
       "version_major": 2,
       "version_minor": 0
      },
      "text/plain": [
       "Text(value='', placeholder='Enter a new option')"
      ]
     },
     "metadata": {},
     "output_type": "display_data"
    },
    {
     "data": {
      "application/vnd.jupyter.widget-view+json": {
       "model_id": "b3c044e9eee543a89f25cadc3e7eb2f5",
       "version_major": 2,
       "version_minor": 0
      },
      "text/plain": [
       "Button(description='Add Option', style=ButtonStyle())"
      ]
     },
     "metadata": {},
     "output_type": "display_data"
    },
    {
     "data": {
      "application/vnd.jupyter.widget-view+json": {
       "model_id": "217abeba56cd47a89aa47b3c5cd90d79",
       "version_major": 2,
       "version_minor": 0
      },
      "text/plain": [
       "Button(description='Delete Selected Options', style=ButtonStyle())"
      ]
     },
     "metadata": {},
     "output_type": "display_data"
    },
    {
     "data": {
      "application/vnd.jupyter.widget-view+json": {
       "model_id": "b1f44a4d9ef441048f80317457e6405d",
       "version_major": 2,
       "version_minor": 0
      },
      "text/plain": [
       "VBox(children=(Checkbox(value=False, description='Arxiv'), Checkbox(value=False, description='Semantic Scholar…"
      ]
     },
     "metadata": {},
     "output_type": "display_data"
    }
   ],
   "source": [
    "from corpus.widgets.widgets_util import DynamicSourceList\n",
    "dynamic_checkbox_list = DynamicSourceList()\n",
    "dynamic_checkbox_list.display_interface()"
   ]
  },
  {
   "cell_type": "markdown",
   "id": "fc3cf089-27f2-47b0-add9-4ac5ee074cd1",
   "metadata": {},
   "source": [
    "**Task 5: Choose Whether to Display Only Results with Available PDFs or Include Abstract Results**\n",
    "\n",
    "Use the provided toggle buttons below to decide how comprehensive your results should be: select whether you want to view only elements with available PDFs or include those with abstracts only.\n",
    "\n",
    "If you prioritize full access to documents, choose the option to display only results with PDFs. This ensures that all retrieved items can be downloaded and read in full.\n",
    "\n",
    "Alternatively, if abstracts are sufficient for your initial exploration or if PDFs are unavailable, select the option to include results with abstracts only"
   ]
  },
  {
   "cell_type": "code",
   "execution_count": 16,
   "id": "23df09b8-0753-48ba-adc9-2a123cdc4163",
   "metadata": {},
   "outputs": [
    {
     "data": {
      "application/vnd.jupyter.widget-view+json": {
       "model_id": "7c74b032af184e29b1be10f1aab295f5",
       "version_major": 2,
       "version_minor": 0
      },
      "text/plain": [
       "ToggleButton(value=True, description='PDF only', tooltip='Include sources only if PDFs are available')"
      ]
     },
     "metadata": {},
     "output_type": "display_data"
    },
    {
     "data": {
      "application/vnd.jupyter.widget-view+json": {
       "model_id": "2f0fc4752afc423e8381778909b22e60",
       "version_major": 2,
       "version_minor": 0
      },
      "text/plain": [
       "ToggleButton(value=False, description='Abtracts and PDF', tooltip='Include abstracts when no PDF is found')"
      ]
     },
     "metadata": {},
     "output_type": "display_data"
    }
   ],
   "source": [
    "import ipywidgets as widgets\n",
    "from IPython.display import display\n",
    "\n",
    "toggle_include_abstracts = widgets.ToggleButton(\n",
    "    value=False,\n",
    "    description=\"Abtracts and PDF\",\n",
    "    tooltip=\"Include abstracts when no PDF is found\"\n",
    ")\n",
    "\n",
    "toggle_only_pdfs = widgets.ToggleButton(\n",
    "    value=True, \n",
    "    description=\"PDF only\",\n",
    "    tooltip=\"Include sources only if PDFs are available\"\n",
    ")\n",
    "\n",
    "def on_toggle_change(change):\n",
    "    if change['owner'] == toggle_include_abstracts and change['new']:\n",
    "        toggle_only_pdfs.value = False\n",
    "    elif change['owner'] == toggle_only_pdfs and change['new']:\n",
    "        toggle_include_abstracts.value = False\n",
    "\n",
    "toggle_include_abstracts.observe(on_toggle_change, names='value')\n",
    "toggle_only_pdfs.observe(on_toggle_change, names='value')\n",
    "\n",
    "display(toggle_only_pdfs, toggle_include_abstracts)\n"
   ]
  },
  {
   "cell_type": "markdown",
   "id": "88a334f6-a281-45b3-a782-2cb9acb097f3",
   "metadata": {},
   "source": [
    "**Task 6: Display results**\n",
    "\n",
    "Once all inputs have been configured—research interest, search query, sources, search limits, and result type preferences—proceed with starting the search process by clicking on the \"Query and display results\" button.\n",
    "\n",
    "Carefully review the retrieved items and use the checkboxes to mark the ones most relevant to your research."
   ]
  },
  {
   "cell_type": "code",
   "execution_count": 18,
   "id": "a830d001-f354-4a3a-ace3-e4c02f0f71f3",
   "metadata": {
    "scrolled": true
   },
   "outputs": [
    {
     "data": {
      "application/vnd.jupyter.widget-view+json": {
       "model_id": "da03a36d012a42daac55feec172d5ce4",
       "version_major": 2,
       "version_minor": 0
      },
      "text/plain": [
       "Button(description='Query and display results', layout=Layout(width='200px'), style=ButtonStyle())"
      ]
     },
     "metadata": {},
     "output_type": "display_data"
    },
    {
     "data": {
      "application/vnd.jupyter.widget-view+json": {
       "model_id": "425ba28b36884099a23927fe86b6507a",
       "version_major": 2,
       "version_minor": 0
      },
      "text/plain": [
       "Output()"
      ]
     },
     "metadata": {},
     "output_type": "display_data"
    }
   ],
   "source": [
    "#Click to collapse code\n",
    "from semanticscholar import SemanticScholar\n",
    "from corpus.util.arxiv_api import Arxiv\n",
    "from serpapi import GoogleScholarSearch\n",
    "import ipywidgets as widgets\n",
    "from IPython.display import display, clear_output\n",
    "import os\n",
    "from dotenv import load_dotenv\n",
    "\n",
    "load_dotenv()\n",
    "\n",
    "\n",
    "def truncate_text(text, limit):\n",
    "    if len(text) > limit:\n",
    "        return text[:limit] + \"...\"\n",
    "    return text\n",
    "\n",
    "def process_and_display_sources(query, sources, max_results=slider_widget.get_current_value()):\n",
    "    global results \n",
    "    results = []\n",
    "    progress_bar = widgets.IntProgress(\n",
    "        value=0,\n",
    "        min=0,\n",
    "        max=len(sources),\n",
    "        description='Progress:',\n",
    "        bar_style='info',\n",
    "        orientation='horizontal'\n",
    "    )\n",
    "    display(progress_bar)\n",
    "\n",
    "    for idx, source in enumerate(sources):\n",
    "        if source == \"Arxiv\":\n",
    "            arxiv_instance = Arxiv()\n",
    "            results += arxiv_instance.query_arxiv(query, max_results, \"relevance\", True)\n",
    "        \n",
    "        elif source == \"Semantic Scholar\":\n",
    "            sch = SemanticScholar()\n",
    "            smscholar = sch.search_paper(query, limit=max_results)\n",
    "            for i in smscholar.items:\n",
    "                results.append([\n",
    "                    i.title, \n",
    "                    \", \".join(author['name'] for author in i.authors), \n",
    "                    i.abstract, \n",
    "                    i.publicationDate, \n",
    "                    None if i.openAccessPdf is None else i.openAccessPdf.get('url')\n",
    "                ])\n",
    "        \n",
    "        elif source == \"Google Scholar\":\n",
    "            params = {\n",
    "                \"api_key\": os.getenv('GOOGLESCHOLAR'),\n",
    "                \"engine\": \"google_scholar\",\n",
    "                \"hl\": \"en\",\n",
    "                \"q\": query,\n",
    "                \"num\":max_results\n",
    "            }\n",
    "            search = GoogleScholarSearch(params)\n",
    "            gsresult = search.get_dict()\n",
    "            for i in gsresult.get(\"organic_results\", []):\n",
    "                if i.get(\"resources\") and i[\"publication_info\"].get(\"authors\"):\n",
    "                    results.append([\n",
    "                        i[\"title\"], \n",
    "                        \"; \".join(author[\"name\"] for author in i[\"publication_info\"][\"authors\"]), \n",
    "                        i[\"snippet\"], \n",
    "                        None, \n",
    "                        i[\"resources\"][0][\"link\"]\n",
    "                    ])\n",
    "                elif i.get(\"resources\"):\n",
    "                    results.append([\n",
    "                        i[\"title\"], \n",
    "                        \"; \".join(i[\"publication_info\"][\"summary\"]), \n",
    "                        i[\"snippet\"], \n",
    "                        None, \n",
    "                        i[\"resources\"][0][\"link\"]\n",
    "                    ])\n",
    "                else:\n",
    "                    results.append([\n",
    "                        i[\"title\"], \n",
    "                        \"; \".join(i[\"publication_info\"][\"summary\"]), \n",
    "                        i[\"snippet\"], \n",
    "                        None, \n",
    "                        None\n",
    "                    ])\n",
    "        \n",
    "        else:\n",
    "            print(f\"Unknown source specified: {source}\")\n",
    "        \n",
    "        progress_bar.value = idx + 1\n",
    "    \n",
    "    clear_output(wait=True)\n",
    "\n",
    "    accordion = widgets.Accordion(\n",
    "        layout=widgets.Layout(width='900px', overflow='hidden', white_space='nowrap', text_overflow='ellipsis')\n",
    "    )\n",
    "    global checkboxes\n",
    "    checkboxes = []\n",
    "    accordion_children = []\n",
    "\n",
    "    filter_results = [item for item in results if item[4] is not None]\n",
    "\n",
    "    for i, result in enumerate(filter_results):\n",
    "        title, authors, abstract, date, link = result\n",
    "        \n",
    "        checkbox = widgets.Checkbox(value=False, layout=widgets.Layout(margin='7.4px 0px'))\n",
    "        checkboxes.append(checkbox)\n",
    "        \n",
    "        text_widget = widgets.HTMLMath(\n",
    "            value=f\"\"\"\n",
    "            <h4>{title}</h4>\n",
    "            <p><strong>Abstract:</strong> {abstract or 'No abstract available.'}</p>\n",
    "            <p><strong>Authors:</strong> {authors}</p>\n",
    "            <p><strong>Published:</strong> {date or 'Date not available'}</p>\n",
    "                    <p>\n",
    "            <a href=\"{link}\" target=\"_blank\" style=\"color: blue; text-decoration: underline;\">\n",
    "                Read more\n",
    "            </a>\n",
    "        </p>\n",
    "            \"\"\"\n",
    "        )\n",
    "        section_content = widgets.VBox([text_widget])\n",
    "        accordion_children.append(section_content)\n",
    "\n",
    "    accordion.children = tuple(accordion_children)\n",
    "\n",
    "\n",
    "    for i, result in enumerate(filter_results):\n",
    "        accordion.set_title(i, truncate_text(result[0],130))\n",
    "\n",
    "    checkbox_container = widgets.VBox(\n",
    "        checkboxes,\n",
    "        layout=widgets.Layout(align_items='flex-start', margin='0px')\n",
    "    )\n",
    "    \n",
    "    accordion.layout.margin = '0px 0px 0px -180px'\n",
    "    layout = widgets.HBox([checkbox_container, accordion], layout=widgets.Layout(spacing='0px'))\n",
    "\n",
    "    display(layout)\n",
    "\n",
    "\n",
    "button_query = widgets.Button(description=\"Query and display results\", layout=widgets.Layout(width=\"200px\"))\n",
    "output_query = widgets.Output()\n",
    "\n",
    "display(button_query, output_query)\n",
    "\n",
    "def button_click(b):\n",
    "    with output_query:\n",
    "        sources = dynamic_checkbox_list.get_selected_options()\n",
    "        query = papers_search_query\n",
    "        process_and_display_sources(query, sources)\n",
    "        \n",
    "\n",
    "\n",
    "button_query.on_click(button_click)\n"
   ]
  },
  {
   "cell_type": "markdown",
   "id": "dc90f7ba-1ae8-4fc9-882a-ddaaa360c085",
   "metadata": {},
   "source": [
    "**Task 6: Click the Button to Download Selected Papers**\n",
    "\n",
    "Once your selection is complete, click the 'Download Selected Papers' button provided below."
   ]
  },
  {
   "cell_type": "code",
   "execution_count": 20,
   "id": "1f135675-5851-4901-a5a7-6c8a709d0a4b",
   "metadata": {},
   "outputs": [
    {
     "data": {
      "application/vnd.jupyter.widget-view+json": {
       "model_id": "173d64e71f9d4366a8e2dd7db3e7e2c0",
       "version_major": 2,
       "version_minor": 0
      },
      "text/plain": [
       "Button(description='Download Selected Papers', style=ButtonStyle())"
      ]
     },
     "metadata": {},
     "output_type": "display_data"
    },
    {
     "data": {
      "application/vnd.jupyter.widget-view+json": {
       "model_id": "b8fc031955ea4f6f8a4b18fe6ca1dcfe",
       "version_major": 2,
       "version_minor": 0
      },
      "text/plain": [
       "Output()"
      ]
     },
     "metadata": {},
     "output_type": "display_data"
    }
   ],
   "source": [
    "from IPython.display import display\n",
    "import requests\n",
    "import re\n",
    "\n",
    "save_folder = \"./corpus_result/\"\n",
    "\n",
    "\n",
    "def sanitize_filename(filename):\n",
    "    sanitized = re.sub(r'[^\\w\\-_\\.]', '_', filename)\n",
    "    return sanitized\n",
    "\n",
    "def download_pdf(name, url, save_path):\n",
    "    try:\n",
    "        response = requests.get(url)\n",
    "        if response.status_code == 200:\n",
    "            print(f\"'{name}'. Downloaded succesfully\")\n",
    "            with open(save_path, \"wb\") as f:\n",
    "                f.write(response.content)\n",
    "        else:\n",
    "            print(f\"Failed to download {name}. Status code: {response.status_code}\")\n",
    "    except: \n",
    "        print(f\"{name}: No PDF accessible to download\")\n",
    "\n",
    "\n",
    "\n",
    "button = widgets.Button(description=\"Download Selected Papers\")\n",
    "output_task6 = widgets.Output()\n",
    "\n",
    "display(button, output_task6)\n",
    "\n",
    "def on_button_clicked(b):\n",
    "    with output_task6:\n",
    "        output_task6.clear_output()\n",
    "        selected_indexes = [i for i, checkbox in enumerate(checkboxes) if checkbox.value]\n",
    "        for index in selected_indexes:\n",
    "            file_name = f\"{sanitize_filename(results[index][0])}.pdf\"\n",
    "            save_path = f\"{save_folder}{file_name}\"\n",
    "            download_pdf(results[index][0], results[index][4], save_path)\n",
    "        output_task6.clear_output()\n",
    "        download_label = widgets.Label(value=\"✅ task completed!\")\n",
    "        display(download_label)\n",
    "\n",
    "\n",
    "button.on_click(on_button_clicked)"
   ]
  },
  {
   "cell_type": "markdown",
   "id": "e26b503c-07f1-49ab-a4f4-82cc69f82769",
   "metadata": {},
   "source": [
    "<div class=\"alert alert-block alert-info\"> <b>Note:</b> After clicking the 'Download Selected Papers' button, the system actively downloaded the selected papers and added them to your scientific corpus in the folder \"corpus_result\". You can revisit the folder and go through the PDF files if you wish.</div>"
   ]
  },
  {
   "cell_type": "markdown",
   "id": "88774f6a-ab44-4833-a90f-2869c41cbaca",
   "metadata": {},
   "source": [
    "**(Optional) Task 7: Retry the Process for Additional Papers**\n",
    "\n",
    "If you want to expand or refine your corpus further, you can revisit the previous steps to adjust your search parameters. This includes updating the search query, changing the search limits, or selecting different sources. For this, you will need to rerun all cells from the start. By clicking on the \"Fast Forward\" button in the notebook tab bar."
   ]
  },
  {
   "cell_type": "markdown",
   "id": "96040604-b0de-48d8-a873-c760512a4042",
   "metadata": {},
   "source": [
    "**Task 8: Digital Object Identifier**\n",
    "\n",
    "This task automates the process of extracting the doi for each downloaded paper. The doi numbers are saved in a csv file \"doi_list\". \n",
    "\n",
    "This task is crucial to facilitate identifying the papers in later steps."
   ]
  },
  {
   "cell_type": "code",
   "execution_count": 24,
   "id": "d4b94ab1-5133-4713-8cfa-350857d469d3",
   "metadata": {},
   "outputs": [
    {
     "data": {
      "application/vnd.jupyter.widget-view+json": {
       "model_id": "8adba4f7872a42598451b67019036f41",
       "version_major": 2,
       "version_minor": 0
      },
      "text/plain": [
       "Button(description='Save DOIs', style=ButtonStyle())"
      ]
     },
     "metadata": {},
     "output_type": "display_data"
    },
    {
     "data": {
      "application/vnd.jupyter.widget-view+json": {
       "model_id": "26f2d0ec7f1f4cf9b76becf1b7584d68",
       "version_major": 2,
       "version_minor": 0
      },
      "text/plain": [
       "Output()"
      ]
     },
     "metadata": {},
     "output_type": "display_data"
    }
   ],
   "source": [
    "\n",
    "import ipywidgets as widgets\n",
    "from IPython.display import display, HTML\n",
    "import pdf2doi\n",
    "import csv\n",
    "\n",
    "pdf2doi.config.set('verbose', False)\n",
    "\n",
    "def process_pdfs_and_save_doi(_):\n",
    "    output_task8.clear_output()\n",
    "    with output_task8:\n",
    "        try:\n",
    "            test = pdf2doi.pdf2doi('./corpus_result/')\n",
    "            doi_list = [entry[\"identifier\"] for entry in test]\n",
    "\n",
    "            output_file = \"doi_list.csv\"\n",
    "            with open(output_file, mode='w', newline='') as csv_file:\n",
    "                writer = csv.writer(csv_file)\n",
    "                writer.writerow([\"paper:doi\"])\n",
    "                writer.writerows([[doi] for doi in doi_list])\n",
    "\n",
    "            print(f\"DOIs saved to {output_file}\")\n",
    "            stage1_note = \"\"\"\n",
    "                <div style=\"border: 2px solid gold; border-radius: 10px; padding: 10px; background-color: #FFD700; color: black; font-weight: bold; text-align: center;\">\n",
    "                    This stage is over, Please proceed to the next stage.\n",
    "                    </div>\n",
    "            \"\"\"\n",
    "            display(HTML(stage1_note))\n",
    "        except Exception as e:\n",
    "            print(f\"An error occurred: {e}\")\n",
    "\n",
    "button = widgets.Button(description=\"Save DOIs\")\n",
    "output_task8 = widgets.Output()\n",
    "\n",
    "button.on_click(process_pdfs_and_save_doi)\n",
    "\n",
    "display(button, output_task8)\n"
   ]
  }
 ],
 "metadata": {
  "kernelspec": {
   "display_name": "Python 3 (ipykernel)",
   "language": "python",
   "name": "python3"
  },
  "language_info": {
   "codemirror_mode": {
    "name": "ipython",
    "version": 3
   },
   "file_extension": ".py",
   "mimetype": "text/x-python",
   "name": "python",
   "nbconvert_exporter": "python",
   "pygments_lexer": "ipython3",
   "version": "3.12.4"
  },
  "widgets": {
   "application/vnd.jupyter.widget-state+json": {
    "state": {
     "08fdd38618a042128ad2d7f752c58d5a": {
      "model_module": "@jupyter-widgets/controls",
      "model_module_version": "2.0.0",
      "model_name": "ButtonStyleModel",
      "state": {
       "font_family": null,
       "font_size": null,
       "font_style": null,
       "font_variant": null,
       "font_weight": null,
       "text_color": null,
       "text_decoration": null
      }
     },
     "15210d83906a4c06b32b53e6145bd85c": {
      "model_module": "@jupyter-widgets/controls",
      "model_module_version": "2.0.0",
      "model_name": "CheckboxModel",
      "state": {
       "description": "Arxiv",
       "disabled": false,
       "layout": "IPY_MODEL_87089403fc3c42c8b1dee21020aed102",
       "style": "IPY_MODEL_ddcbe7f7ffdd4ab686cd3aba636b05a6",
       "value": false
      }
     },
     "173d64e71f9d4366a8e2dd7db3e7e2c0": {
      "model_module": "@jupyter-widgets/controls",
      "model_module_version": "2.0.0",
      "model_name": "ButtonModel",
      "state": {
       "description": "Download Selected Papers",
       "layout": "IPY_MODEL_7c899d36cae7445f8d8c08287a1cc949",
       "style": "IPY_MODEL_7f859a4252fc498f8c87ee7c42b053ca",
       "tooltip": null
      }
     },
     "19458c7a84934c3bb09d4668b7771d19": {
      "model_module": "@jupyter-widgets/base",
      "model_module_version": "2.0.0",
      "model_name": "LayoutModel",
      "state": {
       "width": "200px"
      }
     },
     "1af22398e7d6494ea190eb18745eafd4": {
      "model_module": "@jupyter-widgets/base",
      "model_module_version": "2.0.0",
      "model_name": "LayoutModel",
      "state": {
       "height": "80px",
       "width": "80%"
      }
     },
     "1c57331ad2bf40e69448d529065b9c45": {
      "model_module": "@jupyter-widgets/controls",
      "model_module_version": "2.0.0",
      "model_name": "TextModel",
      "state": {
       "layout": "IPY_MODEL_2a63e8c65dc541879a198b40c483848d",
       "placeholder": "Your search query here",
       "style": "IPY_MODEL_c8e34986e0454c0a90d2dc6296fb8b97"
      }
     },
     "217abeba56cd47a89aa47b3c5cd90d79": {
      "model_module": "@jupyter-widgets/controls",
      "model_module_version": "2.0.0",
      "model_name": "ButtonModel",
      "state": {
       "description": "Delete Selected Options",
       "layout": "IPY_MODEL_8e598d409e1844e7a309fcadfe051dbe",
       "style": "IPY_MODEL_3b7f5f8ca7b64707bb66b15dff84e122",
       "tooltip": null
      }
     },
     "24fdfe64d2ec47948ca70b59673b79fe": {
      "model_module": "@jupyter-widgets/base",
      "model_module_version": "2.0.0",
      "model_name": "LayoutModel",
      "state": {}
     },
     "26f2d0ec7f1f4cf9b76becf1b7584d68": {
      "model_module": "@jupyter-widgets/output",
      "model_module_version": "1.0.0",
      "model_name": "OutputModel",
      "state": {
       "layout": "IPY_MODEL_a62d8ea5055246b69bfd10a6824a0991"
      }
     },
     "2a63e8c65dc541879a198b40c483848d": {
      "model_module": "@jupyter-widgets/base",
      "model_module_version": "2.0.0",
      "model_name": "LayoutModel",
      "state": {}
     },
     "2dfaa64c8d5b42e19eeb4d4538b2b859": {
      "model_module": "@jupyter-widgets/controls",
      "model_module_version": "2.0.0",
      "model_name": "ToggleButtonStyleModel",
      "state": {
       "description_width": "",
       "font_family": null,
       "font_size": null,
       "font_style": null,
       "font_variant": null,
       "font_weight": null,
       "text_color": null,
       "text_decoration": null
      }
     },
     "2f0fc4752afc423e8381778909b22e60": {
      "model_module": "@jupyter-widgets/controls",
      "model_module_version": "2.0.0",
      "model_name": "ToggleButtonModel",
      "state": {
       "description": "Abtracts and PDF",
       "layout": "IPY_MODEL_51f10e5eca92424a9cb46471021f7eb3",
       "style": "IPY_MODEL_2dfaa64c8d5b42e19eeb4d4538b2b859",
       "tooltip": "Include abstracts when no PDF is found"
      }
     },
     "3b7f5f8ca7b64707bb66b15dff84e122": {
      "model_module": "@jupyter-widgets/controls",
      "model_module_version": "2.0.0",
      "model_name": "ButtonStyleModel",
      "state": {
       "font_family": null,
       "font_size": null,
       "font_style": null,
       "font_variant": null,
       "font_weight": null,
       "text_color": null,
       "text_decoration": null
      }
     },
     "3d3ed891055548179fb2107eb005f36c": {
      "model_module": "@jupyter-widgets/controls",
      "model_module_version": "2.0.0",
      "model_name": "IntSliderModel",
      "state": {
       "behavior": "drag-tap",
       "description": "Documents Limit:",
       "layout": "IPY_MODEL_8828bed39fb44f17ad207b257c3143fc",
       "min": 10,
       "style": "IPY_MODEL_9b25426829464ef59ab90e8ab9a7dc30",
       "value": 20
      }
     },
     "3fca9930eb6641b89e44bc68da99d0ba": {
      "model_module": "@jupyter-widgets/controls",
      "model_module_version": "2.0.0",
      "model_name": "TextModel",
      "state": {
       "layout": "IPY_MODEL_fcca23a1faf8453985db8ece9322f0b2",
       "placeholder": "Enter a new option",
       "style": "IPY_MODEL_ce10bad5be6a469fa6bb058fea8752be"
      }
     },
     "4116b1d604e148d780dc0146868a8338": {
      "model_module": "@jupyter-widgets/controls",
      "model_module_version": "2.0.0",
      "model_name": "ButtonModel",
      "state": {
       "button_style": "success",
       "description": "Generate keywords",
       "icon": "search",
       "layout": "IPY_MODEL_78e475c0909a477e9b5306e703f21fe8",
       "style": "IPY_MODEL_c3bdd3f3670c4ef8853af23735630497",
       "tooltip": "Click to generate keywords based on your research interest"
      }
     },
     "425ba28b36884099a23927fe86b6507a": {
      "model_module": "@jupyter-widgets/output",
      "model_module_version": "1.0.0",
      "model_name": "OutputModel",
      "state": {
       "layout": "IPY_MODEL_7665c63fa86a4ddb9ab3a217be1cf971"
      }
     },
     "4c61ec49a0de4684ae879d071b7e9f35": {
      "model_module": "@jupyter-widgets/base",
      "model_module_version": "2.0.0",
      "model_name": "LayoutModel",
      "state": {}
     },
     "50c7a71ee5174c2aaff0902b48477d7f": {
      "model_module": "@jupyter-widgets/base",
      "model_module_version": "2.0.0",
      "model_name": "LayoutModel",
      "state": {}
     },
     "51f10e5eca92424a9cb46471021f7eb3": {
      "model_module": "@jupyter-widgets/base",
      "model_module_version": "2.0.0",
      "model_name": "LayoutModel",
      "state": {}
     },
     "60d08242e3d14b7085f1855592d2b80d": {
      "model_module": "@jupyter-widgets/controls",
      "model_module_version": "2.0.0",
      "model_name": "TextareaModel",
      "state": {
       "description": "Research Interest:",
       "layout": "IPY_MODEL_1af22398e7d6494ea190eb18745eafd4",
       "placeholder": "Enter your formalized research interest here...",
       "style": "IPY_MODEL_b6242b7402ef46c4891b5073496f70e8"
      }
     },
     "72e7550a3ae44ead80d8732435880af1": {
      "model_module": "@jupyter-widgets/output",
      "model_module_version": "1.0.0",
      "model_name": "OutputModel",
      "state": {
       "layout": "IPY_MODEL_50c7a71ee5174c2aaff0902b48477d7f"
      }
     },
     "7665c63fa86a4ddb9ab3a217be1cf971": {
      "model_module": "@jupyter-widgets/base",
      "model_module_version": "2.0.0",
      "model_name": "LayoutModel",
      "state": {}
     },
     "7696749f46ec48e48ea73b5575b4c02a": {
      "model_module": "@jupyter-widgets/base",
      "model_module_version": "2.0.0",
      "model_name": "LayoutModel",
      "state": {}
     },
     "78e475c0909a477e9b5306e703f21fe8": {
      "model_module": "@jupyter-widgets/base",
      "model_module_version": "2.0.0",
      "model_name": "LayoutModel",
      "state": {}
     },
     "7c74b032af184e29b1be10f1aab295f5": {
      "model_module": "@jupyter-widgets/controls",
      "model_module_version": "2.0.0",
      "model_name": "ToggleButtonModel",
      "state": {
       "description": "PDF only",
       "layout": "IPY_MODEL_d53d5a167dd545f4b7a938de1d16695a",
       "style": "IPY_MODEL_f8038767d5944c8098cd4fc03300bf2a",
       "tooltip": "Include sources only if PDFs are available",
       "value": true
      }
     },
     "7c899d36cae7445f8d8c08287a1cc949": {
      "model_module": "@jupyter-widgets/base",
      "model_module_version": "2.0.0",
      "model_name": "LayoutModel",
      "state": {}
     },
     "7f859a4252fc498f8c87ee7c42b053ca": {
      "model_module": "@jupyter-widgets/controls",
      "model_module_version": "2.0.0",
      "model_name": "ButtonStyleModel",
      "state": {
       "font_family": null,
       "font_size": null,
       "font_style": null,
       "font_variant": null,
       "font_weight": null,
       "text_color": null,
       "text_decoration": null
      }
     },
     "87089403fc3c42c8b1dee21020aed102": {
      "model_module": "@jupyter-widgets/base",
      "model_module_version": "2.0.0",
      "model_name": "LayoutModel",
      "state": {}
     },
     "8828bed39fb44f17ad207b257c3143fc": {
      "model_module": "@jupyter-widgets/base",
      "model_module_version": "2.0.0",
      "model_name": "LayoutModel",
      "state": {
       "width": "400px"
      }
     },
     "8adba4f7872a42598451b67019036f41": {
      "model_module": "@jupyter-widgets/controls",
      "model_module_version": "2.0.0",
      "model_name": "ButtonModel",
      "state": {
       "description": "Save DOIs",
       "layout": "IPY_MODEL_24fdfe64d2ec47948ca70b59673b79fe",
       "style": "IPY_MODEL_08fdd38618a042128ad2d7f752c58d5a",
       "tooltip": null
      }
     },
     "8c520a8bc9174234a954cb508a50ece0": {
      "model_module": "@jupyter-widgets/controls",
      "model_module_version": "2.0.0",
      "model_name": "ButtonStyleModel",
      "state": {
       "font_family": null,
       "font_size": null,
       "font_style": null,
       "font_variant": null,
       "font_weight": null,
       "text_color": null,
       "text_decoration": null
      }
     },
     "8e598d409e1844e7a309fcadfe051dbe": {
      "model_module": "@jupyter-widgets/base",
      "model_module_version": "2.0.0",
      "model_name": "LayoutModel",
      "state": {}
     },
     "9b25426829464ef59ab90e8ab9a7dc30": {
      "model_module": "@jupyter-widgets/controls",
      "model_module_version": "2.0.0",
      "model_name": "SliderStyleModel",
      "state": {
       "description_width": "150px"
      }
     },
     "a37505251c4e48e49832c893ed58b600": {
      "model_module": "@jupyter-widgets/controls",
      "model_module_version": "2.0.0",
      "model_name": "CheckboxStyleModel",
      "state": {
       "description_width": ""
      }
     },
     "a62d8ea5055246b69bfd10a6824a0991": {
      "model_module": "@jupyter-widgets/base",
      "model_module_version": "2.0.0",
      "model_name": "LayoutModel",
      "state": {}
     },
     "aceac411ed584708862582210294f12c": {
      "model_module": "@jupyter-widgets/controls",
      "model_module_version": "2.0.0",
      "model_name": "CheckboxModel",
      "state": {
       "description": "Google Scholar",
       "disabled": false,
       "layout": "IPY_MODEL_f171675236cc44fa8a0fc4251237f6db",
       "style": "IPY_MODEL_b1cb66e6281b462dbf3b26ef24c87944",
       "value": false
      }
     },
     "b1cb66e6281b462dbf3b26ef24c87944": {
      "model_module": "@jupyter-widgets/controls",
      "model_module_version": "2.0.0",
      "model_name": "CheckboxStyleModel",
      "state": {
       "description_width": ""
      }
     },
     "b1f44a4d9ef441048f80317457e6405d": {
      "model_module": "@jupyter-widgets/controls",
      "model_module_version": "2.0.0",
      "model_name": "VBoxModel",
      "state": {
       "children": [
        "IPY_MODEL_15210d83906a4c06b32b53e6145bd85c",
        "IPY_MODEL_b782472c89314bbcb0e0c35cea3c1810",
        "IPY_MODEL_aceac411ed584708862582210294f12c"
       ],
       "layout": "IPY_MODEL_7696749f46ec48e48ea73b5575b4c02a"
      }
     },
     "b3c044e9eee543a89f25cadc3e7eb2f5": {
      "model_module": "@jupyter-widgets/controls",
      "model_module_version": "2.0.0",
      "model_name": "ButtonModel",
      "state": {
       "description": "Add Option",
       "layout": "IPY_MODEL_4c61ec49a0de4684ae879d071b7e9f35",
       "style": "IPY_MODEL_c4d02186f28e4c51941b6e366562074b",
       "tooltip": null
      }
     },
     "b6242b7402ef46c4891b5073496f70e8": {
      "model_module": "@jupyter-widgets/controls",
      "model_module_version": "2.0.0",
      "model_name": "TextStyleModel",
      "state": {
       "description_width": "",
       "font_size": null,
       "text_color": null
      }
     },
     "b782472c89314bbcb0e0c35cea3c1810": {
      "model_module": "@jupyter-widgets/controls",
      "model_module_version": "2.0.0",
      "model_name": "CheckboxModel",
      "state": {
       "description": "Semantic Scholar",
       "disabled": false,
       "layout": "IPY_MODEL_f52db71b8d9e4ba59b561ae7e0c51130",
       "style": "IPY_MODEL_a37505251c4e48e49832c893ed58b600",
       "value": false
      }
     },
     "b8fc031955ea4f6f8a4b18fe6ca1dcfe": {
      "model_module": "@jupyter-widgets/output",
      "model_module_version": "1.0.0",
      "model_name": "OutputModel",
      "state": {
       "layout": "IPY_MODEL_baab1dae70224d60b6e1a4418c34acd3"
      }
     },
     "baab1dae70224d60b6e1a4418c34acd3": {
      "model_module": "@jupyter-widgets/base",
      "model_module_version": "2.0.0",
      "model_name": "LayoutModel",
      "state": {}
     },
     "c3bdd3f3670c4ef8853af23735630497": {
      "model_module": "@jupyter-widgets/controls",
      "model_module_version": "2.0.0",
      "model_name": "ButtonStyleModel",
      "state": {
       "font_family": null,
       "font_size": null,
       "font_style": null,
       "font_variant": null,
       "font_weight": null,
       "text_color": null,
       "text_decoration": null
      }
     },
     "c4d02186f28e4c51941b6e366562074b": {
      "model_module": "@jupyter-widgets/controls",
      "model_module_version": "2.0.0",
      "model_name": "ButtonStyleModel",
      "state": {
       "font_family": null,
       "font_size": null,
       "font_style": null,
       "font_variant": null,
       "font_weight": null,
       "text_color": null,
       "text_decoration": null
      }
     },
     "c8e34986e0454c0a90d2dc6296fb8b97": {
      "model_module": "@jupyter-widgets/controls",
      "model_module_version": "2.0.0",
      "model_name": "TextStyleModel",
      "state": {
       "description_width": "",
       "font_size": null,
       "text_color": null
      }
     },
     "ce10bad5be6a469fa6bb058fea8752be": {
      "model_module": "@jupyter-widgets/controls",
      "model_module_version": "2.0.0",
      "model_name": "TextStyleModel",
      "state": {
       "description_width": "",
       "font_size": null,
       "text_color": null
      }
     },
     "d53d5a167dd545f4b7a938de1d16695a": {
      "model_module": "@jupyter-widgets/base",
      "model_module_version": "2.0.0",
      "model_name": "LayoutModel",
      "state": {}
     },
     "da03a36d012a42daac55feec172d5ce4": {
      "model_module": "@jupyter-widgets/controls",
      "model_module_version": "2.0.0",
      "model_name": "ButtonModel",
      "state": {
       "description": "Query and display results",
       "layout": "IPY_MODEL_19458c7a84934c3bb09d4668b7771d19",
       "style": "IPY_MODEL_8c520a8bc9174234a954cb508a50ece0",
       "tooltip": null
      }
     },
     "ddcbe7f7ffdd4ab686cd3aba636b05a6": {
      "model_module": "@jupyter-widgets/controls",
      "model_module_version": "2.0.0",
      "model_name": "CheckboxStyleModel",
      "state": {
       "description_width": ""
      }
     },
     "f171675236cc44fa8a0fc4251237f6db": {
      "model_module": "@jupyter-widgets/base",
      "model_module_version": "2.0.0",
      "model_name": "LayoutModel",
      "state": {}
     },
     "f52db71b8d9e4ba59b561ae7e0c51130": {
      "model_module": "@jupyter-widgets/base",
      "model_module_version": "2.0.0",
      "model_name": "LayoutModel",
      "state": {}
     },
     "f8038767d5944c8098cd4fc03300bf2a": {
      "model_module": "@jupyter-widgets/controls",
      "model_module_version": "2.0.0",
      "model_name": "ToggleButtonStyleModel",
      "state": {
       "description_width": "",
       "font_family": null,
       "font_size": null,
       "font_style": null,
       "font_variant": null,
       "font_weight": null,
       "text_color": null,
       "text_decoration": null
      }
     },
     "fcca23a1faf8453985db8ece9322f0b2": {
      "model_module": "@jupyter-widgets/base",
      "model_module_version": "2.0.0",
      "model_name": "LayoutModel",
      "state": {}
     }
    },
    "version_major": 2,
    "version_minor": 0
   }
  }
 },
 "nbformat": 4,
 "nbformat_minor": 5
}
