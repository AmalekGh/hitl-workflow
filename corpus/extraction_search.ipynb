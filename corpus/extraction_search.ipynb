{
 "cells": [
  {
   "cell_type": "markdown",
   "metadata": {},
   "source": [
    "# HITL_Workflow Iteration I"
   ]
  },
  {
   "cell_type": "markdown",
   "metadata": {},
   "source": [
    "**This iteration represents a first step of the scientific content creation workflow.**"
   ]
  },
  {
   "cell_type": "markdown",
   "metadata": {},
   "source": [
    "![setup](<setup.png>)\n",
    "![knowledge](<knowledge.png>)\n",
    "![publish](<publish.png>)"
   ]
  },
  {
   "cell_type": "markdown",
   "metadata": {},
   "source": [
    "The initial step is to formulate a search query that aligns with the desired research objective. In this task, we can use a large language model (LLM) to either refine a research question, or extract relevant keywords that will be used in the process of querying scientific databases. \n",
    "\n",
    "The second step is inputing the search query that will be fed to different scraping models. This step represents the core of this iteration. \n",
    "\n",
    "The used tools in this Iteration are: \n",
    "-  **LLM** (Optional for formulating the search query)\n",
    "-  Modified [RESP](https://github.com/monk1337/resp) Arxiv-module \n",
    "\n",
    "\n"
   ]
  },
  {
   "cell_type": "markdown",
   "metadata": {},
   "source": [
    "The formulated research question is to be given in the next cell. An example with the following research question is already given."
   ]
  },
  {
   "cell_type": "code",
   "execution_count": 12,
   "metadata": {},
   "outputs": [],
   "source": [
    "papers_search_query = 'How can large language models be utilized for effective knowledge extraction?'"
   ]
  },
  {
   "cell_type": "markdown",
   "metadata": {},
   "source": [
    "The next cell calls the arxiv modul that scrapes 100 papers that resulted from inputing the search query to arxiv.org\n",
    "\n",
    "The result is saved in the variable \"arxiv_result\". This variable represents a dataframe with 3 columns, namely the title of the paper, link to the paper and a second link to download the pdf file of each respective paper.\n",
    "\n",
    "The cell also displays an overview of the dataframe"
   ]
  },
  {
   "cell_type": "code",
   "execution_count": 5,
   "metadata": {},
   "outputs": [
    {
     "name": "stderr",
     "output_type": "stream",
     "text": [
      "100%|████████████████████████████████████████████████████████████████████████████████████| 1/1 [00:11<00:00, 11.64s/it]\n"
     ]
    },
    {
     "data": {
      "text/html": [
       "<div>\n",
       "<style scoped>\n",
       "    .dataframe tbody tr th:only-of-type {\n",
       "        vertical-align: middle;\n",
       "    }\n",
       "\n",
       "    .dataframe tbody tr th {\n",
       "        vertical-align: top;\n",
       "    }\n",
       "\n",
       "    .dataframe thead th {\n",
       "        text-align: right;\n",
       "    }\n",
       "</style>\n",
       "<table border=\"1\" class=\"dataframe\">\n",
       "  <thead>\n",
       "    <tr style=\"text-align: right;\">\n",
       "      <th></th>\n",
       "      <th>title</th>\n",
       "      <th>link</th>\n",
       "      <th>pdf_link</th>\n",
       "    </tr>\n",
       "  </thead>\n",
       "  <tbody>\n",
       "    <tr>\n",
       "      <th>0</th>\n",
       "      <td>Data Adaptive Traceback for Vision-Language Fo...</td>\n",
       "      <td>https://arxiv.org/abs/2407.08787</td>\n",
       "      <td>https://arxiv.org/pdf/2407.08787</td>\n",
       "    </tr>\n",
       "    <tr>\n",
       "      <th>1</th>\n",
       "      <td>DIM: Dynamic Integration of Multimodal Entity ...</td>\n",
       "      <td>https://arxiv.org/abs/2407.12019</td>\n",
       "      <td>https://arxiv.org/pdf/2407.12019</td>\n",
       "    </tr>\n",
       "    <tr>\n",
       "      <th>2</th>\n",
       "      <td>Explainable Biomedical Hypothesis Generation v...</td>\n",
       "      <td>https://arxiv.org/abs/2407.12888</td>\n",
       "      <td>https://arxiv.org/pdf/2407.12888</td>\n",
       "    </tr>\n",
       "    <tr>\n",
       "      <th>3</th>\n",
       "      <td>Cross-Modal Attention Alignment Network with A...</td>\n",
       "      <td>https://arxiv.org/abs/2407.00979</td>\n",
       "      <td>https://arxiv.org/pdf/2407.00979</td>\n",
       "    </tr>\n",
       "    <tr>\n",
       "      <th>4</th>\n",
       "      <td>KG-FPQ: Evaluating Factuality Hallucination in...</td>\n",
       "      <td>https://arxiv.org/abs/2407.05868</td>\n",
       "      <td>https://arxiv.org/pdf/2407.05868</td>\n",
       "    </tr>\n",
       "  </tbody>\n",
       "</table>\n",
       "</div>"
      ],
      "text/plain": [
       "                                               title  \\\n",
       "0  Data Adaptive Traceback for Vision-Language Fo...   \n",
       "1  DIM: Dynamic Integration of Multimodal Entity ...   \n",
       "2  Explainable Biomedical Hypothesis Generation v...   \n",
       "3  Cross-Modal Attention Alignment Network with A...   \n",
       "4  KG-FPQ: Evaluating Factuality Hallucination in...   \n",
       "\n",
       "                               link                          pdf_link  \n",
       "0  https://arxiv.org/abs/2407.08787  https://arxiv.org/pdf/2407.08787  \n",
       "1  https://arxiv.org/abs/2407.12019  https://arxiv.org/pdf/2407.12019  \n",
       "2  https://arxiv.org/abs/2407.12888  https://arxiv.org/pdf/2407.12888  \n",
       "3  https://arxiv.org/abs/2407.00979  https://arxiv.org/pdf/2407.00979  \n",
       "4  https://arxiv.org/abs/2407.05868  https://arxiv.org/pdf/2407.05868  "
      ]
     },
     "execution_count": 5,
     "metadata": {},
     "output_type": "execute_result"
    }
   ],
   "source": [
    "from arxiv_api import Arxiv\n",
    "ap           = Arxiv()\n",
    "arxiv_result = ap.arxiv(papers_search_query, max_pages = 1)\n",
    "arxiv_result.head()"
   ]
  },
  {
   "cell_type": "markdown",
   "metadata": {},
   "source": [
    "The next cell saves the titles and the respective pdf links to two variables, we would use the titles to save each downloaded pdf file to the name of the respective paper."
   ]
  },
  {
   "cell_type": "code",
   "execution_count": 13,
   "metadata": {},
   "outputs": [],
   "source": [
    "pdf_links = arxiv_result[\"pdf_link\"]\n",
    "titles = arxiv_result[\"title\"]"
   ]
  },
  {
   "cell_type": "markdown",
   "metadata": {},
   "source": [
    "Running the next cell creates a directory called \"pdfs_corpus\", in which the pdf files will be saved"
   ]
  },
  {
   "cell_type": "code",
   "execution_count": 8,
   "metadata": {},
   "outputs": [],
   "source": [
    "import requests\n",
    "import os\n",
    "import wget\n",
    "import re\n",
    "from urllib.parse import quote\n",
    "\n",
    "download_dir = \"pdfs_corpus\"\n",
    "os.makedirs(download_dir, exist_ok=True)\n",
    "\n",
    "invalid_char_re = re.compile(r'[<>:\"/\\\\|?*]')\n",
    "\n",
    "def sanitize_filename(filename):\n",
    "\n",
    "    return invalid_char_re.sub('_', filename)\n",
    "\n",
    "def download_pdf(url, save_name):\n",
    "    try:\n",
    "        if not save_name.endswith(\".pdf\"):\n",
    "            save_name += \".pdf\"\n",
    "\n",
    "        save_name = sanitize_filename(save_name)\n",
    "        \n",
    "        save_path = os.path.join(download_dir, save_name)\n",
    "\n",
    "        encoded_url = quote(url, safe=\":/\")\n",
    "        \n",
    "        response = requests.get(encoded_url, stream=True)\n",
    "        response.raise_for_status() \n",
    "\n",
    "        if 'application/pdf' not in response.headers.get('Content-Type', ''):\n",
    "            raise ValueError(f\"URL does not point to a PDF: {url}\")\n",
    "        \n",
    "        with open(save_path, 'wb') as file:\n",
    "            for chunk in response.iter_content(chunk_size=8192):\n",
    "                file.write(chunk)\n",
    "        \n",
    "    except Exception as e:\n",
    "        print(f\"Failed to download {url}: {e}\")\n"
   ]
  },
  {
   "cell_type": "markdown",
   "metadata": {},
   "source": [
    "Running this cell iterates through the dataframe and downloads/saves each paper under their name in the folder created in the cell above"
   ]
  },
  {
   "cell_type": "code",
   "execution_count": 11,
   "metadata": {},
   "outputs": [
    {
     "name": "stdout",
     "output_type": "stream",
     "text": [
      "Downloaded: pdfs_corpus\\Data Adaptive Traceback for Vision-Language Foundation Models in Image Classification.pdf\n",
      "Downloaded: pdfs_corpus\\DIM_ Dynamic Integration of Multimodal Entity Linking with Large Language Model.pdf\n",
      "Downloaded: pdfs_corpus\\Explainable Biomedical Hypothesis Generation via Retrieval Augmented Generation enabled Large Language Models.pdf\n",
      "Downloaded: pdfs_corpus\\Cross-Modal Attention Alignment Network with Auxiliary Text Description for zero-shot sketch-based image retrieval.pdf\n",
      "Downloaded: pdfs_corpus\\KG-FPQ_ Evaluating Factuality Hallucination in LLMs with Knowledge Graph-based False Premise Questions.pdf\n",
      "Downloaded: pdfs_corpus\\Actionable Cyber Threat Intelligence using Knowledge Graphs and Large Language Models.pdf\n",
      "Downloaded: pdfs_corpus\\Improving Sample Efficiency of Reinforcement Learning with Background Knowledge from Large Language Models.pdf\n",
      "Downloaded: pdfs_corpus\\Zero-shot Persuasive Chatbots with LLM-Generated Strategies and Information Retrieval.pdf\n",
      "Downloaded: pdfs_corpus\\Enhancing Label-efficient Medical Image Segmentation with Text-guided Diffusion Models.pdf\n",
      "Downloaded: pdfs_corpus\\MixSumm_ Topic-based Data Augmentation using LLMs for Low-resource Extractive Text Summarization.pdf\n",
      "Downloaded: pdfs_corpus\\Extracting and Encoding_ Leveraging Large Language Models and Medical Knowledge to Enhance Radiological Text Representation.pdf\n",
      "Downloaded: pdfs_corpus\\BiosERC_ Integrating Biography Speakers Supported by LLMs for ERC Tasks.pdf\n",
      "Downloaded: pdfs_corpus\\MIBench_ Evaluating Multimodal Large Language Models over Multiple Images.pdf\n",
      "Downloaded: pdfs_corpus\\LoRA-Guard_ Parameter-Efficient Guardrail Adaptation for Content Moderation of Large Language Models.pdf\n",
      "Downloaded: pdfs_corpus\\Fake News Detection and Manipulation Reasoning via Large Vision-Language Models.pdf\n",
      "Downloaded: pdfs_corpus\\Graphusion_ Leveraging Large Language Models for Scientific Knowledge Graph Fusion and Construction in NLP Education.pdf\n",
      "Downloaded: pdfs_corpus\\FinDKG_ Dynamic Knowledge Graphs with Large Language Models for Detecting Global Trends in Financial Markets.pdf\n",
      "Downloaded: pdfs_corpus\\Mindful-RAG_ A Study of Points of Failure in Retrieval Augmented Generation.pdf\n",
      "Downloaded: pdfs_corpus\\LLMs-in-the-loop Part-1_ Expert Small AI Models for Bio-Medical Text Translation.pdf\n",
      "Downloaded: pdfs_corpus\\A Survey of Prompt Engineering Methods in Large Language Models for Different NLP Tasks.pdf\n",
      "Downloaded: pdfs_corpus\\TCSR-SQL_ Towards Table Content-aware Text-to-SQL with Self-retrieval.pdf\n",
      "Downloaded: pdfs_corpus\\Empowering Few-Shot Relation Extraction with The Integration of Traditional RE Methods and Large Language Models.pdf\n",
      "Downloaded: pdfs_corpus\\KNOWNET_ Guided Health Information Seeking from LLMs via Knowledge Graph Integration.pdf\n",
      "Downloaded: pdfs_corpus\\Large Language Models as Biomedical Hypothesis Generators_ A Comprehensive Evaluation.pdf\n",
      "Downloaded: pdfs_corpus\\Prompting Whole Slide Image Based Genetic Biomarker Prediction.pdf\n",
      "Downloaded: pdfs_corpus\\Extracting Structured Insights from Financial News_ An Augmented LLM Driven Approach.pdf\n",
      "Downloaded: pdfs_corpus\\FACTS About Building Retrieval Augmented Generation-based Chatbots.pdf\n",
      "Downloaded: pdfs_corpus\\Continually Learn to Map Visual Concepts to Large Language Models in Resource-constrained Environments.pdf\n",
      "Downloaded: pdfs_corpus\\On Initializing Transformers with Pre-trained Embeddings.pdf\n",
      "Downloaded: pdfs_corpus\\Crafting the Path_ Robust Query Rewriting for Information Retrieval.pdf\n",
      "Downloaded: pdfs_corpus\\Multi-Granularity Semantic Revision for Large Language Model Distillation.pdf\n",
      "Downloaded: pdfs_corpus\\Large Vision-Language Models as Emotion Recognizers in Context Awareness.pdf\n",
      "Downloaded: pdfs_corpus\\CLAVE_ An Adaptive Framework for Evaluating Values of LLM Generated Responses.pdf\n",
      "Downloaded: pdfs_corpus\\Semantic-CC_ Boosting Remote Sensing Image Change Captioning via Foundational Knowledge and Semantic Guidance.pdf\n",
      "Downloaded: pdfs_corpus\\Operationalizing a Threat Model for Red-Teaming Large Language Models (LLMs).pdf\n",
      "Downloaded: pdfs_corpus\\Adapting Multilingual LLMs to Low-Resource Languages with Knowledge Graphs via Adapters.pdf\n",
      "Downloaded: pdfs_corpus\\Brainstorming Brings Power to Large Language Models of Knowledge Reasoning.pdf\n",
      "Downloaded: pdfs_corpus\\Domain-specific ReAct for physics-integrated iterative modeling_ A case study of LLM agents for gas path analysis of gas turbines.pdf\n",
      "Downloaded: pdfs_corpus\\MedREQAL_ Examining Medical Knowledge Recall of Large Language Models via Question Answering.pdf\n",
      "Downloaded: pdfs_corpus\\Venn Diagram Prompting _ Accelerating Comprehension with Scaffolding Effect.pdf\n",
      "Downloaded: pdfs_corpus\\Zero-Shot Learning Over Large Output Spaces _ Utilizing Indirect Knowledge Extraction from Large Language Models.pdf\n",
      "Downloaded: pdfs_corpus\\Knowledge Graph in Astronomical Research with Large Language Models_ Quantifying Driving Forces in Interdisciplinary Scientific Discovery.pdf\n",
      "Downloaded: pdfs_corpus\\KnowledgeHub_ An end-to-end Tool for Assisted Scientific Discovery.pdf\n",
      "Downloaded: pdfs_corpus\\Augmenting Query and Passage for Retrieval-Augmented Generation using LLMs for Open-Domain Question Answering.pdf\n",
      "Downloaded: pdfs_corpus\\Unmasking Database Vulnerabilities_ Zero-Knowledge Schema Inference Attacks in Text-to-SQL Systems.pdf\n",
      "Downloaded: pdfs_corpus\\MLLM as Video Narrator_ Mitigating Modality Imbalance in Video Moment Retrieval.pdf\n",
      "Downloaded: pdfs_corpus\\DocCGen_ Document-based Controlled Code Generation.pdf\n",
      "Downloaded: pdfs_corpus\\HYPERmotion_ Learning Hybrid Behavior Planning for Autonomous Loco-manipulation.pdf\n",
      "Downloaded: pdfs_corpus\\Locating and Extracting Relational Concepts in Large Language Models.pdf\n",
      "Downloaded: pdfs_corpus\\LLM and GNN are Complementary_ Distilling LLM for Multimodal Graph Learning.pdf\n",
      "Downloaded: pdfs_corpus\\Save It for the _Hot_ Day_ An LLM-Empowered Visual Analytics System for Heat Risk Management.pdf\n",
      "Downloaded: pdfs_corpus\\LLMFactor_ Extracting Profitable Factors through Prompts for Explainable Stock Movement Prediction.pdf\n",
      "Downloaded: pdfs_corpus\\DocGenome_ An Open Large-scale Scientific Document Benchmark for Training and Testing Multi-modal Large Language Models.pdf\n",
      "Downloaded: pdfs_corpus\\Requirements are All You Need_ From Requirements to Code with LLMs.pdf\n",
      "Downloaded: pdfs_corpus\\Intermediate Distillation_ Data-Efficient Distillation from Black-Box LLMs for Information Retrieval.pdf\n",
      "Downloaded: pdfs_corpus\\Refiner_ Restructure Retrieval Content Efficiently to Advance Question-Answering Capabilities.pdf\n",
      "Downloaded: pdfs_corpus\\Hopping Too Late_ Exploring the Limitations of Large Language Models on Multi-Hop Queries.pdf\n",
      "Downloaded: pdfs_corpus\\Assessing _Implicit_ Retrieval Robustness of Large Language Models.pdf\n",
      "Downloaded: pdfs_corpus\\Multi-Meta-RAG_ Improving RAG for Multi-Hop Queries using Database Filtering with LLM-Extracted Metadata.pdf\n",
      "Downloaded: pdfs_corpus\\Entropy-Based Decoding for Retrieval-Augmented Large Language Models.pdf\n",
      "Downloaded: pdfs_corpus\\Vul-RAG_ Enhancing LLM-based Vulnerability Detection via Knowledge-level RAG.pdf\n",
      "Downloaded: pdfs_corpus\\Factual Dialogue Summarization via Learning from Large Language Models.pdf\n",
      "Downloaded: pdfs_corpus\\CheckEmbed_ Effective Verification of LLM Solutions to Open-Ended Tasks.pdf\n",
      "Downloaded: pdfs_corpus\\Prompt-Consistency Image Generation (PCIG)_ A Unified Framework Integrating LLMs, Knowledge Graphs, and Controllable Diffusion Models.pdf\n",
      "Downloaded: pdfs_corpus\\Large Language Models for Cuffless Blood Pressure Measurement From Wearable Biosignals.pdf\n",
      "Downloaded: pdfs_corpus\\Self-Tuning_ Instructing LLMs to Effectively Acquire New Knowledge through Self-Teaching.pdf\n",
      "Downloaded: pdfs_corpus\\Artificial General Intelligence (AGI) for the oil and gas industry_ a review.pdf\n",
      "Downloaded: pdfs_corpus\\TRIP-PAL_ Travel Planning with Guarantees by Combining Large Language Models and Automated Planners.pdf\n",
      "Downloaded: pdfs_corpus\\Precision Empowers, Excess Distracts_ Visual Question Answering With Dynamically Infused Knowledge In Language Models.pdf\n",
      "Downloaded: pdfs_corpus\\Enhancing Knowledge Retrieval with In-Context Learning and Semantic Search through Generative AI.pdf\n"
     ]
    },
    {
     "name": "stdout",
     "output_type": "stream",
     "text": [
      "Downloaded: pdfs_corpus\\Aligning Large Language Models with Self-generated Preference Data.pdf\n",
      "Downloaded: pdfs_corpus\\HOLMES_ Hyper-Relational Knowledge Graphs for Multi-hop Question Answering using LLMs.pdf\n",
      "Downloaded: pdfs_corpus\\Are Large Language Models the New Interface for Data Pipelines_.pdf\n",
      "Downloaded: pdfs_corpus\\Exploiting LMM-based knowledge for image classification tasks.pdf\n",
      "Downloaded: pdfs_corpus\\Decoupled Alignment for Robust Plug-and-Play Adaptation.pdf\n",
      "Downloaded: pdfs_corpus\\Leveraging Large Language Models for Web Scraping.pdf\n",
      "Downloaded: pdfs_corpus\\EMERGE_ Integrating RAG for Improved Multimodal EHR Predictive Modeling.pdf\n",
      "Downloaded: pdfs_corpus\\VGA_ Vision GUI Assistant -- Minimizing Hallucinations through Image-Centric Fine-Tuning.pdf\n",
      "Downloaded: pdfs_corpus\\An Analysis of Multilingual FActScore.pdf\n",
      "Downloaded: pdfs_corpus\\Block-level Text Spotting with LLMs.pdf\n",
      "Downloaded: pdfs_corpus\\DELRec_ Distilling Sequential Pattern to Enhance LLM-based Recommendation.pdf\n",
      "Downloaded: pdfs_corpus\\From Text to Test_ AI-Generated Control Software for Materials Science Instruments.pdf\n",
      "Downloaded: pdfs_corpus\\CogMG_ Collaborative Augmentation Between Large Language Model and Knowledge Graph.pdf\n",
      "Downloaded: pdfs_corpus\\Disentangling Knowledge-based and Visual Reasoning by Question Decomposition in KB-VQA.pdf\n",
      "Downloaded: pdfs_corpus\\Automated Clinical Data Extraction with Knowledge Conditioned LLMs.pdf\n",
      "Downloaded: pdfs_corpus\\Protecting Privacy Through Approximating Optimal Parameters for Sequence Unlearning in Language Models.pdf\n",
      "Downloaded: pdfs_corpus\\Relation Extraction with Fine-Tuned Large Language Models in Retrieval Augmented Generation Frameworks.pdf\n",
      "Downloaded: pdfs_corpus\\RepLiQA_ A Question-Answering Dataset for Benchmarking LLMs on Unseen Reference Content.pdf\n",
      "Downloaded: pdfs_corpus\\End-to-end Text-to-SQL Generation within an Analytics Insight Engine.pdf\n",
      "Downloaded: pdfs_corpus\\MedCalc-Bench_ Evaluating Large Language Models for Medical Calculations.pdf\n",
      "Downloaded: pdfs_corpus\\Decompose, Enrich, and Extract! Schema-aware Event Extraction using LLMs.pdf\n",
      "Downloaded: pdfs_corpus\\CLIP-Guided Attribute Aware Pretraining for Generalizable Image Quality Assessment.pdf\n",
      "Downloaded: pdfs_corpus\\Multi-step Inference over Unstructured Data.pdf\n",
      "Downloaded: pdfs_corpus\\Knowledge Graph-Enhanced Large Language Models via Path Selection.pdf\n",
      "Downloaded: pdfs_corpus\\Harnessing Knowledge Retrieval with Large Language Models for Clinical Report Error Correction.pdf\n",
      "Downloaded: pdfs_corpus\\Large Language Models as Event Forecasters.pdf\n",
      "Downloaded: pdfs_corpus\\Large Language Models are Interpretable Learners.pdf\n",
      "Downloaded: pdfs_corpus\\What Do the Circuits Mean_ A Knowledge Edit View.pdf\n",
      "Downloaded: pdfs_corpus\\How Good are LLMs at Relation Extraction under Low-Resource Scenario_ Comprehensive Evaluation.pdf\n",
      "Downloaded: pdfs_corpus\\Large Language Models and Knowledge Graphs for Astronomical Entity Disambiguation.pdf\n"
     ]
    }
   ],
   "source": [
    "for url, custom_name in zip(pdf_links, titles):\n",
    "   download_pdf(url, custom_name)"
   ]
  }
 ],
 "metadata": {
  "kernelspec": {
   "display_name": "Python 3",
   "language": "python",
   "name": "python3"
  },
  "language_info": {
   "codemirror_mode": {
    "name": "ipython",
    "version": 3
   },
   "file_extension": ".py",
   "mimetype": "text/x-python",
   "name": "python",
   "nbconvert_exporter": "python",
   "pygments_lexer": "ipython3",
   "version": "3.8.5"
  }
 },
 "nbformat": 4,
 "nbformat_minor": 2
}
