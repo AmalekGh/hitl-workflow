{
 "cells": [
  {
   "cell_type": "code",
   "execution_count": 1,
   "metadata": {},
   "outputs": [],
   "source": [
    "# For now, we are just using keywords.\n"
   ]
  },
  {
   "cell_type": "code",
   "execution_count": 3,
   "metadata": {},
   "outputs": [
    {
     "name": "stdout",
     "output_type": "stream",
     "text": [
      "{'limit': 50, 'fields': 'paperId,title,openAccessPdf', 'functions_to_call': ['Arxiv', 'Semantic Scholar']}\n"
     ]
    }
   ],
   "source": [
    "data = {\n",
    "    \"papers_search_query\" : 'large language models for effective knowledge extraction'\n",
    "    \"limit\": 50,\n",
    "    \"functions_to_call\": [\"Arxiv\", \"Semantic Scholar\"] \n",
    "  }\n"
   ]
  },
  {
   "cell_type": "code",
   "execution_count": 3,
   "metadata": {},
   "outputs": [
    {
     "name": "stderr",
     "output_type": "stream",
     "text": [
      "100%|██████████████████████████████████████████████████████████████████████████████████| 10/10 [01:49<00:00, 10.91s/it]\n"
     ]
    }
   ],
   "source": [
    "from util.arxiv_api import Arxiv\n",
    "arxiv_instance = Arxiv()\n",
    "arxiv_instance.download_pdf(data[\"papers_search_query\"], data[\"limit\"])"
   ]
  },
  {
   "cell_type": "code",
   "execution_count": 4,
   "metadata": {},
   "outputs": [
    {
     "name": "stdout",
     "output_type": "stream",
     "text": [
      "Request to fetch paper failed with status code 429: {\"message\": \"Too Many Requests. Please wait and try again or apply for a key for higher rate limits. https://www.semanticscholar.org/product/api#api-key-form\", \"code\": \"429\"}\n",
      "Number of papers with PDF: 0\n"
     ]
    }
   ],
   "source": [
    "from util.semanticscholar_util import SemanticScholar\n",
    "semanticscholar_instance = SemanticScholar()\n",
    "semanticscholar_instance.download_pdfs(papers_search_query, 50)"
   ]
  },
  {
   "cell_type": "code",
   "execution_count": null,
   "metadata": {},
   "outputs": [],
   "source": []
  }
 ],
 "metadata": {
  "kernelspec": {
   "display_name": "Python 3",
   "language": "python",
   "name": "python3"
  },
  "language_info": {
   "codemirror_mode": {
    "name": "ipython",
    "version": 3
   },
   "file_extension": ".py",
   "mimetype": "text/x-python",
   "name": "python",
   "nbconvert_exporter": "python",
   "pygments_lexer": "ipython3",
   "version": "3.8.5"
  }
 },
 "nbformat": 4,
 "nbformat_minor": 4
}
