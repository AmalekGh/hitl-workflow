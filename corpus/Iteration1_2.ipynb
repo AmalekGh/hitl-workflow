{
 "cells": [
  {
   "cell_type": "markdown",
   "metadata": {},
   "source": [
    "# HITL-SCC_Workflow Iteration I_2"
   ]
  },
  {
   "cell_type": "markdown",
   "metadata": {},
   "source": [
    "This step of the Iteration represents the processing of the extracted text and preparing the input for the Large language model.\n",
    "This step is considered the core of the RAG application (Retrieval augmented generation). Here, we use the context of the paper to leverage the ability\n",
    "of the models to extract relevant parts of the paper and to perform context-based analysis. This part also creates a data model based on user input.\n",
    "\n",
    "![rag_pipeline](<media/rag_pipeline.jpg>)\n"
   ]
  },
  {
   "cell_type": "markdown",
   "metadata": {},
   "source": [
    "We list the tools used in this part: \n",
    "-  **Ollama**\n",
    "\n",
    "Ollama is a service that provides easy access to large language Models and other tools needed for the embedding, computing and generating text.\n",
    "It allows us in this workflow to communicate with the corpus."
   ]
  },
  {
   "cell_type": "markdown",
   "metadata": {},
   "source": [
    "**1. Defining Data Model**\n",
    "\n",
    "This steps allows the user to define the data model. \n",
    "A data model in this context is a structured set of properties that should serve as an input in order to communicate with the corpus. \n",
    "The properties can include multiple parts of a paper as well as specific values relevant to the user. \n",
    "\n",
    "For now, we define a data model to be a list that contains one (or multiple sets) of the following properties: \n",
    "- Title\n",
    "- Theme\n",
    "- Keywords\n",
    "- Task\n",
    "- Evaluation Approach\n",
    "- Future Directions\n",
    "- Theories\n",
    "- Dataset\n"
   ]
  },
  {
   "cell_type": "code",
   "execution_count": 4,
   "metadata": {},
   "outputs": [
    {
     "data": {
      "application/vnd.jupyter.widget-view+json": {
       "model_id": "bcbfb2b1c4bf483bbda366ce0256720c",
       "version_major": 2,
       "version_minor": 0
      },
      "text/plain": [
       "Text(value='', placeholder='Enter a new option')"
      ]
     },
     "metadata": {},
     "output_type": "display_data"
    },
    {
     "data": {
      "application/vnd.jupyter.widget-view+json": {
       "model_id": "5c716f5cdcba455c8333103a4df57711",
       "version_major": 2,
       "version_minor": 0
      },
      "text/plain": [
       "Button(description='Add Option', style=ButtonStyle())"
      ]
     },
     "metadata": {},
     "output_type": "display_data"
    },
    {
     "data": {
      "application/vnd.jupyter.widget-view+json": {
       "model_id": "ed862ec6934f4dc88ed428757dc537ff",
       "version_major": 2,
       "version_minor": 0
      },
      "text/plain": [
       "Button(description='Delete Selected Options', style=ButtonStyle())"
      ]
     },
     "metadata": {},
     "output_type": "display_data"
    },
    {
     "data": {
      "application/vnd.jupyter.widget-view+json": {
       "model_id": "c5ce61fadfbb446f8655572e703d5585",
       "version_major": 2,
       "version_minor": 0
      },
      "text/plain": [
       "VBox(children=(Checkbox(value=False, description='Title'), Checkbox(value=False, description='Theme'), Checkbo…"
      ]
     },
     "metadata": {},
     "output_type": "display_data"
    }
   ],
   "source": [
    "from widgets.widgets_util import DynamicCheckboxList\n",
    "dynamic_checkbox_list = DynamicCheckboxList()\n",
    "dynamic_checkbox_list.display_interface()"
   ]
  },
  {
   "cell_type": "markdown",
   "metadata": {},
   "source": [
    "**2. Text chunking**\n",
    "\n",
    "In this part, we compute the text of the documents in order to create a meaningful start point for the communication with the documents.\n",
    "\n",
    "To better identify information present in the text, a semantic chunking method is used in order to create smaller parts of the text. \n",
    "\n",
    "The result of this step is creating semantically conntected units of text that are easier to process.\n",
    "\n",
    "\n",
    "![rag_pipeline](<media/semantic.jpg>)\n"
   ]
  },
  {
   "cell_type": "markdown",
   "metadata": {},
   "source": [
    "**3. Similarity search & Prompting**\n",
    "\n",
    "This parts consists of retrieving the related information to the provided data model. \n",
    "In this step, we search for the top k chunks of text that result of a vector search between each chunk and the respective query created out of the data model.\n",
    "\n",
    "The top k chunks are then used in the prompt given to the large language model in order to provide context in this application.\n",
    "\n",
    "Running the code cell below outputs the LLM-generated text, which represent the identified data out of the paper, and saves them to a csv file.\n",
    "\n",
    "The next cell represents an input cell to specify the folder that contains the corpus to process"
   ]
  },
  {
   "cell_type": "code",
   "execution_count": 5,
   "metadata": {},
   "outputs": [
    {
     "data": {
      "application/vnd.jupyter.widget-view+json": {
       "model_id": "aa77d31f07114004baa47d843d927504",
       "version_major": 2,
       "version_minor": 0
      },
      "text/plain": [
       "Text(value='', placeholder='Folder name here')"
      ]
     },
     "metadata": {},
     "output_type": "display_data"
    }
   ],
   "source": [
    "import ipywidgets as widgets\n",
    "from IPython.display import display\n",
    "\n",
    "input_widget = widgets.Text(\n",
    "    value='',\n",
    "    placeholder='Folder name here',\n",
    "    disabled=False\n",
    ")\n",
    "def save_input(change):\n",
    "    global folder_name\n",
    "    folder_name = change['new']\n",
    "\n",
    "input_widget.observe(save_input, names='value')\n",
    "\n",
    "display(input_widget)"
   ]
  },
  {
   "cell_type": "code",
   "execution_count": null,
   "metadata": {},
   "outputs": [
    {
     "name": "stdout",
     "output_type": "stream",
     "text": [
      "Processing PDF file: zotero_pdfs\\4KKE293P.pdf\n",
      "### Title : A NLP-Oriented Methodology to Enhance Event Log Quality\n",
      "### Theme : Event log quality improvement using NLP techniques\n",
      "### Keywords : Natural Language Processing · Event log quality · Process mining\n",
      "### Evaluation Approach : The methodology has been evaluated using a real-life event log that includes detailed textual descriptions to capture the management of incidents in the aircraft assembly process in aerospace manufacturing.\n",
      "Processing PDF file: zotero_pdfs\\4XTLX385.pdf\n"
     ]
    }
   ],
   "source": [
    "# Synchronous Example\n",
    "from mistralai import Mistral\n",
    "import os\n",
    "from embedding.document_util import DocumentUtil\n",
    "from dotenv import load_dotenv\n",
    "\n",
    "load_dotenv()\n",
    "\n",
    "folder_path = folder_name\n",
    "results= []\n",
    "data = \" - \".join(dynamic_checkbox_list.get_selected_options())\n",
    "\n",
    "for filename in os.listdir(folder_path):\n",
    "    if filename.lower().endswith('.pdf'):\n",
    "        file_path = os.path.join(folder_path, filename)\n",
    "        \n",
    "        print(f\"Processing PDF file: {file_path}\")\n",
    "\n",
    "\n",
    "\n",
    "        test_doc = DocumentUtil.get_text_without_references(DocumentUtil, file_path)\n",
    "        \n",
    "        prompt = f\"\"\"\n",
    "        INSTRUCTIONS:\n",
    "        You are a tool that extracts information from a given document based on Key values. The given document represents a research paper.\n",
    "        Given the DOCUMENT below and the KEY VALUES, and using no prior knowledge, extract the respective information.\n",
    "        Your answer should contain the extracted information without further explanation.\n",
    "        If the information is not present in the text, return NOT FOUND.\n",
    "        In The text should be formatted in the following way: \n",
    "        ### Key value : Information\n",
    "        ----------------------------------------------\n",
    "        DOCUMENT: \n",
    "        {test_doc}\n",
    "        ----------------------------------------------\n",
    "        KEY VALUES:\n",
    "            {data}\n",
    "        ----------------------------------------------\n",
    "        ANSWER: \n",
    "        \"\"\"\n",
    "        \n",
    "        s = Mistral(\n",
    "            api_key= os.getenv('MISTRALAI')\n",
    ",\n",
    "        )\n",
    "        \n",
    "        res = s.chat.complete(model=\"mistral-large-latest\", messages=[\n",
    "            {\n",
    "                \"content\": prompt,\n",
    "                \"role\": \"user\",\n",
    "            },\n",
    "        ])\n",
    "        \n",
    "        if res is not None:\n",
    "            # Run for around 8 Minutes for a corpus of around 30 Papers.\n",
    "            pass\n",
    "        print(res.choices[0].message.content)\n",
    "        results.append(res.choices[0].message.content)"
   ]
  },
  {
   "cell_type": "code",
   "execution_count": 18,
   "metadata": {},
   "outputs": [
    {
     "name": "stdout",
     "output_type": "stream",
     "text": [
      "             Key value                                        Information\n",
      "0                Title  A NLP-Oriented Methodology to Enhance Event Lo...\n",
      "1             Keywords  Natural Language Processing · Event log qualit...\n",
      "2  Evaluation Approach  The evaluation of the proposed methodology was...\n",
      "--------------------\n",
      "             Key value                                        Information\n",
      "0                Title  An Empirical Investigation of the Intuitivenes...\n",
      "1             Keywords  Process landscape · Diagram · Semantic transpa...\n",
      "2  Evaluation Approach                                          NOT FOUND\n",
      "--------------------\n",
      "             Key value                                        Information\n",
      "0                Title  Secure Multi-party Computation for Inter-organ...\n",
      "1             Keywords  Process mining · Privacy · Secure multi-party ...\n",
      "2  Evaluation Approach  The paper reports on experiments that evaluate...\n",
      "--------------------\n",
      "             Key value                                        Information\n",
      "0                Title  Factors Impacting Successful BPMS Adoption and...\n",
      "1             Keywords  Business Process Management · Business Process...\n",
      "2  Evaluation Approach                                          NOT FOUND\n",
      "--------------------\n",
      "             Key value                              Information\n",
      "0                Title  Just Tell Me: Prompt Engineering in BPM\n",
      "1             Keywords                                NOT FOUND\n",
      "2  Evaluation Approach                                NOT FOUND\n",
      "--------------------\n",
      "             Key value                                        Information\n",
      "0                Title  Business Process Monitoring on Blockchains: Po...\n",
      "1             Keywords  Blockchain · Business process monitoring · Bus...\n",
      "2  Evaluation Approach                                          NOT FOUND\n",
      "--------------------\n",
      "             Key value                                        Information\n",
      "0                Title                                 VU Research Portal\n",
      "1             Keywords  e3value · ArchiMate · Traceability · Business ...\n",
      "2  Evaluation Approach                          Technical action research\n",
      "--------------------\n",
      "             Key value                                        Information\n",
      "0                Title  Leveraging Data Augmentation for Process Infor...\n",
      "1             Keywords  Business Process Extraction · Data Augmentatio...\n",
      "2  Evaluation Approach                                          NOT FOUND\n",
      "--------------------\n",
      "             Key value                                        Information\n",
      "0                Title  Supporting Method Creation, Adaptation and Exe...\n",
      "1             Keywords  Method Engineering · Low-code · Framework of M...\n",
      "2  Evaluation Approach                                          NOT FOUND\n",
      "--------------------\n",
      "             Key value                                        Information\n",
      "0                Title  Event-Case Correlation on Click Data: a User S...\n",
      "1             Keywords  Process Mining · Uncertain Event Data · Event-...\n",
      "2  Evaluation Approach                                          NOT FOUND\n",
      "--------------------\n",
      "             Key value                                        Information\n",
      "0                Title  Exploring the Understandability of a Hybrid Pr...\n",
      "1             Keywords  Hybrid Process Design Artifact, DCR Graphs, Un...\n",
      "2  Evaluation Approach            Eye-tracking and Think-aloud Techniques\n",
      "--------------------\n",
      "             Key value                                        Information\n",
      "0                Title  Toward an Automated Labeling of Event Log Attr...\n",
      "1             Keywords                                          NOT FOUND\n",
      "2  Evaluation Approach  The ICI approach is evaluated using both synth...\n",
      "--------------------\n",
      "   Key value                                        Information\n",
      "0  Key value    Scheduling Processes Without Sudden Termination\n",
      "1  Key value  Process scheduling · Contingent durations · Su...\n",
      "2  Key value                                          NOT FOUND\n",
      "--------------------\n",
      "             Key value                                        Information\n",
      "0                Title  Exception Handling in the Context of Fragment-...\n",
      "1             Keywords  Case management · Exception handling · Busines...\n",
      "2  Evaluation Approach  The applicability of the developed exception h...\n",
      "--------------------\n",
      "             Key value                                        Information\n",
      "0                Title  Chatting About Processes in Digital Factories:...\n",
      "1             Keywords  Conversational user interface · Chatbot modell...\n",
      "2  Evaluation Approach                                          NOT FOUND\n",
      "--------------------\n",
      "             Key value                                        Information\n",
      "0                Title             Visualizing Business Process Evolution\n",
      "1             Keywords  Process drift · Process change · Process evolu...\n",
      "2  Evaluation Approach                                          NOT FOUND\n",
      "--------------------\n",
      "             Key value                                        Information\n",
      "0                Title  Evaluating Large Language Models in Process Mi...\n",
      "1             Keywords  Large Language Models (LLMs) · Output Evaluati...\n",
      "2  Evaluation Approach                                          NOT FOUND\n",
      "--------------------\n",
      "             Key value                                        Information\n",
      "0                Title  Mining BPMN Processes on GitHub for Tool Valid...\n",
      "1             Keywords                                          NOT FOUND\n",
      "2  Evaluation Approach  Mining software repositories on GitHub.com to ...\n",
      "--------------------\n",
      "             Key value                                        Information\n",
      "0                Title  Detecting and Understanding Branching Frequenc...\n",
      "1             Keywords  Process Science · Data Science · Process drift...\n",
      "2  Evaluation Approach  The proposed method is evaluated on a real-lif...\n",
      "--------------------\n",
      "             Key value                                        Information\n",
      "0                Title  Early Validation Framework for Critical and Co...\n",
      "1             Keywords  Business process · Modeling · Simulation · Vis...\n",
      "2  Evaluation Approach                                          NOT FOUND\n",
      "--------------------\n",
      "             Key value                                        Information\n",
      "0                Title  Evaluating Perceived Usefulness and Ease of Us...\n",
      "1             Keywords  business process modeling, knowledge-intensive...\n",
      "2  Evaluation Approach                        Technology Acceptance Model\n",
      "--------------------\n",
      "             Key value                                        Information\n",
      "0                Title  Reinforcement Learning-supported AB Testing of...\n",
      "1             Keywords  Business Process Improvement · Process Redesig...\n",
      "2  Evaluation Approach                                          NOT FOUND\n",
      "--------------------\n",
      "             Key value                                        Information\n",
      "0                Title  Cherry-Picking from Spaghetti: Multi-range Fil...\n",
      "1             Keywords  Multi-range ﬁlter · Filtering event logs · Inf...\n",
      "2  Evaluation Approach  We evaluate our approach through a prototype b...\n",
      "--------------------\n",
      "             Key value                                        Information\n",
      "0                Title  Truncated Trace Classiﬁer. Removal of Incomple...\n",
      "1             Keywords  Process mining · Predictive process monitoring...\n",
      "2  Evaluation Approach  We propose the Truncated Trace Classiﬁer (TTC)...\n",
      "--------------------\n",
      "             Key value                                        Information\n",
      "0                Title  A Novel Decision Mining Method Considering Mul...\n",
      "1             Keywords  Decision Mining · Process Mining · Decision Tr...\n",
      "2  Evaluation Approach                                           F1 score\n",
      "--------------------\n",
      "             Key value                                        Information\n",
      "0                Title  Reference Service Model for Federated Identity...\n",
      "1             Keywords  Modelling · Services · Security · Identity Man...\n",
      "2  Evaluation Approach                                          NOT FOUND\n",
      "--------------------\n",
      "             Key value                                        Information\n",
      "0                Title  Generating Reliable Process Event Streams and ...\n",
      "1             Keywords  Time Series Generation · Recurrent Neural Netw...\n",
      "2  Evaluation Approach                                          NOT FOUND\n",
      "--------------------\n",
      "             Key value                                        Information\n",
      "0                Title  Dynamically Switching Execution Context in Dat...\n",
      "1             Keywords  Object-aware processes · BPM · Process context...\n",
      "2  Evaluation Approach  The evaluation approach involves a large-scale...\n",
      "--------------------\n",
      "             Key value                                        Information\n",
      "0                Title  Automated Planning for Supporting Knowledge-In...\n",
      "1             Keywords  Knowledge-intensive process · Business process...\n",
      "2  Evaluation Approach  Proof of concept in the medical domain which r...\n",
      "--------------------\n",
      "             Key value                                        Information\n",
      "0                Title  Model Consolidation: A process modelling metho...\n",
      "1             Keywords  Process analysis, business process modelling a...\n",
      "2  Evaluation Approach                                          NOT FOUND\n",
      "--------------------\n",
      "             Key value                                        Information\n",
      "0                Title      Event Log Generation: An Industry Perspective\n",
      "1             Keywords  process mining · event logs · business process...\n",
      "2  Evaluation Approach                       Survey with industry experts\n",
      "--------------------\n",
      "             Key value                                        Information\n",
      "0                Title  The Integration of Process Simulation Within t...\n",
      "1             Keywords  Discrete-event simulation · Business Architect...\n",
      "2  Evaluation Approach                                          NOT FOUND\n",
      "--------------------\n",
      "             Key value                                        Information\n",
      "0                Title  Enforcing a Cross-Organizational Workﬂow: An E...\n",
      "1             Keywords  Business process modelling · Cross-organizatio...\n",
      "2  Evaluation Approach                                          NOT FOUND\n",
      "--------------------\n"
     ]
    }
   ],
   "source": [
    "import pandas as pd\n",
    "import re\n",
    "\n",
    "df_list = []\n",
    "for result in results:\n",
    "    lines = result.splitlines()\n",
    "    example_values = []\n",
    "    information_list = []\n",
    "        \n",
    "    for line in lines:\n",
    "        match = re.match(r\"^###\\s*(.*?)[:-]\\s*(.*)$\", line)\n",
    "        if match:\n",
    "            example_value = match.group(1).strip()\n",
    "            information = match.group(2).strip()\n",
    "            example_values.append(example_value)\n",
    "            information_list.append(information)\n",
    "        \n",
    "        # Create a DataFrame\n",
    "    df = pd.DataFrame({'Key value': example_values, 'Information': information_list})\n",
    "    df_list.append(df)\n",
    "    print(df)\n",
    "    print(\"--------------------\")"
   ]
  },
  {
   "cell_type": "code",
   "execution_count": null,
   "metadata": {},
   "outputs": [],
   "source": [
    "folder_path = \"zotero_pdfs\"\n",
    "\n",
    "file_names = os.listdir(folder_path)\n",
    "\n",
    "file_names = [f for f in file_names if os.path.isfile(os.path.join(folder_path, f))]\n",
    "\n",
    "transformed_dataframes = []\n",
    "\n",
    "for df in df_list:\n",
    "    pivoted_df = df.set_index('Key value').T\n",
    "    transformed_dataframes.append(pivoted_df)\n",
    "\n",
    "combined_df = pd.concat(transformed_dataframes, ignore_index=True)\n",
    "\n",
    "combined_df['File Name'] = file_names\n",
    "columns = ['File Name'] + [col for col in combined_df.columns if col != 'File Name']\n",
    "combined_df = combined_df[columns]\n",
    "\n",
    "combined_df.to_csv('combined_output_with_filenames.csv', index=False)w"
   ]
  }
 ],
 "metadata": {
  "kernelspec": {
   "display_name": "Python 3 (ipykernel)",
   "language": "python",
   "name": "python3"
  },
  "language_info": {
   "codemirror_mode": {
    "name": "ipython",
    "version": 3
   },
   "file_extension": ".py",
   "mimetype": "text/x-python",
   "name": "python",
   "nbconvert_exporter": "python",
   "pygments_lexer": "ipython3",
   "version": "3.10.12"
  },
  "tags": "hide-input"
 },
 "nbformat": 4,
 "nbformat_minor": 4
}
