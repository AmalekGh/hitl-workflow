{
 "cells": [
  {
   "cell_type": "markdown",
   "id": "2560e554-33f9-4e64-8097-68d761dd74ba",
   "metadata": {},
   "source": [
    "# HITL-SCC_Workflow Stage 2 : Knowledge Extraction"
   ]
  },
  {
   "cell_type": "markdown",
   "id": "43dd8a2c-ac55-459b-86c8-46b615f22fa4",
   "metadata": {},
   "source": [
    "If you are at this stage, it means you already have a corpus of PDFs locally stored.\n",
    "\n",
    "At this point, and based on your research interest, our goal is to structure the extraction process.\n",
    "\n",
    "To establish a structured data model that serves as a template for extracting key information from scientific literature. This model will outline the specific fields of knowledge to be extracted, such as titles, keywords, methods, metrics, and evaluation approaches..."
   ]
  },
  {
   "cell_type": "markdown",
   "id": "a23fb81d-1807-44a8-852c-79a8617234ce",
   "metadata": {},
   "source": [
    "**Task 1: Define Data model**"
   ]
  },
  {
   "cell_type": "markdown",
   "id": "6da0d0fb-618e-49d3-b0dc-24737bdae7f6",
   "metadata": {},
   "source": [
    "A data model in this context is a structured set of properties that should serve as input in order to communicate with the corpus.\n",
    "\n",
    "In this task, the goal is to define elements that should be extracted from the corpus.\n",
    "\n",
    "Please use the field below to manage key properties you wish to add, delete, include, or ignore from the extraction process.\n",
    "\n",
    "To add certain properties, use the textfield to input each element at a time, and using the \"Add Option\" button to add it to the list.\n",
    "\n",
    "If you wish to delete properties from the list, tick the checkboxes of the elements to delete and use the button \"Delete Selected Options\".\n",
    "\n",
    "**Please start by adding the required elements to the list, and then proceed by ticking the checkboxes**"
   ]
  },
  {
   "cell_type": "markdown",
   "id": "0d80513a-5dd6-4a4d-abf6-b7a84699a6f8",
   "metadata": {},
   "source": [
    "<div class=\"alert alert-block alert-info\"> <b>Note:</b>The Title property is initalized and should always be included in the extraction process</div>"
   ]
  },
  {
   "cell_type": "code",
   "execution_count": 6,
   "id": "89ac13e0-2b06-403b-b942-a6e0f8f6f086",
   "metadata": {
    "jupyter": {
     "source_hidden": true
    }
   },
   "outputs": [
    {
     "data": {
      "application/vnd.jupyter.widget-view+json": {
       "model_id": "0570751a518b43d7ac7b4c7da9554e01",
       "version_major": 2,
       "version_minor": 0
      },
      "text/plain": [
       "Text(value='', placeholder='Enter a new option')"
      ]
     },
     "metadata": {},
     "output_type": "display_data"
    },
    {
     "data": {
      "application/vnd.jupyter.widget-view+json": {
       "model_id": "ba333f19a4d84f708c4ad6d95145a298",
       "version_major": 2,
       "version_minor": 0
      },
      "text/plain": [
       "Button(description='Add Option', style=ButtonStyle())"
      ]
     },
     "metadata": {},
     "output_type": "display_data"
    },
    {
     "data": {
      "application/vnd.jupyter.widget-view+json": {
       "model_id": "ec49fe2bc1f242ae8614c0cdba251424",
       "version_major": 2,
       "version_minor": 0
      },
      "text/plain": [
       "Button(description='Delete Selected Options', style=ButtonStyle())"
      ]
     },
     "metadata": {},
     "output_type": "display_data"
    },
    {
     "data": {
      "application/vnd.jupyter.widget-view+json": {
       "model_id": "71315c28899f4df2acb03b0885b0563f",
       "version_major": 2,
       "version_minor": 0
      },
      "text/plain": [
       "VBox(children=(Checkbox(value=False, description='Title'), Checkbox(value=False, description='Theme'), Checkbo…"
      ]
     },
     "metadata": {},
     "output_type": "display_data"
    }
   ],
   "source": [
    "from corpus.widgets.widgets_util import DynamicCheckboxList\n",
    "dynamic_checkbox_list = DynamicCheckboxList()\n",
    "dynamic_checkbox_list.display_interface()"
   ]
  },
  {
   "cell_type": "markdown",
   "id": "2c833076-a3b3-48c5-8018-c8e530c15013",
   "metadata": {},
   "source": [
    "**Task 2: Information extraction**\n",
    "\n",
    "In this phase, the workflow leverages a pre-trained language model to automatically extract information from the corpus created in the previous stage. This step is crucial for transforming raw textual data into a format aligned with the data model you have chosen.\n",
    "\n",
    "To start the process, please click the button presented below."
   ]
  },
  {
   "cell_type": "code",
   "execution_count": 8,
   "id": "637e81f0-49e0-460c-9a70-f567b48ca68a",
   "metadata": {
    "jupyter": {
     "source_hidden": true
    },
    "scrolled": true
   },
   "outputs": [
    {
     "data": {
      "application/vnd.jupyter.widget-view+json": {
       "model_id": "617d02a5eae649058b1503884d53c64a",
       "version_major": 2,
       "version_minor": 0
      },
      "text/plain": [
       "Button(description='Start process', layout=Layout(width='200px'), style=ButtonStyle())"
      ]
     },
     "metadata": {},
     "output_type": "display_data"
    },
    {
     "data": {
      "application/vnd.jupyter.widget-view+json": {
       "model_id": "01284c7a15a647b28a32cebbe0d06eb2",
       "version_major": 2,
       "version_minor": 0
      },
      "text/plain": [
       "Output()"
      ]
     },
     "metadata": {},
     "output_type": "display_data"
    }
   ],
   "source": [
    "from mistralai import Mistral\n",
    "import os\n",
    "from corpus.embedding.document_util import DocumentUtil\n",
    "from dotenv import load_dotenv\n",
    "import ipywidgets as widgets\n",
    "from IPython.display import display, clear_output\n",
    "import json\n",
    "import pandas as pd\n",
    "from ipydatagrid import DataGrid, TextRenderer, VegaExpr\n",
    "\n",
    "load_dotenv()\n",
    "results = []\n",
    "\n",
    "def process_pdfs(folder_path):\n",
    "    data = {\n",
    "    \"columns\": {\n",
    "        \"title\": \"paper:title\",\n",
    "        \"authors\": \"paper:authors\",\n",
    "        \"publication_month\": \"paper:publication_month\",\n",
    "        \"publication_year\": \"paper:publication_year\",\n",
    "        \"research_field\": \"paper:research_field\",\n",
    "        \"doi\": \"paper:doi\",\n",
    "        \"url\": \"paper:url\",\n",
    "        \"published_in\": \"paper:published_in\",\n",
    "        \"research_problem \": \"contribution:research_problem \",\n",
    "        \"extraction_method \": \"contribution:extraction_method\"\n",
    "    },\n",
    "    \"rules\": {\n",
    "        \"authors\": \"Authors should be separated by a ;\"\n",
    "    }\n",
    "}\n",
    "\n",
    "    elements = dynamic_checkbox_list.get_selected_options()\n",
    "    \n",
    "    output_lines = []\n",
    "    for element in elements:\n",
    "        element_lower = element.lower()\n",
    "        if element_lower in data[\"rules\"]:\n",
    "            rule_message = data[\"rules\"][element_lower]\n",
    "            output_lines.append(f\"{element}: {rule_message}\")\n",
    "        else:\n",
    "            output_lines.append(element)\n",
    "    \n",
    "    result_string = \"\\n\".join(output_lines)\n",
    "    clear_output(wait=True)\n",
    "\n",
    "\n",
    "    global results\n",
    "    results = []\n",
    "    clear_output()\n",
    "\n",
    "    progress_bar = widgets.IntProgress(\n",
    "        value=0,\n",
    "        min=0,\n",
    "        max=len([f for f in os.listdir(folder_path) if f.lower().endswith('.pdf')]),\n",
    "        description='Processing:',\n",
    "        bar_style='info',\n",
    "        orientation='horizontal'\n",
    "    )\n",
    "    display(progress_bar)\n",
    "\n",
    "    for idx, filename in enumerate(os.listdir(folder_path)):\n",
    "        if filename.lower().endswith('.pdf'):\n",
    "            file_path = os.path.join(folder_path, filename)\n",
    "            try:\n",
    "                test_doc = DocumentUtil.get_text_without_references(DocumentUtil, file_path)\n",
    "            except ValueError:\n",
    "                print(\"The workflow was unable to process the following file:\", file_path)\n",
    "                continue\n",
    "                \n",
    "            \n",
    "            prompt = f\"\"\"\n",
    "                You are an information extraction system specialized in retrieving specified key information from scientific texts.\n",
    "                \n",
    "                Extract and provide the following KEY details from the given text: \n",
    "                \n",
    "                {result_string}. \n",
    "                \n",
    "                Use only the information available in the Scientific Text, without any external knowledge. If information is not found, return 'NOT FOUND' for that specific key.\n",
    "                \n",
    "                For each item, provide the extracted information along with an associated confidence score.\n",
    "                \n",
    "                You will respond only with a JSON object where each field is structured as follows:\n",
    "                \n",
    "                \"KEY\": {{ \"Information\": \"<extracted information>\", \"Confidence\": <confidence score> }}\n",
    "                Do not include explanations or extra text. Keep the sentences short and precise.\n",
    "                \n",
    "                Scientific Text:\n",
    "                {test_doc}\n",
    "            \"\"\"\n",
    "            \n",
    "            s = Mistral(\n",
    "                api_key=os.getenv('MISTRALAI'),\n",
    "            )\n",
    "            \n",
    "            res = s.chat.complete(\n",
    "                model=\"mistral-large-latest\",\n",
    "                temperature=0.2,\n",
    "                messages=[\n",
    "                    {\n",
    "                        \"content\": prompt,\n",
    "                        \"role\": \"user\",\n",
    "                    },\n",
    "                ],\n",
    "                response_format={\"type\": \"json_object\"}\n",
    "            )\n",
    "            \n",
    "            if res is not None:\n",
    "                results.append(res.choices[0].message.content)\n",
    "            \n",
    "            progress_bar.value = idx + 1\n",
    "    \n",
    "    clear_output(wait=True)\n",
    "    process_label = widgets.Label(value=\"✅ task completed!\")\n",
    "    display(process_label)\n",
    "    return results\n",
    "\n",
    "button = widgets.Button(\n",
    "    description=\"Run Extraction\",\n",
    "    button_style=\"success\",\n",
    "    tooltip=\"Click to extract data from PDFs\",\n",
    "    icon=\"check\"\n",
    ")\n",
    "\n",
    "button = widgets.Button(description=\"Start process\", layout=widgets.Layout(width=\"200px\"))\n",
    "output = widgets.Output()\n",
    "\n",
    "display(button, output)\n",
    "\n",
    "def button_click(b):\n",
    "    with output:\n",
    "        folder_path = \"corpus_result\"\n",
    "        results = process_pdfs(folder_path)\n",
    "\n",
    "\n",
    "button.on_click(button_click)\n"
   ]
  },
  {
   "cell_type": "markdown",
   "id": "a7dee74e-2e66-4a44-8e14-631330250798",
   "metadata": {},
   "source": [
    "**Task 3: Display and Validate**\n",
    "\n",
    "The button **\"Display\"** below would display a grid that represents the information extracted from the corpus. In this step, you can revise, modify, and validate specific cells and rows from the table. \n",
    "\n",
    "If you wish to deselect / reselect rows from the table, please use the first column \"Selected\". By double clicking on the corresponding cell, a checkbox would be displayed. By deselecting elements from the table, you will exclude the whole paper from the further process. \n",
    "\n",
    "It is also possible to modify the content of cells by double clicking on a cell."
   ]
  },
  {
   "cell_type": "code",
   "execution_count": 10,
   "id": "eab32e4a-0557-4007-a3b9-1bebb416b02d",
   "metadata": {
    "jupyter": {
     "source_hidden": true
    },
    "scrolled": true
   },
   "outputs": [
    {
     "data": {
      "application/vnd.jupyter.widget-view+json": {
       "model_id": "f5e9e6bc22c342abb00367c6e640d38e",
       "version_major": 2,
       "version_minor": 0
      },
      "text/plain": [
       "Button(description='Display results', layout=Layout(width='200px'), style=ButtonStyle())"
      ]
     },
     "metadata": {},
     "output_type": "display_data"
    },
    {
     "data": {
      "application/vnd.jupyter.widget-view+json": {
       "model_id": "3fcadf782fa94e719ef84665e7c540fa",
       "version_major": 2,
       "version_minor": 0
      },
      "text/plain": [
       "Output()"
      ]
     },
     "metadata": {},
     "output_type": "display_data"
    }
   ],
   "source": [
    "import json\n",
    "import pandas as pd\n",
    "from ipydatagrid import DataGrid, TextRenderer, VegaExpr\n",
    "from IPython.display import display\n",
    "import ipywidgets as widgets\n",
    "\n",
    "column_mapping = {\n",
    "    \"title\": \"paper:title\",\n",
    "    \"authors\": \"paper:authors\",\n",
    "    \"publication_month\": \"paper:publication_month\",\n",
    "    \"publication_year\": \"paper:publication_year\",\n",
    "    \"research_field\": \"paper:research_field\",\n",
    "    \"doi\": \"paper:doi\",\n",
    "    \"url\": \"paper:url\",\n",
    "    \"published_in\": \"paper:published_in\",\n",
    "    \"research_problem\": \"contribution:research_problem\",\n",
    "    \"extraction_method\": \"contribution:extraction_method\"\n",
    "}\n",
    "\n",
    "def flatten_json(json_obj):\n",
    "    flattened = {}\n",
    "    for key, value in json_obj.items():\n",
    "        mapped_key = column_mapping.get(key.lower(), key)\n",
    "        flattened[mapped_key] = value[\"Information\"]\n",
    "    return flattened\n",
    "\n",
    "\n",
    "\n",
    "\n",
    "button = widgets.Button(description=\"Display results\", layout=widgets.Layout(width=\"200px\"))\n",
    "output_task3 = widgets.Output()\n",
    "\n",
    "display(button, output_task3)\n",
    "\n",
    "def display_grid(b):\n",
    "    with output_task3:\n",
    "        output_task3.clear_output()\n",
    "        parsed_data = []\n",
    "        for json_string in results:\n",
    "            try:\n",
    "                parsed_data.append(json.loads(json_string))\n",
    "            except TypeError:\n",
    "                parsed_data.append(json_string)\n",
    "            except json.JSONDecodeError as e:\n",
    "                print(\"Invalid JSON string:\", e)\n",
    "\n",
    "        flattened_data = [flatten_json(json_obj) for json_obj in parsed_data]\n",
    "\n",
    "        df = pd.DataFrame(flattened_data)\n",
    "        df[\"Selected\"] = True \n",
    "        columns = [\"Selected\"] + [col for col in df.columns if col != \"Selected\"]\n",
    "        df = df[columns]\n",
    "        \n",
    "        csv_file = \"doi_list.csv\"\n",
    "        additional_column = pd.read_csv(csv_file)\n",
    "        \n",
    "        df = pd.concat([df, additional_column], axis=1)\n",
    "        \n",
    "        renderer = TextRenderer(\n",
    "            background_color=VegaExpr(\n",
    "                \"cell.value == 'NOT FOUND' ? 'red' : 'white'\"\n",
    "            )\n",
    "        )\n",
    "        global huge_datagrid\n",
    "        huge_datagrid = DataGrid(\n",
    "            df,\n",
    "            base_row_size=30,\n",
    "            base_column_size=150,\n",
    "            layout={\"height\": \"400px\", \"width\": \"100%\"},\n",
    "            default_renderer=renderer,\n",
    "            editable=True\n",
    "        )\n",
    "        \n",
    "        checkboxes = [\n",
    "            widgets.Checkbox(value=True, layout=widgets.Layout(margin=\"0 0 0 5px\")) for _ in range(len(df))\n",
    "        ]\n",
    "        checkbox_column = widgets.VBox(\n",
    "            checkboxes, layout=widgets.Layout(align_items=\"stretch\", margin=\"0 5px 0 0\")\n",
    "        )\n",
    "        \n",
    "        layout = widgets.VBox([huge_datagrid], layout=widgets.Layout(gap=\"10px\"))\n",
    "        display(layout)\n",
    "\n",
    "\n",
    "button.on_click(display_grid)"
   ]
  },
  {
   "cell_type": "markdown",
   "id": "89d36831-7e5f-4328-87db-e7a320e5f146",
   "metadata": {},
   "source": [
    "The button **\"Validate & Save\"** below would save a csv file with the elements that are displayed."
   ]
  },
  {
   "cell_type": "code",
   "execution_count": 12,
   "id": "8f27a567-56bc-4875-bd93-3326c882122a",
   "metadata": {
    "jupyter": {
     "source_hidden": true
    }
   },
   "outputs": [
    {
     "data": {
      "application/vnd.jupyter.widget-view+json": {
       "model_id": "fccc7b9baf0e4ec58fe63525f6d89131",
       "version_major": 2,
       "version_minor": 0
      },
      "text/plain": [
       "Button(description='Validate & Save', style=ButtonStyle())"
      ]
     },
     "metadata": {},
     "output_type": "display_data"
    },
    {
     "data": {
      "application/vnd.jupyter.widget-view+json": {
       "model_id": "94f7d865aa7a4997b2a8c596883a3c38",
       "version_major": 2,
       "version_minor": 0
      },
      "text/plain": [
       "Output()"
      ]
     },
     "metadata": {},
     "output_type": "display_data"
    }
   ],
   "source": [
    "output_task4 = widgets.Output()\n",
    "\n",
    "def validate_and_save(_):\n",
    "    with output_task4:\n",
    "        updated_df = huge_datagrid.data \n",
    "        filtered_df = updated_df[updated_df[\"Selected\"].fillna(False)]\n",
    "        filtered_df = filtered_df.drop(columns=[\"Selected\"])\n",
    "        filtered_df.replace(\"NOT FOUND\", pd.NA, inplace=True)\n",
    "        filtered_df.to_csv(\"filtered_data.csv\", index=False)\n",
    "        output_task4.clear_output()\n",
    "        validate_label = widgets.Label(value=\"✅ task completed!\")\n",
    "        display(validate_label)\n",
    "\n",
    "validate_button = widgets.Button(description=\"Validate & Save\")\n",
    "validate_button.on_click(validate_and_save)\n",
    "\n",
    "display(validate_button, output_task4)"
   ]
  },
  {
   "cell_type": "markdown",
   "id": "ed03e600-d664-4032-9ad8-b061ccf19dfb",
   "metadata": {},
   "source": [
    "**Task 4: Process CSV and Extract Entities**\n",
    "\n",
    "This task is called by pressing the button below. This would extract entities in the form of text and save them to a CSV file that is ready to be imported in the ORKG."
   ]
  },
  {
   "cell_type": "code",
   "execution_count": 14,
   "id": "60b55fd7-c05f-4396-bb5d-a8d6370cbb26",
   "metadata": {
    "jupyter": {
     "source_hidden": true
    }
   },
   "outputs": [
    {
     "data": {
      "application/vnd.jupyter.widget-view+json": {
       "model_id": "20ca40fe2d594939b0e90f70ed4b3bdb",
       "version_major": 2,
       "version_minor": 0
      },
      "text/plain": [
       "Button(description='Process CSV and Extract Entities', layout=Layout(width='300px'), style=ButtonStyle())"
      ]
     },
     "metadata": {},
     "output_type": "display_data"
    },
    {
     "data": {
      "application/vnd.jupyter.widget-view+json": {
       "model_id": "729ce2a8c6bf4b8c84274150c51c10a2",
       "version_major": 2,
       "version_minor": 0
      },
      "text/plain": [
       "Output()"
      ]
     },
     "metadata": {},
     "output_type": "display_data"
    }
   ],
   "source": [
    "import pandas as pd\n",
    "import requests\n",
    "import json\n",
    "import ipywidgets as widgets\n",
    "from IPython.display import display, HTML\n",
    "import os\n",
    "import csv\n",
    "\n",
    "api_url = \"https://labs.tib.eu/falcon/falcon2/api\"\n",
    "headers = {\"Content-Type\": \"application/json\"}\n",
    "\n",
    "csv_path = \"filtered_data.csv\"\n",
    "output_path = \"to_import_orkg.csv\"\n",
    "\n",
    "def extract_entities(text):\n",
    "    payload = {\"text\": text}\n",
    "    response = requests.post(f\"{api_url}?mode=long\", headers=headers, data=json.dumps(payload))\n",
    "    if response.status_code == 200:\n",
    "        result = response.json()\n",
    "        entities = result.get(\"entities_wikidata\", [])\n",
    "        return [entity[\"surface form\"] for entity in entities]\n",
    "    else:\n",
    "        print(f\"Falcon was unable to extract an entity. The process is continuing\")\n",
    "        return []\n",
    "\n",
    "def process_csv_and_extract_entities(_):\n",
    "    output_task5.clear_output() \n",
    "    with output_task5:\n",
    "        loading_label = widgets.Label(value=\"⏳ Loading...\")\n",
    "        display(loading_label)\n",
    "        try:\n",
    "            df = pd.read_csv(csv_path)\n",
    "            new_data = df.copy()\n",
    "\n",
    "            for column in df.columns:\n",
    "                if \":\" not in column.lower():\n",
    "                    for index, cell in enumerate(df[column]):\n",
    "                        if pd.notna(cell):\n",
    "                            entities = extract_entities(str(cell))\n",
    "                            if entities:\n",
    "                                new_data.loc[index, column] = entities[0]\n",
    "\n",
    "                                for i, entity in enumerate(entities[1:], start=1):\n",
    "                                    new_col_name = f\"{column.lower()}({+1})\"\n",
    "                                    insert_pos = new_data.columns.get_loc(column) + i\n",
    "\n",
    "                                    if new_col_name not in new_data.columns:\n",
    "                                        new_data.insert(insert_pos, new_col_name, \"\")\n",
    "\n",
    "                                    new_data.loc[index, new_col_name] = entity\n",
    "\n",
    "            new_data.columns = [col.lower() for col in new_data.columns]\n",
    "\n",
    "            columns = [new_data.columns[-1]] + list(new_data.columns[:-1])\n",
    "            new_data = new_data.reindex(columns=columns)\n",
    "\n",
    "            new_data.to_csv(output_path, index=False)\n",
    "\n",
    "            with open(output_path, mode=\"r\", encoding=\"utf-8\") as file:\n",
    "                reader = csv.reader(file)\n",
    "                data = [row for row in reader]\n",
    "            \n",
    "            header = data[0]\n",
    "            processed_header = []\n",
    "            # Work around duplicate names in import file\n",
    "            for column in header:\n",
    "                if \")\" in column:\n",
    "                    close_idx = column.rfind(\")\")\n",
    "                    open_idx = column[:close_idx].rfind(\"(\")\n",
    "                    if open_idx != -1:\n",
    "                        column = column[:open_idx]\n",
    "                processed_header.append(column)\n",
    "            \n",
    "            data[0] = processed_header\n",
    "            os.remove(csv_path)\n",
    "            with open(output_path, mode=\"w\", newline=\"\", encoding=\"utf-8\") as file:\n",
    "                writer = csv.writer(file)\n",
    "                writer.writerows(data)\n",
    "            print(f\"Entity extraction completed. Results saved to {output_path}\")\n",
    "            clear_output()\n",
    "            gold_note = \"\"\"\n",
    "                <div style=\"border: 2px solid gold; border-radius: 10px; padding: 10px; background-color: #FFD700; color: black; font-weight: bold; text-align: center;\">\n",
    "                    This stage is over, A Ready-to-import CSV-file is saved to in the project folder. This CSV-file is formatted for the ORKG import.\n",
    "                    </div>\n",
    "            \"\"\"\n",
    "            display(HTML(gold_note))\n",
    "        except Exception as e:\n",
    "            print(f\"An error occurred: {e}.\")\n",
    "\n",
    "button = widgets.Button(description=\"Process CSV and Extract Entities\", layout=widgets.Layout(width=\"300px\"))\n",
    "output_task5 = widgets.Output()\n",
    "\n",
    "button.on_click(process_csv_and_extract_entities)\n",
    "\n",
    "display(button, output_task5)\n"
   ]
  }
 ],
 "metadata": {
  "kernelspec": {
   "display_name": "Python 3 (ipykernel)",
   "language": "python",
   "name": "python3"
  },
  "language_info": {
   "codemirror_mode": {
    "name": "ipython",
    "version": 3
   },
   "file_extension": ".py",
   "mimetype": "text/x-python",
   "name": "python",
   "nbconvert_exporter": "python",
   "pygments_lexer": "ipython3",
   "version": "3.12.4"
  },
  "widgets": {
   "application/vnd.jupyter.widget-state+json": {
    "state": {},
    "version_major": 2,
    "version_minor": 0
   }
  }
 },
 "nbformat": 4,
 "nbformat_minor": 5
}
