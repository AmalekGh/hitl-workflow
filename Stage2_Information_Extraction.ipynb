{
 "cells": [
  {
   "cell_type": "markdown",
   "metadata": {},
   "source": [
    "# HITL-SCC_Workflow Stage 2 : Knowledge Extraction"
   ]
  },
  {
   "cell_type": "markdown",
   "metadata": {},
   "source": [
    "If you are at this stage, it means you already have a corpus of PDFs locally stored.\n",
    "\n",
    "At this point, and based on your research interest, our goal is to structure the extraction process.\n",
    "\n",
    "To establish a structured data model that serves as a template for extracting key information from scientific literature. This model will outline the specific fields of knowledge to be extracted, such as titles, keywords, methods, metrics, and evaluation approaches..."
   ]
  },
  {
   "cell_type": "markdown",
   "metadata": {},
   "source": [
    "**Task 1: Define Data model**"
   ]
  },
  {
   "cell_type": "markdown",
   "metadata": {},
   "source": [
    "A data model in this context is a structured set of properties that should serve as input in order to communicate with the corpus.\n",
    "\n",
    "In this task, the goal is to define elements that should be extracted from the corpus.\n",
    "\n",
    "Please use the field below to manage key properties you wish to add, delete, include, or ignore from the extraction process.\n",
    "\n",
    "To add certain properties, use the textfield to input each element at a time, and using the \"Add Option\" button to add it to the list.\n",
    "\n",
    "If you wish to delete properties from the list, tick the checkboxes of the elements to delete and use the button \"Delete Selected Options\".\n",
    "\n",
    "By Ticking a checkbox, the property would be included in the extraction process accordingly."
   ]
  },
  {
   "cell_type": "markdown",
   "metadata": {},
   "source": [
    "<div class=\"alert alert-block alert-info\"> <b>Note:</b>The Title property is initalized and should always be included in the extraction process</div>"
   ]
  },
  {
   "cell_type": "code",
   "execution_count": 131,
   "metadata": {
    "jupyter": {
     "source_hidden": true
    }
   },
   "outputs": [
    {
     "data": {
      "application/vnd.jupyter.widget-view+json": {
       "model_id": "65c9177bd44d46c7822bcbc32171a87f",
       "version_major": 2,
       "version_minor": 0
      },
      "text/plain": [
       "Text(value='', placeholder='Enter a new option')"
      ]
     },
     "metadata": {},
     "output_type": "display_data"
    },
    {
     "data": {
      "application/vnd.jupyter.widget-view+json": {
       "model_id": "1ca1564498ea43168205c967ab7015d6",
       "version_major": 2,
       "version_minor": 0
      },
      "text/plain": [
       "Button(description='Add Option', style=ButtonStyle())"
      ]
     },
     "metadata": {},
     "output_type": "display_data"
    },
    {
     "data": {
      "application/vnd.jupyter.widget-view+json": {
       "model_id": "a26cbc3c1c5a4aeb90c926ccff0ec2ec",
       "version_major": 2,
       "version_minor": 0
      },
      "text/plain": [
       "Button(description='Delete Selected Options', style=ButtonStyle())"
      ]
     },
     "metadata": {},
     "output_type": "display_data"
    },
    {
     "data": {
      "application/vnd.jupyter.widget-view+json": {
       "model_id": "bd44490644e640238cb45c4b759fcbe9",
       "version_major": 2,
       "version_minor": 0
      },
      "text/plain": [
       "VBox(children=(Checkbox(value=False, description='Title'), Checkbox(value=False, description='Theme'), Checkbo…"
      ]
     },
     "metadata": {},
     "output_type": "display_data"
    }
   ],
   "source": [
    "from corpus.widgets.widgets_util import DynamicCheckboxList\n",
    "dynamic_checkbox_list = DynamicCheckboxList()\n",
    "dynamic_checkbox_list.display_interface()"
   ]
  },
  {
   "cell_type": "code",
   "execution_count": 117,
   "metadata": {
    "jupyter": {
     "source_hidden": true
    }
   },
   "outputs": [
    {
     "name": "stdout",
     "output_type": "stream",
     "text": [
      "Title\n",
      "Theme\n",
      "Evaluation Approach\n"
     ]
    }
   ],
   "source": [
    "data = {\n",
    "    \"columns\": {\n",
    "        \"title\": \"paper:title\",\n",
    "        \"authors\": \"paper:authors\",\n",
    "        \"publication_month\": \"paper:publication_month\",\n",
    "        \"publication_year\": \"paper:publication_year\",\n",
    "        \"research_field\": \"paper:research_field\",\n",
    "        \"doi\": \"paper:doi\",\n",
    "        \"url\": \"paper:url\",\n",
    "        \"published_in\": \"paper:published_in\",\n",
    "        \"research_problem \": \"contribution:research_problem \",\n",
    "        \"extraction_method \": \"contribution:extraction_method\"\n",
    "    },\n",
    "    \"rules\": {\n",
    "        \"authors\": \"Authors should be separated by a ;\"\n",
    "    }\n",
    "}\n",
    "\n",
    "elements = dynamic_checkbox_list.get_selected_options()\n",
    "\n",
    "output_lines = []\n",
    "for element in elements:\n",
    "    element_lower = element.lower()\n",
    "    if element_lower in data[\"rules\"]:\n",
    "        rule_message = data[\"rules\"][element_lower]\n",
    "        output_lines.append(f\"{element}: {rule_message}\")\n",
    "    else:\n",
    "        output_lines.append(element)\n",
    "\n",
    "result_string = \"\\n\".join(output_lines)\n",
    "\n",
    "print(result_string)\n"
   ]
  },
  {
   "cell_type": "markdown",
   "metadata": {},
   "source": [
    "**Task 2: Information extraction**\n",
    "\n",
    "In this phase, the workflow leverages a pre-trained language model to automatically extract information from the corpus created in the previous stage. This step is crucial for transforming raw textual data into a format aligned with the data model you have chosen.\n",
    "\n",
    "To start the process, please click the button presented below."
   ]
  },
  {
   "cell_type": "code",
   "execution_count": 134,
   "metadata": {
    "jupyter": {
     "source_hidden": true
    }
   },
   "outputs": [
    {
     "data": {
      "application/vnd.jupyter.widget-view+json": {
       "model_id": "381994ad5c0543d5a459712966e96772",
       "version_major": 2,
       "version_minor": 0
      },
      "text/plain": [
       "Button(description='Query and display results', layout=Layout(width='200px'), style=ButtonStyle())"
      ]
     },
     "metadata": {},
     "output_type": "display_data"
    },
    {
     "data": {
      "application/vnd.jupyter.widget-view+json": {
       "model_id": "83767add8ee740e3addc5b2b9522e0e1",
       "version_major": 2,
       "version_minor": 0
      },
      "text/plain": [
       "Output()"
      ]
     },
     "metadata": {},
     "output_type": "display_data"
    }
   ],
   "source": [
    "from mistralai import Mistral\n",
    "import os\n",
    "from corpus.embedding.document_util import DocumentUtil\n",
    "from dotenv import load_dotenv\n",
    "import ipywidgets as widgets\n",
    "from IPython.display import display, clear_output\n",
    "import json\n",
    "import pandas as pd\n",
    "from ipydatagrid import DataGrid, TextRenderer, VegaExpr\n",
    "\n",
    "load_dotenv()\n",
    "\n",
    "def process_pdfs(folder_path, result_string):\n",
    "    global results\n",
    "    results = []\n",
    "\n",
    "    progress_bar = widgets.IntProgress(\n",
    "        value=0,\n",
    "        min=0,\n",
    "        max=len([f for f in os.listdir(folder_path) if f.lower().endswith('.pdf')]),\n",
    "        description='Processing:',\n",
    "        bar_style='info',\n",
    "        orientation='horizontal'\n",
    "    )\n",
    "    display(progress_bar)\n",
    "\n",
    "    for idx, filename in enumerate(os.listdir(folder_path)):\n",
    "        if filename.lower().endswith('.pdf'):\n",
    "            file_path = os.path.join(folder_path, filename)            \n",
    "            test_doc = DocumentUtil.get_text_without_references(DocumentUtil, file_path)\n",
    "            \n",
    "            prompt = f\"\"\"\n",
    "                You are an information extraction system specialized in retrieving specified key information from scientific texts.\n",
    "                \n",
    "                Extract and provide the following key details from the given text: \n",
    "                \n",
    "                {result_string}. \n",
    "                \n",
    "                Use only the information available in the Scientific Text, without any external knowledge. If information is not found, return 'NOT FOUND' for that specific key.\n",
    "                \n",
    "                For each item, provide the extracted information along with an associated confidence score.\n",
    "                \n",
    "                You will respond only with a JSON object where each field is structured as follows:\n",
    "                \n",
    "                \"FieldName\": {{ \"Information\": \"<extracted information>\", \"Confidence\": <confidence score> }}\n",
    "                Do not include explanations or extra text. Keep the sentences short and precise.\n",
    "                \n",
    "                Scientific Text:\n",
    "                {test_doc}\n",
    "            \"\"\"\n",
    "            \n",
    "            s = Mistral(\n",
    "                api_key=os.getenv('MISTRALAI'),\n",
    "            )\n",
    "            \n",
    "            res = s.chat.complete(\n",
    "                model=\"mistral-large-latest\",\n",
    "                temperature=0,\n",
    "                messages=[\n",
    "                    {\n",
    "                        \"content\": prompt,\n",
    "                        \"role\": \"user\",\n",
    "                    },\n",
    "                ],\n",
    "                response_format={\"type\": \"json_object\"}\n",
    "            )\n",
    "            \n",
    "            if res is not None:\n",
    "                results.append(res.choices[0].message.content)\n",
    "            \n",
    "            progress_bar.value = idx + 1\n",
    "    \n",
    "    clear_output(wait=True)\n",
    "    print(\"Processing completed.\")\n",
    "    return results\n",
    "\n",
    "button = widgets.Button(\n",
    "    description=\"Run Extraction\",\n",
    "    button_style=\"success\",\n",
    "    tooltip=\"Click to extract data from PDFs\",\n",
    "    icon=\"check\"\n",
    ")\n",
    "\n",
    "button = widgets.Button(description=\"Query and display results\", layout=widgets.Layout(width=\"200px\"))\n",
    "output = widgets.Output()\n",
    "\n",
    "display(button, output)\n",
    "\n",
    "def button_click(b):\n",
    "    with output:\n",
    "        folder_path = \"corpus_result\"\n",
    "        results = process_pdfs(folder_path, result_string)\n",
    "\n",
    "\n",
    "button.on_click(button_click)\n"
   ]
  },
  {
   "cell_type": "markdown",
   "metadata": {},
   "source": [
    "**Task 3: Display and Validate**\n",
    "\n",
    "The button **\"Display\"** below would display a grid that represents the information extracted from the corpus. In this step, you can revise, modify, and validate specific cells and rows from the table. \n",
    "\n",
    "If you wish to deselect / reselect rows from the table, please use the first column \"Selected\". By double clicking on the corresponding cell, a checkbox would be displayed. By deselecting elements from the table, you will exclude the whole paper from the further process. "
   ]
  },
  {
   "cell_type": "code",
   "execution_count": 137,
   "metadata": {
    "jupyter": {
     "source_hidden": true
    },
    "scrolled": true
   },
   "outputs": [
    {
     "data": {
      "application/vnd.jupyter.widget-view+json": {
       "model_id": "18afd0dccff948f7aa24e1bbac06df8f",
       "version_major": 2,
       "version_minor": 0
      },
      "text/plain": [
       "Button(description='Display results', layout=Layout(width='200px'), style=ButtonStyle())"
      ]
     },
     "metadata": {},
     "output_type": "display_data"
    },
    {
     "data": {
      "application/vnd.jupyter.widget-view+json": {
       "model_id": "04bb0626716b4fe489bc420f12a86e55",
       "version_major": 2,
       "version_minor": 0
      },
      "text/plain": [
       "Output()"
      ]
     },
     "metadata": {},
     "output_type": "display_data"
    }
   ],
   "source": [
    "import json\n",
    "import pandas as pd\n",
    "from ipydatagrid import DataGrid, TextRenderer, VegaExpr\n",
    "from IPython.display import display\n",
    "import ipywidgets as widgets\n",
    "\n",
    "column_mapping = {\n",
    "    \"title\": \"paper:title\",\n",
    "    \"authors\": \"paper:authors\",\n",
    "    \"publication_month\": \"paper:publication_month\",\n",
    "    \"publication_year\": \"paper:publication_year\",\n",
    "    \"research_field\": \"paper:research_field\",\n",
    "    \"doi\": \"paper:doi\",\n",
    "    \"url\": \"paper:url\",\n",
    "    \"published_in\": \"paper:published_in\",\n",
    "    \"research_problem\": \"contribution:research_problem\",\n",
    "    \"extraction_method\": \"contribution:extraction_method\"\n",
    "}\n",
    "\n",
    "parsed_data = []\n",
    "for json_string in results:\n",
    "    try:\n",
    "        parsed_data.append(json.loads(json_string))\n",
    "    except TypeError:\n",
    "        parsed_data.append(json_string)\n",
    "    except json.JSONDecodeError as e:\n",
    "        print(\"Invalid JSON string:\", e)\n",
    "\n",
    "def flatten_json(json_obj):\n",
    "    flattened = {}\n",
    "    for key, value in json_obj.items():\n",
    "        mapped_key = column_mapping.get(key.lower(), key)\n",
    "        flattened[mapped_key] = value[\"Information\"]\n",
    "    return flattened\n",
    "\n",
    "flattened_data = [flatten_json(json_obj) for json_obj in parsed_data]\n",
    "\n",
    "df = pd.DataFrame(flattened_data)\n",
    "df[\"Selected\"] = True \n",
    "columns = [\"Selected\"] + [col for col in df.columns if col != \"Selected\"]\n",
    "df = df[columns]\n",
    "\n",
    "csv_file = \"doi_list.csv\"\n",
    "additional_column = pd.read_csv(csv_file)\n",
    "\n",
    "df = pd.concat([df, additional_column], axis=1)\n",
    "\n",
    "renderer = TextRenderer(\n",
    "    background_color=VegaExpr(\n",
    "        \"cell.value == 'NOT FOUND' ? 'red' : 'white'\"\n",
    "    )\n",
    ")\n",
    "\n",
    "huge_datagrid = DataGrid(\n",
    "    df,\n",
    "    base_row_size=30,\n",
    "    base_column_size=150,\n",
    "    layout={\"height\": \"400px\", \"width\": \"100%\"},\n",
    "    default_renderer=renderer,\n",
    "    editable=True\n",
    ")\n",
    "\n",
    "checkboxes = [\n",
    "    widgets.Checkbox(value=True, layout=widgets.Layout(margin=\"0 0 0 5px\")) for _ in range(len(df))\n",
    "]\n",
    "checkbox_column = widgets.VBox(\n",
    "    checkboxes, layout=widgets.Layout(align_items=\"stretch\", margin=\"0 5px 0 0\")\n",
    ")\n",
    "def validate_and_save(_):\n",
    "    updated_df = huge_datagrid.data \n",
    "    filtered_df = updated_df[updated_df[\"Selected\"]]\n",
    "    filtered_df = filtered_df.drop(columns=[\"Selected\"])\n",
    "    filtered_df.replace(\"NOT FOUND\", pd.NA, inplace=True)\n",
    "    filtered_df.to_csv(\"filtered_data.csv\", index=False)\n",
    "    print(f\"Filtered data saved to 'filtered_data.csv'\")\n",
    "\n",
    "validate_button = widgets.Button(description=\"Validate & Save\")\n",
    "validate_button.on_click(validate_and_save)\n",
    "\n",
    "layout = widgets.VBox([huge_datagrid], layout=widgets.Layout(gap=\"10px\"))\n",
    "\n",
    "\n",
    "button = widgets.Button(description=\"Display results\", layout=widgets.Layout(width=\"200px\"))\n",
    "output_task3 = widgets.Output()\n",
    "\n",
    "display(button, output_task3)\n",
    "\n",
    "def button_click(b):\n",
    "    with output_task3:\n",
    "        display(layout)\n",
    "\n",
    "\n",
    "\n",
    "button.on_click(button_click)"
   ]
  },
  {
   "cell_type": "markdown",
   "metadata": {},
   "source": [
    "The button **\"Validate & Save\"** below would save a csv file with the elements that are displayed."
   ]
  },
  {
   "cell_type": "code",
   "execution_count": 139,
   "metadata": {
    "jupyter": {
     "source_hidden": true
    }
   },
   "outputs": [
    {
     "data": {
      "application/vnd.jupyter.widget-view+json": {
       "model_id": "945dae81a01d44718a23fbe5be0c9b74",
       "version_major": 2,
       "version_minor": 0
      },
      "text/plain": [
       "Button(description='Validate & Save', style=ButtonStyle())"
      ]
     },
     "metadata": {},
     "output_type": "display_data"
    },
    {
     "data": {
      "application/vnd.jupyter.widget-view+json": {
       "model_id": "9c962756ae454ae6a976d04e6a9e29c4",
       "version_major": 2,
       "version_minor": 0
      },
      "text/plain": [
       "Output()"
      ]
     },
     "metadata": {},
     "output_type": "display_data"
    }
   ],
   "source": [
    "output_task4 = widgets.Output()\n",
    "\n",
    "def validate_and_save(_):\n",
    "    with output_task4:\n",
    "        updated_df = huge_datagrid.data \n",
    "        filtered_df = updated_df[updated_df[\"Selected\"].fillna(False)]\n",
    "        filtered_df = filtered_df.drop(columns=[\"Selected\"])\n",
    "        filtered_df.replace(\"NOT FOUND\", pd.NA, inplace=True)\n",
    "        filtered_df.to_csv(\"filtered_data.csv\", index=False)\n",
    "        print(f\"Filtered data saved to 'filtered_data.csv'\")\n",
    "\n",
    "validate_button = widgets.Button(description=\"Validate & Save\")\n",
    "validate_button.on_click(validate_and_save)\n",
    "\n",
    "display(validate_button, output_task4)"
   ]
  },
  {
   "cell_type": "code",
   "execution_count": 140,
   "metadata": {
    "jupyter": {
     "source_hidden": true
    }
   },
   "outputs": [
    {
     "data": {
      "application/vnd.jupyter.widget-view+json": {
       "model_id": "8fdb807db16b44ab87478cd8b8344fb8",
       "version_major": 2,
       "version_minor": 0
      },
      "text/plain": [
       "Button(description='Process CSV and Extract Entities', layout=Layout(width='300px'), style=ButtonStyle())"
      ]
     },
     "metadata": {},
     "output_type": "display_data"
    },
    {
     "data": {
      "application/vnd.jupyter.widget-view+json": {
       "model_id": "56e2546bd6264ef68e09c824f96eb797",
       "version_major": 2,
       "version_minor": 0
      },
      "text/plain": [
       "Output()"
      ]
     },
     "metadata": {},
     "output_type": "display_data"
    }
   ],
   "source": [
    "import pandas as pd\n",
    "import requests\n",
    "import json\n",
    "import ipywidgets as widgets\n",
    "from IPython.display import display\n",
    "\n",
    "api_url = \"https://labs.tib.eu/falcon/falcon2/api\"\n",
    "headers = {\"Content-Type\": \"application/json\"}\n",
    "\n",
    "csv_path = \"filtered_data.csv\"\n",
    "output_path = \"to_import_orkg.csv\"\n",
    "\n",
    "def extract_entities(text):\n",
    "    payload = {\"text\": text}\n",
    "    response = requests.post(f\"{api_url}?mode=long\", headers=headers, data=json.dumps(payload))\n",
    "    if response.status_code == 200:\n",
    "        result = response.json()\n",
    "        entities = result.get(\"entities_wikidata\", [])\n",
    "        return [entity[\"surface form\"] for entity in entities]\n",
    "    else:\n",
    "        print(f\"Falcon was unable to extract an entity.\")\n",
    "        return []\n",
    "\n",
    "def process_csv_and_extract_entities(_):\n",
    "    output_task5.clear_output() \n",
    "    with output_task5:\n",
    "        try:\n",
    "            df = pd.read_csv(csv_path)\n",
    "            new_data = df.copy()\n",
    "\n",
    "            for column in df.columns:\n",
    "                if \":\" not in column.lower():\n",
    "                    for index, cell in enumerate(df[column]):\n",
    "                        if pd.notna(cell):\n",
    "                            entities = extract_entities(str(cell))\n",
    "                            if entities:\n",
    "                                new_data.loc[index, column] = entities[0]\n",
    "\n",
    "                                for i, entity in enumerate(entities[1:], start=1):\n",
    "                                    new_col_name = f\"{column.lower()}({i})\"\n",
    "                                    insert_pos = new_data.columns.get_loc(column) + i\n",
    "\n",
    "                                    if new_col_name not in new_data.columns:\n",
    "                                        new_data.insert(insert_pos, new_col_name, \"\")\n",
    "\n",
    "                                    new_data.loc[index, new_col_name] = entity\n",
    "\n",
    "            new_data.columns = [col.lower() for col in new_data.columns]\n",
    "\n",
    "            columns = [new_data.columns[-1]] + list(new_data.columns[:-1])\n",
    "            new_data = new_data.reindex(columns=columns)\n",
    "\n",
    "            new_data.to_csv(output_path, index=False)\n",
    "            print(f\"Entity extraction completed. Results saved to {output_path}\")\n",
    "        except Exception as e:\n",
    "            print(f\"An error occurred: {e}\")\n",
    "\n",
    "button = widgets.Button(description=\"Process CSV and Extract Entities\", layout=widgets.Layout(width=\"300px\"))\n",
    "output_task5 = widgets.Output()\n",
    "\n",
    "button.on_click(process_csv_and_extract_entities)\n",
    "\n",
    "display(button, output_task5)\n"
   ]
  },
  {
   "cell_type": "code",
   "execution_count": null,
   "metadata": {
    "jupyter": {
     "source_hidden": true
    }
   },
   "outputs": [],
   "source": []
  }
 ],
 "metadata": {
  "kernelspec": {
   "display_name": "Python 3",
   "language": "python",
   "name": "python3"
  },
  "language_info": {
   "codemirror_mode": {
    "name": "ipython",
    "version": 3
   },
   "file_extension": ".py",
   "mimetype": "text/x-python",
   "name": "python",
   "nbconvert_exporter": "python",
   "pygments_lexer": "ipython3",
   "version": "3.8.5"
  }
 },
 "nbformat": 4,
 "nbformat_minor": 5
}
