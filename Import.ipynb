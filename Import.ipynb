{
 "cells": [
  {
   "cell_type": "markdown",
   "metadata": {},
   "source": [
    "# HITL-SSC Import "
   ]
  },
  {
   "cell_type": "markdown",
   "metadata": {},
   "source": [
    "In this stage of the workflow, the goal is to prepare and structure the data to be imported in ORKG.\n",
    "\n",
    "We provide tasks to properly create a suitably formated the CSV-file that was generated from the previous stage.\n",
    "\n",
    "For this, we consider the [formatting rules of ORKG](https://orkg.org/help-center/article/16/Import_CSV_files_in_ORKG).\n",
    "\n",
    "Each row in the import CSV-File represent a paper, where each column represent key data related to the paper. \n",
    "\n",
    "We present the Task **Format CSV** to create a new CSV File ready for import based on the information extracted from the previous stage.\n",
    "\n",
    "The goal is to manually map each extracted key information to its respective column label. \n",
    "\n"
   ]
  },
  {
   "cell_type": "code",
   "execution_count": 16,
   "metadata": {},
   "outputs": [
    {
     "name": "stdout",
     "output_type": "stream",
     "text": [
      "The new mapped DataFrame has been saved to new_mapped_dataframe.csv\n"
     ]
    }
   ],
   "source": [
    "import pandas as pd\n",
    "\n",
    "existing_file_path = \"filtered_dataframe.csv\"  \n",
    "existing_df = pd.read_csv(existing_file_path)\n",
    "\n",
    "new_columns = {\n",
    "    \"paper:title\": \"Title - Information\",\n",
    "    \"paper:authors\": \"Authors - Information\",\n",
    "    \"Keywords\": \"Keywords - Information\",\n",
    "    \"contribution:research_problem\": \"Research question - Information\"\n",
    "}\n",
    "\n",
    "new_df = pd.DataFrame()\n",
    "\n",
    "for new_col, existing_col in new_columns.items():\n",
    "    if existing_col in existing_df.columns:\n",
    "        new_df[new_col] = existing_df[existing_col]\n",
    "    else:\n",
    "        print(f\"Warning: {existing_col} does not exist in the original CSV\")\n",
    "\n",
    "new_file_path = \"new_mapped_dataframe.csv\"\n",
    "new_df.to_csv(new_file_path, index=False)\n",
    "\n",
    "print(f\"The new mapped DataFrame has been saved to {new_file_path}\")\n"
   ]
  },
  {
   "cell_type": "markdown",
   "metadata": {},
   "source": [
    "A required column is the title column that should be present for the ORKG-import and should be mapped respectively. \n",
    "\n",
    "In this task, you are required to manually input the labels that correspond to each key element. \n",
    "\n",
    "Required columns\n",
    "\n",
    "**paper:title** Title of the paper\n",
    "\n",
    "Optional columns\n",
    "\n",
    "**paper:authors** Paper authors\n",
    "\n",
    "**paper:publication_month** Numeric value of the publication month\n",
    "\n",
    "**paper:publication_year** Numeric value of the publication year\n",
    "\n",
    "**paper:research_field** Research field ID\n",
    "\n",
    "**paper:doi** The DOI of the paper (e.g. 10.1145/3360901.3364435)\n",
    "\n",
    "**paper:url** The URL of the paper (in case no DOI is provided, the URL is displayed instead)\n",
    "\n",
    "**paper:published_in** The venue of the paper\n",
    "\n",
    "**contribution:research_problem** A research problem\n",
    "\n",
    "**contribution:extraction_method** The extraction method of the contribution.\n",
    "\n",
    "It also possible to add additional columns for key values where the column names will be used as a predicate in the ORKG."
   ]
  },
  {
   "cell_type": "code",
   "execution_count": 19,
   "metadata": {},
   "outputs": [
    {
     "data": {
      "application/vnd.jupyter.widget-view+json": {
       "model_id": "b9493f438f374bb8a17751677a8cc0b9",
       "version_major": 2,
       "version_minor": 0
      },
      "text/plain": [
       "VBox(children=(HBox(children=(Label(value='Existing Column', layout=Layout(width='200px')), Label(value='New C…"
      ]
     },
     "metadata": {},
     "output_type": "display_data"
    },
    {
     "data": {
      "application/vnd.jupyter.widget-view+json": {
       "model_id": "35380aebec484a798e44de8d84a936ee",
       "version_major": 2,
       "version_minor": 0
      },
      "text/plain": [
       "Button(description='Save Mappings', style=ButtonStyle())"
      ]
     },
     "metadata": {},
     "output_type": "display_data"
    },
    {
     "data": {
      "application/vnd.jupyter.widget-view+json": {
       "model_id": "5d2edf24d7cc4a4cbc751e4e59fd8f37",
       "version_major": 2,
       "version_minor": 0
      },
      "text/plain": [
       "Output()"
      ]
     },
     "metadata": {},
     "output_type": "display_data"
    }
   ],
   "source": [
    "import pandas as pd\n",
    "import ipywidgets as widgets\n",
    "from IPython.display import display\n",
    "\n",
    "csv_path = \"filtered_dataframe.csv\" \n",
    "df = pd.read_csv(csv_path)\n",
    "\n",
    "existing_columns = df.columns\n",
    "\n",
    "column_mapping = {}\n",
    "rows = []\n",
    "\n",
    "header = widgets.HBox([\n",
    "    widgets.Label(\"Existing Column\", layout=widgets.Layout(width='200px')),\n",
    "    widgets.Label(\"New Column Name\", layout=widgets.Layout(width='300px'))\n",
    "])\n",
    "rows.append(header)\n",
    "\n",
    "for col in existing_columns:\n",
    "    label = widgets.Label(col, layout=widgets.Layout(width='200px'))\n",
    "    text_input = widgets.Text(layout=widgets.Layout(width='300px'))\n",
    "    column_mapping[col] = text_input\n",
    "    rows.append(widgets.HBox([label, text_input]))\n",
    "\n",
    "table = widgets.VBox(rows)\n",
    "display(table)\n",
    "\n",
    "save_button = widgets.Button(description=\"Save Mappings\")\n",
    "output = widgets.Output()\n",
    "\n",
    "def save_mappings(_):\n",
    "    with output:\n",
    "        output.clear_output()\n",
    "        mappings = {col: widget.value for col, widget in column_mapping.items()}\n",
    "        print(\"Column Mappings:\")\n",
    "        for existing_col, new_col in mappings.items():\n",
    "            print(f\"  {existing_col} -> {new_col}\")\n",
    "        \n",
    "        pd.DataFrame.from_dict(mappings, orient=\"index\", columns=[\"New Column Name\"]).to_csv(\"column_mappings.csv\")\n",
    "        print(\"\\nMappings saved to 'column_mappings.csv'.\")\n",
    "\n",
    "save_button.on_click(save_mappings)\n",
    "\n",
    "display(save_button, output)\n"
   ]
  },
  {
   "cell_type": "code",
   "execution_count": 11,
   "metadata": {},
   "outputs": [
    {
     "data": {
      "text/html": [
       "<div>\n",
       "<style scoped>\n",
       "    .dataframe tbody tr th:only-of-type {\n",
       "        vertical-align: middle;\n",
       "    }\n",
       "\n",
       "    .dataframe tbody tr th {\n",
       "        vertical-align: top;\n",
       "    }\n",
       "\n",
       "    .dataframe thead th {\n",
       "        text-align: right;\n",
       "    }\n",
       "</style>\n",
       "<table border=\"1\" class=\"dataframe\">\n",
       "  <thead>\n",
       "    <tr style=\"text-align: right;\">\n",
       "      <th></th>\n",
       "      <th>paper:title</th>\n",
       "      <th>paper:authors</th>\n",
       "      <th>Keywords</th>\n",
       "      <th>contribution:research_problem</th>\n",
       "    </tr>\n",
       "  </thead>\n",
       "  <tbody>\n",
       "    <tr>\n",
       "      <th>0</th>\n",
       "      <td>A NLP-Oriented Methodology to Enhance Event Lo...</td>\n",
       "      <td>Belén Ramos-Gutiérrez, F. Javier Ortega, Ángel...</td>\n",
       "      <td>Natural Language Processing - Event log qualit...</td>\n",
       "      <td>What are the most suitable NLP techniques to u...</td>\n",
       "    </tr>\n",
       "    <tr>\n",
       "      <th>1</th>\n",
       "      <td>An Empirical Investigation of the Intuitivenes...</td>\n",
       "      <td>Gregor Polanˇciˇc, Pavlo Brin, Lucineia Helois...</td>\n",
       "      <td>Process landscape - Diagram - Semantic transpa...</td>\n",
       "      <td>RQ1: Are common landscape designs semantically...</td>\n",
       "    </tr>\n",
       "    <tr>\n",
       "      <th>2</th>\n",
       "      <td>Secure Multi-party Computation for Inter-organ...</td>\n",
       "      <td>Gamal Elkoumy, Stephan A. Fahrenkrog-Petersen,...</td>\n",
       "      <td>Process mining - Privacy - Secure multi-party ...</td>\n",
       "      <td>NaN</td>\n",
       "    </tr>\n",
       "    <tr>\n",
       "      <th>3</th>\n",
       "      <td>Factors Impacting Successful BPMS Adoption and...</td>\n",
       "      <td>Ashley Koopman, Lisa F. Seymour</td>\n",
       "      <td>Business Process Management · Business Process...</td>\n",
       "      <td>How do organisational factors affect successfu...</td>\n",
       "    </tr>\n",
       "    <tr>\n",
       "      <th>4</th>\n",
       "      <td>Just Tell Me: Prompt Engineering in Business P...</td>\n",
       "      <td>Kiran Busch, Alexander Rochlitzer, Diana Sola,...</td>\n",
       "      <td>NaN</td>\n",
       "      <td>NaN</td>\n",
       "    </tr>\n",
       "  </tbody>\n",
       "</table>\n",
       "</div>"
      ],
      "text/plain": [
       "                                         paper:title  \\\n",
       "0  A NLP-Oriented Methodology to Enhance Event Lo...   \n",
       "1  An Empirical Investigation of the Intuitivenes...   \n",
       "2  Secure Multi-party Computation for Inter-organ...   \n",
       "3  Factors Impacting Successful BPMS Adoption and...   \n",
       "4  Just Tell Me: Prompt Engineering in Business P...   \n",
       "\n",
       "                                       paper:authors  \\\n",
       "0  Belén Ramos-Gutiérrez, F. Javier Ortega, Ángel...   \n",
       "1  Gregor Polanˇciˇc, Pavlo Brin, Lucineia Helois...   \n",
       "2  Gamal Elkoumy, Stephan A. Fahrenkrog-Petersen,...   \n",
       "3                    Ashley Koopman, Lisa F. Seymour   \n",
       "4  Kiran Busch, Alexander Rochlitzer, Diana Sola,...   \n",
       "\n",
       "                                            Keywords  \\\n",
       "0  Natural Language Processing - Event log qualit...   \n",
       "1  Process landscape - Diagram - Semantic transpa...   \n",
       "2  Process mining - Privacy - Secure multi-party ...   \n",
       "3  Business Process Management · Business Process...   \n",
       "4                                                NaN   \n",
       "\n",
       "                       contribution:research_problem  \n",
       "0  What are the most suitable NLP techniques to u...  \n",
       "1  RQ1: Are common landscape designs semantically...  \n",
       "2                                                NaN  \n",
       "3  How do organisational factors affect successfu...  \n",
       "4                                                NaN  "
      ]
     },
     "execution_count": 11,
     "metadata": {},
     "output_type": "execute_result"
    }
   ],
   "source": [
    "import pandas as pd\n",
    "import requests\n",
    "import json\n",
    "\n",
    "file_path = \"new_mapped_dataframe.csv\"\n",
    "df = pd.read_csv(file_path)\n",
    "\n",
    "df.head()\n"
   ]
  },
  {
   "cell_type": "code",
   "execution_count": 12,
   "metadata": {},
   "outputs": [],
   "source": [
    "def extract_entities(text, api_url=\"https://labs.tib.eu/falcon/falcon2/api\"):\n",
    "\n",
    "    headers = {\n",
    "        \"Content-Type\": \"application/json\"\n",
    "    }\n",
    "    payload = {\n",
    "        \"text\": text\n",
    "    }\n",
    "    try:\n",
    "        response = requests.post(f\"{api_url}?mode=long\", headers=headers, data=json.dumps(payload))\n",
    "        if response.status_code == 200:\n",
    "            result = response.json()\n",
    "            entities = result.get(\"entities_wikidata\", []\n",
    "            return entities\n",
    "        else:\n",
    "            print(f\"API Error: {response.status_code} - {response.text}\")\n",
    "            return []\n",
    "    except Exception as e:\n",
    "        print(f\"Exception occurred: {e}\")\n",
    "        return []\n"
   ]
  },
  {
   "cell_type": "code",
   "execution_count": 13,
   "metadata": {},
   "outputs": [],
   "source": [
    "\n",
    "columns_to_process = [\"Keywords\"]\n",
    "\n",
    "for col in columns_to_process:\n",
    "    new_col = f\"{col}\"\n",
    "    df[new_col] = df[col].apply(lambda x: extract_entities(x) if pd.notnull(x) else [])\n"
   ]
  },
  {
   "cell_type": "code",
   "execution_count": 15,
   "metadata": {},
   "outputs": [
    {
     "name": "stdout",
     "output_type": "stream",
     "text": [
      "The new mapped DataFrame has been saved to new_mapped_dataframe1.csv\n"
     ]
    }
   ],
   "source": [
    "new_file_path = \"new_mapped_dataframe1.csv\" \n",
    "df.to_csv(new_file_path, index=False)\n",
    "\n",
    "print(f\"The new mapped DataFrame has been saved to {new_file_path}\")"
   ]
  },
  {
   "cell_type": "code",
   "execution_count": 18,
   "metadata": {},
   "outputs": [
    {
     "data": {
      "text/html": [
       "<script>$(\"div.input\").hide()</script>"
      ],
      "text/plain": [
       "<IPython.core.display.HTML object>"
      ]
     },
     "metadata": {},
     "output_type": "display_data"
    },
    {
     "data": {
      "application/vnd.jupyter.widget-view+json": {
       "model_id": "57c4b9a560dd4e1cac2a8abc2e093788",
       "version_major": 2,
       "version_minor": 0
      },
      "text/plain": [
       "ToggleButton(value=False, description='Show code')"
      ]
     },
     "metadata": {},
     "output_type": "display_data"
    }
   ],
   "source": [
    "import ipywidgets as widgets\n",
    "from IPython.display import display, HTML\n",
    "\n",
    "javascript_functions = {False: \"hide()\", True: \"show()\"}\n",
    "button_descriptions  = {False: \"Show code\", True: \"Hide code\"}\n",
    "\n",
    "\n",
    "def toggle_code(state):\n",
    "\n",
    "    \"\"\"\n",
    "    Toggles the JavaScript show()/hide() function on the div.input element.\n",
    "    \"\"\"\n",
    "\n",
    "    output_string = \"<script>$(\\\"div.input\\\").{}</script>\"\n",
    "    output_args   = (javascript_functions[state],)\n",
    "    output        = output_string.format(*output_args)\n",
    "\n",
    "    display(HTML(output))\n",
    "\n",
    "\n",
    "def button_action(value):\n",
    "\n",
    "    \"\"\"\n",
    "    Calls the toggle_code function and updates the button description.\n",
    "    \"\"\"\n",
    "\n",
    "    state = value.new\n",
    "\n",
    "    toggle_code(state)\n",
    "\n",
    "    value.owner.description = button_descriptions[state]\n",
    "\n",
    "\n",
    "state = False\n",
    "toggle_code(state)\n",
    "\n",
    "button = widgets.ToggleButton(state, description = button_descriptions[state])\n",
    "button.observe(button_action, \"value\")\n",
    "\n",
    "display(button)"
   ]
  },
  {
   "cell_type": "code",
   "execution_count": null,
   "metadata": {},
   "outputs": [],
   "source": []
  }
 ],
 "metadata": {
  "kernelspec": {
   "display_name": "Python 3",
   "language": "python",
   "name": "python3"
  },
  "language_info": {
   "codemirror_mode": {
    "name": "ipython",
    "version": 3
   },
   "file_extension": ".py",
   "mimetype": "text/x-python",
   "name": "python",
   "nbconvert_exporter": "python",
   "pygments_lexer": "ipython3",
   "version": "3.8.5"
  }
 },
 "nbformat": 4,
 "nbformat_minor": 4
}
